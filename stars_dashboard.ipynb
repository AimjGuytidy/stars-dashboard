{
 "cells": [
  {
   "cell_type": "markdown",
   "metadata": {},
   "source": [
    "# Introduction"
   ]
  },
  {
   "cell_type": "markdown",
   "metadata": {},
   "source": [
    "In this notebook we are going to use the knowledge gained from the book <a href=\"https://www.amazon.com/Interactive-Dashboards-Data-Apps-Plotly/dp/1800568916\"><b>Interactive Dashboards and Data Apps with Plotly and Dash</b></a> to create a dashboard that gets updated frequently and that is user-friendly.</linebreak>\n",
    "\n",
    "We will create informative dashboards that can be shared with key stakeholders."
   ]
  },
  {
   "cell_type": "markdown",
   "metadata": {},
   "source": [
    "In this notebook we will start by preparing the data and make sure that they are ready before being transferred to the dashboards."
   ]
  },
  {
   "cell_type": "markdown",
   "metadata": {},
   "source": [
    "### Importing Packages\n",
    "\n",
    "we start by importing all the necessary packages that will be used throughtout the project"
   ]
  },
  {
   "cell_type": "code",
   "execution_count": 1,
   "metadata": {},
   "outputs": [
    {
     "name": "stdout",
     "output_type": "stream",
     "text": [
      "Package                   Version\n",
      "------------------------- ---------\n",
      "ansi2html                 1.6.0\n",
      "anyio                     2.2.0\n",
      "appnope                   0.1.2\n",
      "argon2-cffi               20.1.0\n",
      "async-generator           1.10\n",
      "attrs                     20.3.0\n",
      "Babel                     2.9.0\n",
      "backcall                  0.2.0\n",
      "bleach                    3.3.0\n",
      "Brotli                    1.0.9\n",
      "certifi                   2020.12.5\n",
      "cffi                      1.14.5\n",
      "chardet                   4.0.0\n",
      "click                     7.1.2\n",
      "colorama                  0.4.6\n",
      "dash                      1.19.0\n",
      "dash-bootstrap-components 0.11.3\n",
      "dash_core_components      1.15.0\n",
      "dash_html_components      1.1.2\n",
      "dash_renderer             1.9.0\n",
      "dash_table                4.11.2\n",
      "decorator                 4.4.2\n",
      "defusedxml                0.7.1\n",
      "entrypoints               0.3\n",
      "Flask                     1.1.2\n",
      "Flask-Compress            1.9.0\n",
      "future                    0.18.2\n",
      "gunicorn                  20.0.4\n",
      "idna                      2.10\n",
      "ipykernel                 5.5.0\n",
      "ipython                   7.21.0\n",
      "ipython-genutils          0.2.0\n",
      "itsdangerous              1.1.0\n",
      "jedi                      0.18.0\n",
      "Jinja2                    2.11.3\n",
      "joblib                    1.0.1\n",
      "json5                     0.9.5\n",
      "jsonschema                3.2.0\n",
      "jupyter-client            6.1.12\n",
      "jupyter-core              4.7.1\n",
      "jupyter-dash              0.4.0\n",
      "jupyter-packaging         0.7.12\n",
      "jupyter-server            1.4.1\n",
      "jupyterlab                3.0.12\n",
      "jupyterlab-pygments       0.1.2\n",
      "jupyterlab-server         2.3.0\n",
      "MarkupSafe                1.1.1\n",
      "mistune                   0.8.4\n",
      "nbclassic                 0.2.6\n",
      "nbclient                  0.5.3\n",
      "nbconvert                 6.0.7\n",
      "nbformat                  5.1.2\n",
      "nest-asyncio              1.5.1\n",
      "notebook                  6.2.0\n",
      "numpy                     1.20.1\n",
      "packaging                 20.9\n",
      "pandas                    1.2.3\n",
      "pandocfilters             1.4.3\n",
      "parso                     0.8.1\n",
      "pexpect                   4.8.0\n",
      "pickleshare               0.7.5\n",
      "pip                       24.3.1\n",
      "plotly                    4.14.3\n",
      "prometheus-client         0.9.0\n",
      "prompt-toolkit            3.0.17\n",
      "ptyprocess                0.7.0\n",
      "pycparser                 2.20\n",
      "Pygments                  2.8.1\n",
      "pyparsing                 2.4.7\n",
      "pyrsistent                0.17.3\n",
      "python-dateutil           2.8.1\n",
      "pytz                      2021.1\n",
      "pywin32                   308\n",
      "pywinpty                  2.0.14\n",
      "pyzmq                     22.0.3\n",
      "requests                  2.25.1\n",
      "retrying                  1.3.3\n",
      "scikit-learn              0.24.1\n",
      "scipy                     1.6.1\n",
      "Send2Trash                1.5.0\n",
      "setuptools                58.1.0\n",
      "six                       1.15.0\n",
      "sklearn                   0.0\n",
      "sniffio                   1.2.0\n",
      "terminado                 0.9.3\n",
      "testpath                  0.4.4\n",
      "threadpoolctl             2.1.0\n",
      "tornado                   6.1\n",
      "traitlets                 5.0.5\n",
      "urllib3                   1.26.4\n",
      "wcwidth                   0.2.5\n",
      "webencodings              0.5.1\n",
      "Werkzeug                  1.0.1\n"
     ]
    }
   ],
   "source": [
    "!pip list"
   ]
  },
  {
   "cell_type": "code",
   "execution_count": null,
   "metadata": {},
   "outputs": [],
   "source": [
    "import os\n",
    "import numpy as np\n",
    "import pandas as pd\n"
   ]
  },
  {
   "cell_type": "markdown",
   "metadata": {},
   "source": [
    "# Data Cleaning\n",
    "\n",
    "Before going further we have to ensure that the data is cleaned and ready to be used.\n",
    "\n",
    "we have already performed some data cleaning using R and STATA. now we will continue from there."
   ]
  },
  {
   "cell_type": "markdown",
   "metadata": {},
   "source": [
    "## Input Measurement\n",
    "we will start with Input measurement dashboard. where we will visualize and then display results from the Attendance, Classroom Observation activities"
   ]
  },
  {
   "cell_type": "markdown",
   "metadata": {},
   "source": [
    "### Importing Datasets\n",
    "we are going to import the datasets we will need for this activity"
   ]
  },
  {
   "cell_type": "code",
   "execution_count": 2,
   "metadata": {},
   "outputs": [
    {
     "name": "stderr",
     "output_type": "stream",
     "text": [
      "'pwd' is not recognized as an internal or external command,\n",
      "operable program or batch file.\n"
     ]
    }
   ],
   "source": [
    "#ensure that we are in the right path\n",
    "!pwd"
   ]
  },
  {
   "cell_type": "code",
   "execution_count": null,
   "metadata": {},
   "outputs": [],
   "source": []
  }
 ],
 "metadata": {
  "kernelspec": {
   "display_name": ".venv",
   "language": "python",
   "name": "python3"
  },
  "language_info": {
   "codemirror_mode": {
    "name": "ipython",
    "version": 3
   },
   "file_extension": ".py",
   "mimetype": "text/x-python",
   "name": "python",
   "nbconvert_exporter": "python",
   "pygments_lexer": "ipython3",
   "version": "3.9.13"
  }
 },
 "nbformat": 4,
 "nbformat_minor": 2
}
