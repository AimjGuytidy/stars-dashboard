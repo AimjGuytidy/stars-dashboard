{
 "cells": [
  {
   "cell_type": "markdown",
   "metadata": {},
   "source": [
    "# Introduction"
   ]
  },
  {
   "cell_type": "markdown",
   "metadata": {},
   "source": [
    "In this notebook we are going to use the knowledge gained from the book <a href=\"https://www.amazon.com/Interactive-Dashboards-Data-Apps-Plotly/dp/1800568916\"><b>Interactive Dashboards and Data Apps with Plotly and Dash</b></a> to create a dashboard that gets updated frequently and that is user-friendly.</linebreak>\n",
    "\n",
    "We will create informative dashboards that can be shared with key stakeholders."
   ]
  },
  {
   "cell_type": "markdown",
   "metadata": {},
   "source": [
    "In this notebook we will start by preparing the data and make sure that they are ready before being transferred to the dashboards."
   ]
  },
  {
   "cell_type": "markdown",
   "metadata": {},
   "source": [
    "# Data Cleaning\n",
    "\n",
    "Before going further we have to ensure that the data is cleaned and ready to be used.\n",
    "\n",
    "we have already performed some data cleaning using R and STATA. now we will continue from there."
   ]
  },
  {
   "cell_type": "markdown",
   "metadata": {},
   "source": [
    "## Input Measurement\n",
    "we will start with Input measurement dashboard. where we will visualize and then display results from the Attendance, Classroom Observation activities"
   ]
  },
  {
   "cell_type": "markdown",
   "metadata": {},
   "source": [
    "### Importing Datasets\n",
    "we are going to import the datasets we will need for this activity"
   ]
  },
  {
   "cell_type": "code",
   "execution_count": null,
   "metadata": {},
   "outputs": [],
   "source": []
  }
 ],
 "metadata": {
  "kernelspec": {
   "display_name": "env",
   "language": "python",
   "name": "python3"
  },
  "language_info": {
   "name": "python",
   "version": "3.13.1"
  }
 },
 "nbformat": 4,
 "nbformat_minor": 2
}
