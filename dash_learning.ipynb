{
 "cells": [
  {
   "cell_type": "code",
   "execution_count": 9,
   "metadata": {},
   "outputs": [],
   "source": [
    "from jupyter_dash import JupyterDash\n",
    "import dash_core_components as dcc\n",
    "import dash_html_components as html\n",
    "from dash.dependencies import Output, Input"
   ]
  },
  {
   "cell_type": "code",
   "execution_count": 2,
   "metadata": {},
   "outputs": [],
   "source": [
    "# app instantiation\n",
    "app = JupyterDash(__name__)"
   ]
  },
  {
   "cell_type": "code",
   "execution_count": 4,
   "metadata": {},
   "outputs": [],
   "source": [
    "# app layout\n",
    "app.layout = html.Div([\n",
    "    dcc.Dropdown(\n",
    "        options=[{\"label\" : color,\n",
    "                 \"value\" : color }\n",
    "                 for color in [\"blue\",\"green\",\"yellow\"]\n",
    "    ]),\n",
    "    html.Div()\n",
    "])"
   ]
  },
  {
   "cell_type": "code",
   "execution_count": 8,
   "metadata": {},
   "outputs": [
    {
     "data": {
      "text/html": [
       "\n",
       "        <iframe\n",
       "            width=\"100%\"\n",
       "            height=\"650\"\n",
       "            src=\"http://127.0.0.1:3333/\"\n",
       "            frameborder=\"0\"\n",
       "            allowfullscreen\n",
       "        ></iframe>\n",
       "        "
      ],
      "text/plain": [
       "<IPython.lib.display.IFrame at 0x1f949d73cd0>"
      ]
     },
     "metadata": {},
     "output_type": "display_data"
    }
   ],
   "source": [
    "# run the app\n",
    "if __name__ == \"__main__\":\n",
    "    app.run_server(mode = \"inline\",port = \"3333\")"
   ]
  },
  {
   "cell_type": "code",
   "execution_count": 14,
   "metadata": {},
   "outputs": [
    {
     "data": {
      "text/html": [
       "\n",
       "        <iframe\n",
       "            width=\"100%\"\n",
       "            height=\"650\"\n",
       "            src=\"http://127.0.0.1:2/\"\n",
       "            frameborder=\"0\"\n",
       "            allowfullscreen\n",
       "        ></iframe>\n",
       "        "
      ],
      "text/plain": [
       "<IPython.lib.display.IFrame at 0x1f949d6b970>"
      ]
     },
     "metadata": {},
     "output_type": "display_data"
    }
   ],
   "source": [
    "#using callbacks\n",
    "\n",
    "# app instantiation\n",
    "app = JupyterDash(__name__)\n",
    "\n",
    "# app layout\n",
    "app.layout = html.Div([\n",
    "    dcc.Dropdown(id= \"color_dropdown\",\n",
    "                 options = [\n",
    "                    {\"label\": color, \n",
    "                    \"value\": color}\n",
    "                    for color in [\"Blue\",\"Black\", \"Green\"]\n",
    "                ]),\n",
    "    html.Br(),\n",
    "    html.Div(id=\"display_dropdown\")\n",
    "])\n",
    "\n",
    "# callback functions\n",
    "@app.callback(Output(component_id = \"display_dropdown\",\n",
    "                     component_property= \"children\"),\n",
    "              Input(component_id = \"color_dropdown\",\n",
    "                    component_property = \"value\"))\n",
    "\n",
    "def display_selected_color(color):\n",
    "    if color is None:\n",
    "        color = \"Nothing\"\n",
    "    return \"The color is \" + color \n",
    "\n",
    "# run the app\n",
    "if __name__ == \"__main__\":\n",
    "    app.run_server(mode = \"inline\", port = 2)"
   ]
  },
  {
   "cell_type": "code",
   "execution_count": null,
   "metadata": {},
   "outputs": [
    {
     "data": {
      "text/html": [
       "\n",
       "        <iframe\n",
       "            width=\"100%\"\n",
       "            height=\"650\"\n",
       "            src=\"http://127.0.0.1:5/\"\n",
       "            frameborder=\"0\"\n",
       "            allowfullscreen\n",
       "        ></iframe>\n",
       "        "
      ],
      "text/plain": [
       "<IPython.lib.display.IFrame at 0x1f9462f08e0>"
      ]
     },
     "metadata": {},
     "output_type": "display_data"
    },
    {
     "ename": "",
     "evalue": "",
     "output_type": "error",
     "traceback": [
      "\u001b[1;31mThe Kernel crashed while executing code in the current cell or a previous cell. \n",
      "\u001b[1;31mPlease review the code in the cell(s) to identify a possible cause of the failure. \n",
      "\u001b[1;31mClick <a href='https://aka.ms/vscodeJupyterKernelCrash'>here</a> for more info. \n",
      "\u001b[1;31mView Jupyter <a href='command:jupyter.viewOutput'>log</a> for further details."
     ]
    }
   ],
   "source": [
    "# app instantiation\n",
    "app = JupyterDash(__name__)\n",
    "\n",
    "# information on the activities\n",
    "timeline = [\"first year\", \"second year\"]\n",
    "short_description = {\"first year\":\"The data collection activities spanned 10 districts while gathering data on 343 schools where 100 schools were in the\\\n",
    "                     control group while 243 schools were in the treatment group\",\n",
    "                     \"second year\":\"489 schools were visited across 10 districts to conduct STARS data collection activities.\"}\n",
    "\n",
    "# app layout\n",
    "app.layout = html.Div([\n",
    "    dcc.Dropdown(id = \"id_dropdown\",\n",
    "                 options = [{\"label\" : time,\n",
    "                            \"value\": time}\n",
    "                            for time in timeline]),\n",
    "    html.Br(),\n",
    "    html.Div(id = \"output_dropdown\")\n",
    "])\n",
    "\n",
    "# callback functions\n",
    "@app.callback(Output(component_id = \"output_dropdown\",\n",
    "                     component_property= \"children\"),\n",
    "              Input(component_id = \"id_dropdown\",\n",
    "                    component_property = \"value\"))\n",
    "\n",
    "def activity_info(timeline):\n",
    "    if timeline is None:\n",
    "        return \"STARS project is being implemented by Innovation for Poverty Actions in partnership with Georgetown University, MINEDUC, REB, and NESA\"\n",
    "    return \"For the \" + timeline + \", \" + short_description[timeline]\n",
    "\n",
    "# run the app\n",
    "if __name__ == \"__main__\":\n",
    "    app.run_server(mode = \"inline\", port = 5)"
   ]
  },
  {
   "cell_type": "code",
   "execution_count": null,
   "metadata": {},
   "outputs": [],
   "source": []
  }
 ],
 "metadata": {
  "kernelspec": {
   "display_name": ".venv",
   "language": "python",
   "name": "python3"
  },
  "language_info": {
   "codemirror_mode": {
    "name": "ipython",
    "version": 3
   },
   "file_extension": ".py",
   "mimetype": "text/x-python",
   "name": "python",
   "nbconvert_exporter": "python",
   "pygments_lexer": "ipython3",
   "version": "3.9.13"
  }
 },
 "nbformat": 4,
 "nbformat_minor": 2
}
