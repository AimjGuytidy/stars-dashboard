{
 "cells": [
  {
   "cell_type": "code",
   "execution_count": 1,
   "metadata": {},
   "outputs": [],
   "source": [
    "from jupyter_dash import JupyterDash\n",
    "import dash_core_components as dcc\n",
    "import dash_html_components as html\n",
    "from dash.dependencies import Output, Input\n",
    "import os \n",
    "import pandas as pd\n",
    "import numpy as np\n",
    "from plotly import graph_objects as go"
   ]
  },
  {
   "cell_type": "code",
   "execution_count": 2,
   "metadata": {},
   "outputs": [
    {
     "data": {
      "text/plain": [
       "'c:\\\\Users\\\\HP\\\\source\\\\repos\\\\STARS_dashboard\\\\stars-dashboard'"
      ]
     },
     "execution_count": 2,
     "metadata": {},
     "output_type": "execute_result"
    }
   ],
   "source": [
    "pwd"
   ]
  },
  {
   "cell_type": "code",
   "execution_count": 3,
   "metadata": {},
   "outputs": [
    {
     "data": {
      "text/plain": [
       "'C:\\\\Users\\\\HP\\\\source\\\\repos\\\\STARS_dashboard'"
      ]
     },
     "execution_count": 3,
     "metadata": {},
     "output_type": "execute_result"
    }
   ],
   "source": [
    "os.chdir(r\"C:\\Users\\HP\\source\\repos\\STARS_dashboard\")\n",
    "os.getcwd()"
   ]
  },
  {
   "cell_type": "code",
   "execution_count": 2,
   "metadata": {},
   "outputs": [],
   "source": [
    "# app instantiation\n",
    "app = JupyterDash(__name__)"
   ]
  },
  {
   "cell_type": "code",
   "execution_count": 4,
   "metadata": {},
   "outputs": [],
   "source": [
    "# app layout\n",
    "app.layout = html.Div([\n",
    "    dcc.Dropdown(\n",
    "        options=[{\"label\" : color,\n",
    "                 \"value\" : color }\n",
    "                 for color in [\"blue\",\"green\",\"yellow\"]\n",
    "    ]),\n",
    "    html.Div()\n",
    "])"
   ]
  },
  {
   "cell_type": "code",
   "execution_count": null,
   "metadata": {},
   "outputs": [],
   "source": [
    "# run the app\n",
    "if __name__ == \"__main__\":\n",
    "    app.run_server(mode = \"inline\",port = \"3333\")"
   ]
  },
  {
   "cell_type": "code",
   "execution_count": null,
   "metadata": {},
   "outputs": [],
   "source": [
    "#using callbacks\n",
    "\n",
    "# app instantiation\n",
    "app = JupyterDash(__name__)\n",
    "\n",
    "# app layout\n",
    "app.layout = html.Div([\n",
    "    dcc.Dropdown(id= \"color_dropdown\",\n",
    "                 options = [\n",
    "                    {\"label\": color, \n",
    "                    \"value\": color}\n",
    "                    for color in [\"Blue\",\"Black\", \"Green\"]\n",
    "                ]),\n",
    "    html.Br(),\n",
    "    html.Div(id=\"display_dropdown\")\n",
    "])\n",
    "\n",
    "# callback functions\n",
    "@app.callback(Output(component_id = \"display_dropdown\",\n",
    "                     component_property= \"children\"),\n",
    "              Input(component_id = \"color_dropdown\",\n",
    "                    component_property = \"value\"))\n",
    "\n",
    "def display_selected_color(color):\n",
    "    if color is None:\n",
    "        color = \"Nothing\"\n",
    "    return \"The color is \" + color \n",
    "\n",
    "# run the app\n",
    "if __name__ == \"__main__\":\n",
    "    app.run_server(mode = \"inline\", port = 2)"
   ]
  },
  {
   "cell_type": "code",
   "execution_count": null,
   "metadata": {},
   "outputs": [],
   "source": [
    "# app instantiation\n",
    "app = JupyterDash(__name__)\n",
    "\n",
    "# information on the activities\n",
    "timeline = [\"first year\", \"second year\"]\n",
    "short_description = {\"first year\":\"The data collection activities spanned 10 districts while gathering data on 343 schools where 100 schools were in the\\\n",
    "                     control group while 243 schools were in the treatment group\",\n",
    "                     \"second year\":\"489 schools were visited across 10 districts to conduct STARS data collection activities.\"}\n",
    "\n",
    "# app layout\n",
    "app.layout = html.Div([\n",
    "    dcc.Dropdown(id = \"id_dropdown\",\n",
    "                 options = [{\"label\" : time,\n",
    "                            \"value\": time}\n",
    "                            for time in timeline]),\n",
    "    html.Br(),\n",
    "    html.Div(id = \"output_dropdown\")\n",
    "])\n",
    "\n",
    "# callback functions\n",
    "@app.callback(Output(component_id = \"output_dropdown\",\n",
    "                     component_property= \"children\"),\n",
    "              Input(component_id = \"id_dropdown\",\n",
    "                    component_property = \"value\"))\n",
    "\n",
    "def activity_info(timeline):\n",
    "    if timeline is None:\n",
    "        return \"STARS project is being implemented by Innovation for Poverty Actions in partnership with Georgetown University, MINEDUC, REB, and NESA\"\n",
    "    return [html.H3(timeline), f'For the  {timeline}, {short_description[timeline]}']\n",
    "\n",
    "# run the app\n",
    "if __name__ == \"__main__\":\n",
    "    app.run_server(mode = \"inline\", port = 5)"
   ]
  },
  {
   "cell_type": "markdown",
   "metadata": {},
   "source": [
    "## Working with Plotly's Figure Objects"
   ]
  },
  {
   "cell_type": "markdown",
   "metadata": {},
   "source": [
    "### Understanding the Figure Object"
   ]
  },
  {
   "cell_type": "code",
   "execution_count": null,
   "metadata": {},
   "outputs": [],
   "source": [
    "go.Figure()"
   ]
  },
  {
   "cell_type": "code",
   "execution_count": null,
   "metadata": {},
   "outputs": [],
   "source": [
    "fig = go.Figure()\n",
    "fig.add_scatter(x=[1,2,3],y=[4,2,3])\n",
    "fig.show()"
   ]
  },
  {
   "cell_type": "code",
   "execution_count": null,
   "metadata": {},
   "outputs": [],
   "source": [
    "fig.add_scatter(x = [3,5,2,4], y = [5,2,6,0])"
   ]
  },
  {
   "cell_type": "markdown",
   "metadata": {},
   "source": [
    "#### Layout Attribute"
   ]
  },
  {
   "cell_type": "code",
   "execution_count": null,
   "metadata": {},
   "outputs": [],
   "source": [
    "fig.layout.title = \"Example 0\"\n",
    "fig.layout.xaxis.title = \"x axis\"\n",
    "fig.layout.yaxis.title = \"y axis\"\n",
    "fig.show()"
   ]
  },
  {
   "cell_type": "code",
   "execution_count": null,
   "metadata": {},
   "outputs": [],
   "source": [
    "# exploring figure objects\n",
    "fig.show(\"json\")"
   ]
  },
  {
   "cell_type": "code",
   "execution_count": null,
   "metadata": {},
   "outputs": [],
   "source": [
    "fig.show()"
   ]
  },
  {
   "cell_type": "code",
   "execution_count": null,
   "metadata": {},
   "outputs": [],
   "source": [
    "fig.show(config = {\"displaylogo\" : False,\n",
    "                   \"modeBarButtonsToAdd\" : [\"drawrect\",\n",
    "                                            \"drawcircle\",\n",
    "                                            \"eraseshape\"]})"
   ]
  },
  {
   "cell_type": "markdown",
   "metadata": {},
   "source": [
    "#### Converting figures"
   ]
  },
  {
   "cell_type": "code",
   "execution_count": 9,
   "metadata": {},
   "outputs": [],
   "source": [
    "# To Html\n",
    "fig.write_html(\"html_plot.html\",\n",
    "               config = {\"toImageButtonOptions\" : {\"format\" : \"svg\"}})"
   ]
  },
  {
   "cell_type": "code",
   "execution_count": null,
   "metadata": {},
   "outputs": [],
   "source": [
    "# to images\n",
    "fig.write_image(\"apps/images/example_image.svg\",\n",
    "                height = 800, width = 900)"
   ]
  },
  {
   "cell_type": "markdown",
   "metadata": {},
   "source": [
    "# plotting using real data"
   ]
  },
  {
   "cell_type": "code",
   "execution_count": 4,
   "metadata": {},
   "outputs": [],
   "source": [
    "# import datasets to use\n",
    "\n",
    "# we start by using data entry data from year 1\n",
    "\n",
    "data_entry_team_1 = pd.read_stata(r\"data\\ipa-data\\learning_assessment\\data_entry\\year1\\clean\\first_entry\\Final Assessment First Entry Clean.dta\")\n",
    "data_entry_team_2 = pd.read_stata(r\"data\\ipa-data\\learning_assessment\\data_entry\\year1\\clean\\second_entry\\Final Assessment Second Entry Clean.dta\")\n",
    "data_entry_reconciliation = pd.read_stata(r\"data\\ipa-data\\learning_assessment\\data_entry\\year1\\clean\\reconciliation\\reconciled_clean.dta\")"
   ]
  },
  {
   "cell_type": "code",
   "execution_count": null,
   "metadata": {},
   "outputs": [],
   "source": [
    "data_entry_team_1.head(5)"
   ]
  },
  {
   "cell_type": "code",
   "execution_count": null,
   "metadata": {},
   "outputs": [],
   "source": [
    "data_entry_team_1.dropna(axis=1,how=\"all\").describe(include = [np.number]).T"
   ]
  },
  {
   "cell_type": "code",
   "execution_count": null,
   "metadata": {},
   "outputs": [],
   "source": [
    "data_entry_team_1.dropna(axis=1,how=\"all\").describe(include=\"all\",datetime_is_numeric=True).T"
   ]
  },
  {
   "cell_type": "code",
   "execution_count": 8,
   "metadata": {},
   "outputs": [
    {
     "name": "stdout",
     "output_type": "stream",
     "text": [
      "<class 'pandas.core.frame.DataFrame'>\n",
      "Int64Index: 56906 entries, 0 to 56905\n",
      "Columns: 456 entries, deviceid to v454\n",
      "dtypes: category(407), datetime64[ns](5), float64(10), object(34)\n",
      "memory usage: 43.9+ MB\n"
     ]
    }
   ],
   "source": [
    "data_entry_team_1.info()"
   ]
  },
  {
   "cell_type": "code",
   "execution_count": 5,
   "metadata": {},
   "outputs": [
    {
     "name": "stdout",
     "output_type": "stream",
     "text": [
      "['kin1marks_p6_kin1p6_kin_q021p6_k', 'kin1marks_p6_kin1p6_kin_q061p6_k', 'kin1marks_p6_kin1p6_kin_q101p6_k', 'v453', 'kin1marks_p5_kin1p5_kin_q141p5_k', 'v454']\n"
     ]
    }
   ],
   "source": [
    "# check columns that are entirely empty\n",
    "empty_cols = [col for col in data_entry_team_1 if  data_entry_team_1[col].isna().all()]\n",
    "print(empty_cols)"
   ]
  },
  {
   "cell_type": "code",
   "execution_count": 6,
   "metadata": {},
   "outputs": [
    {
     "name": "stdout",
     "output_type": "stream",
     "text": [
      "[]\n"
     ]
    }
   ],
   "source": [
    "#drop empty cols\n",
    "df_team_1 = data_entry_team_1.copy()\n",
    "df_team_1 = df_team_1.drop(empty_cols,axis = 1)\n",
    "\n",
    "# check columns that are entirely empty\n",
    "empty_cols0 = [col for col in df_team_1 if  df_team_1[col].isna().all()]\n",
    "print(empty_cols0)"
   ]
  },
  {
   "cell_type": "code",
   "execution_count": 7,
   "metadata": {},
   "outputs": [
    {
     "name": "stdout",
     "output_type": "stream",
     "text": [
      "Index(['spv', 'fo', 'eng_participation', 'p1_eng_q01_sub1', 'p1_eng_q01_sub2',\n",
      "       'p1_eng_q02_sub1', 'p1_eng_q02_sub2', 'p1_eng_q02_sub3',\n",
      "       'p1_eng_q03_sub1', 'p1_eng_q03_sub2',\n",
      "       ...\n",
      "       'p2_leg_q01_sub1', 'p2_leg_q02_sub1', 'p2_leg_q03_sub1',\n",
      "       'p2_leg_q04_sub1', 'p2_leg_q05_sub1', 'p3_leg_q01_sub1',\n",
      "       'p3_leg_q02_sub1', 'p3_leg_q03_sub1', 'p3_leg_q04_sub1',\n",
      "       'p3_leg_q05_sub1'],\n",
      "      dtype='object', length=407)\n"
     ]
    }
   ],
   "source": [
    "# let's check categorical columns\n",
    "#cat_cols = [col for col in df_team_1 if df_team_1[col].dtypes.name == \"category\"]\n",
    "#print(cat_cols)\n",
    "\n",
    "cat_cols0 = df_team_1.select_dtypes([\"category\"]).columns\n",
    "print(cat_cols0)"
   ]
  },
  {
   "cell_type": "markdown",
   "metadata": {},
   "source": [
    "we have 407 columns that are categorical, this makes sense where, except for svp and fo, the columns represent participation or marks received by students with 3 choices: correct, incorrect, or left blank"
   ]
  },
  {
   "cell_type": "code",
   "execution_count": null,
   "metadata": {},
   "outputs": [],
   "source": [
    "# let's visualize categorical columns\n",
    "print(df_team_1[cat_cols0])"
   ]
  },
  {
   "cell_type": "markdown",
   "metadata": {},
   "source": [
    "let's check for one of the categorical columns the choices available:"
   ]
  },
  {
   "cell_type": "code",
   "execution_count": 29,
   "metadata": {},
   "outputs": [
    {
     "name": "stdout",
     "output_type": "stream",
     "text": [
      "{0: 'Left blank', 1: 'No', 2: 'Yes'}\n",
      "{0: 'No', 1: 'Yes'}\n",
      "{0: 'Shema Christian', 1: 'NAHIMANA Reverien   ', 2: 'Havugimana Saidi', 3: 'Uwimana  Pauline', 4: 'NTAREMBA George   ', 5: 'Hatangimana Gisele'}\n",
      "{0: 'Rushambara Alexis', 1: 'NSHIMIYIMANA PASCAL', 2: 'Habonimana Gabriel', 3: 'Nirere Sandrine', 4: 'NIYIBIZI Leandre', 5: 'UWASE Francine\\xa0', 6: 'Uwizeyimana Viateur', 7: 'Rusangwa Adolphe', 8: 'IRADUKUNDA GAHIRE ADOLPHE', 9: 'Ingabire Emelyne', 10: 'MUSHIMIRE Clarisse', 11: 'Mudahogora Placidie', 12: 'TUYISENGE ANICK', 13: 'Bagirishyaka Fulgence', 14: 'Fidele Iragena', 15: 'MUKANKOMEJE  Chantal', 16: 'NABAGIZE JUSTINE', 17: 'NTAWUSIGIRYAYO  Eric ', 18: 'IRAMBONA Valens', 19: 'Shingiro John', 20: 'UMUBYEYI MARIE GRACE', 21: 'MURAGIJIMANA Obadia', 22: 'MASENGESHO Samuel', 23: 'UMUBYEYI Claudine', 24: 'DUFATANYE Devota', 25: 'NSHIMIYIMANA Bernard', 26: 'MUKANSANGA Jacqueline', 27: 'UWIMANA Jeannette', 28: 'NAHAYO Jean Damascene', 29: 'DUSENGUMUREMYI Yvonne', 30: 'NSENGUMUREMYI Felix', 31: 'NDIKUMWENAYO Epimaque', 32: 'DUHAWUMUGISHA Nathan', 33: 'GATETE Fred', 34: 'MUTUYIMANA Josephine', 35: 'KAVAMAHANGA Lambert', 36: 'AENGAMIYE RWABUKWISI Smith Eugene', 37: 'HABARUREMA Jean Paul', 38: 'INGABIRE Marie Grace', 39: 'TUYISHIME Clementine', 40: 'HABIYAREMYE Aimable', 41: 'BITEGETSIMANA Samuel', 42: 'MUGISHA David', 43: 'Mwungura Ntagawa', 44: 'Niyonsaba Jean Pierre', 45: 'Nsengimana Joseph', 46: 'NSENGIYUMVA  Innocent', 47: 'TUYISINGIZE Nepomuscene', 48: 'Nshimiyimana Jean Marie vianney', 49: 'Umuhire  Jerome', 50: 'Hakizimana Emmy', 51: 'Masa Mutuyeyezu Redampta', 52: 'Mukarunyana Anysie', 53: 'Mukashumbusho Jeannette', 54: 'Ndayambaje Patrick', 55: 'RUBANDA Fidel', 56: 'Niyitegeka Moise', 57: 'Nzayinambaho  Ange Bernard', 58: 'Ruzindana Frank', 59: 'Muhire Emmanuel', 60: 'TUYISHIMIRE Marie Claire', 61: 'Alyppe KUBWAYO', 62: 'AMINA URWIBUTSO', 63: 'Amos KADENDE', 64: 'Annoncee Uwimana Nyandwi', 65: 'Antoine NZAYISENGA', 66: 'Aphrodis UKURIKIYEYEZU', 67: 'BIENVENUE Marie Claire', 68: 'Byarugaba J.de Dieu', 69: 'chantal umutesi', 70: 'Charlotte Umwali', 71: 'Mvuyekure wellars', 72: 'Desire MUTWARE', 73: 'DUSABIMANA Angelique', 74: 'Edith Muragijimana', 75: 'Egide TUBISABIMANA', 76: 'Emile JABO', 77: 'Emmanuel KANANI', 78: 'Emmanuel MANIRAFASHA', 79: 'Emmanuel NSENGIMANA', 80: 'Ephrem NKUNZABO', 81: 'Fidele MUTUYIMANA', 82: 'Fidele NIKUZE', 83: 'FLORENT NSABIMANA', 84: 'Georgie UWAMBAJIMANA', 85: 'Grace NISHIMWE', 86: 'HABIMANA MUSSA', 87: 'IMANANTIYANDETSE Marc', 88: 'IMANISHIMWE Djarudi Djarudi', 89: 'IRASUBIZA Zawadi', 90: 'ISABELLE musabyemariya', 91: 'Ismael DUSENGIMANA', 92: 'Jackson DUKUZEMUNGU', 93: 'Janvier NZANYWAYIMANA', 94: 'Jean Baptiste MUSHIMIYIMANA', 95: 'JEAN BAPTISTE NIYOYITA', 96: 'Jean Bosco Twagirimana', 97: 'Jean Damascene Mbwirabumva', 98: 'Jean de Dieu Safari', 99: 'Jean Marie Vianney CYUBAHIRO', 100: 'Jonathan Habineza', 101: 'Joseline Nisingizwe', 102: 'Kuradusenge Janvier', 103: 'KWIHANGANA Marc', 104: 'Kwizera Emmanuel', 105: 'Maniraho Maurice', 106: 'MANISHIMWE Samuel', 107: 'Mukarubayiza Triphine', 108: 'MUSANABOSE Yves', 109: 'NDABANANIYE David', 110: 'Ndagijimana Samuel', 111: 'Noah KURAMA', 112: 'Robert Muganga', 113: 'Sandrine MAHORO', 114: 'Solange Uwilingiyimana', 115: 'Sylvestre MUSENGIMANA', 116: 'Theoneste Maniraguha', 117: 'UTAZIRUBANDA NOEL Roudge', 118: 'UWANYIRIGIRA Claire', 119: 'Valentine NIYITEGEKA', 120: 'Victor MUGWANEZA', 121: 'INGABIRE Innocent', 122: 'Asiimwe Samuel', 123: 'Musabirema  Dominique', 124: 'Kampire Docile', 125: 'Alice Uwiduhaye', 126: 'Hakuzimana  Edouard', 127: 'Olivier NGWIJE', 128: 'Giraneza Claudine', 129: 'MANIRABARUTA Marie Claire  ', 130: 'SIBOMANA Jean Damascene', 131: 'Karanganwa Anthony', 132: 'Niyonzima Simeon', 133: 'Uwizeye Alphonse', 134: 'Mukangwije Ancille', 135: 2500922, 136: 'Mukeshimana  Theogene', 137: 'Iribagiza Annette', 138: 'NISHIMWE Denise Amelie', 139: 'MUKANTAGANDA Liberatha   ', 140: 'MWIZA Florence', 141: 'Nakure Marie Aimee'}\n"
     ]
    }
   ],
   "source": [
    "#print(df_team_1[\"p1_eng_q02_sub3\"].cat.codes.unique())\n",
    "#print(df_team_1[\"p1_eng_q02_sub3\"].cat.categories.unique())\n",
    "print(dict(enumerate(df_team_1[\"p1_eng_q02_sub3\"].cat.categories)))\n",
    "print(dict(enumerate(df_team_1[\"eng_participation\"].cat.categories)))\n",
    "print(dict(enumerate(df_team_1[\"spv\"].cat.categories)))\n",
    "print(dict(enumerate(df_team_1[\"fo\"].cat.categories)))"
   ]
  },
  {
   "cell_type": "code",
   "execution_count": 9,
   "metadata": {},
   "outputs": [
    {
     "data": {
      "text/html": [
       "<div>\n",
       "<style scoped>\n",
       "    .dataframe tbody tr th:only-of-type {\n",
       "        vertical-align: middle;\n",
       "    }\n",
       "\n",
       "    .dataframe tbody tr th {\n",
       "        vertical-align: top;\n",
       "    }\n",
       "\n",
       "    .dataframe thead th {\n",
       "        text-align: right;\n",
       "    }\n",
       "</style>\n",
       "<table border=\"1\" class=\"dataframe\">\n",
       "  <thead>\n",
       "    <tr style=\"text-align: right;\">\n",
       "      <th></th>\n",
       "      <th>codes</th>\n",
       "      <th>names</th>\n",
       "    </tr>\n",
       "  </thead>\n",
       "  <tbody>\n",
       "    <tr>\n",
       "      <th>0</th>\n",
       "      <td>0</td>\n",
       "      <td>Rushambara Alexis</td>\n",
       "    </tr>\n",
       "    <tr>\n",
       "      <th>1</th>\n",
       "      <td>1</td>\n",
       "      <td>NSHIMIYIMANA PASCAL</td>\n",
       "    </tr>\n",
       "    <tr>\n",
       "      <th>2</th>\n",
       "      <td>2</td>\n",
       "      <td>Habonimana Gabriel</td>\n",
       "    </tr>\n",
       "    <tr>\n",
       "      <th>3</th>\n",
       "      <td>3</td>\n",
       "      <td>Nirere Sandrine</td>\n",
       "    </tr>\n",
       "    <tr>\n",
       "      <th>4</th>\n",
       "      <td>4</td>\n",
       "      <td>NIYIBIZI Leandre</td>\n",
       "    </tr>\n",
       "    <tr>\n",
       "      <th>5</th>\n",
       "      <td>5</td>\n",
       "      <td>UWASE Francine</td>\n",
       "    </tr>\n",
       "    <tr>\n",
       "      <th>6</th>\n",
       "      <td>6</td>\n",
       "      <td>Uwizeyimana Viateur</td>\n",
       "    </tr>\n",
       "    <tr>\n",
       "      <th>7</th>\n",
       "      <td>7</td>\n",
       "      <td>Rusangwa Adolphe</td>\n",
       "    </tr>\n",
       "    <tr>\n",
       "      <th>8</th>\n",
       "      <td>8</td>\n",
       "      <td>IRADUKUNDA GAHIRE ADOLPHE</td>\n",
       "    </tr>\n",
       "    <tr>\n",
       "      <th>9</th>\n",
       "      <td>9</td>\n",
       "      <td>Ingabire Emelyne</td>\n",
       "    </tr>\n",
       "    <tr>\n",
       "      <th>10</th>\n",
       "      <td>10</td>\n",
       "      <td>MUSHIMIRE Clarisse</td>\n",
       "    </tr>\n",
       "    <tr>\n",
       "      <th>11</th>\n",
       "      <td>11</td>\n",
       "      <td>Mudahogora Placidie</td>\n",
       "    </tr>\n",
       "    <tr>\n",
       "      <th>12</th>\n",
       "      <td>12</td>\n",
       "      <td>TUYISENGE ANICK</td>\n",
       "    </tr>\n",
       "    <tr>\n",
       "      <th>13</th>\n",
       "      <td>13</td>\n",
       "      <td>Bagirishyaka Fulgence</td>\n",
       "    </tr>\n",
       "    <tr>\n",
       "      <th>14</th>\n",
       "      <td>14</td>\n",
       "      <td>Fidele Iragena</td>\n",
       "    </tr>\n",
       "    <tr>\n",
       "      <th>15</th>\n",
       "      <td>15</td>\n",
       "      <td>MUKANKOMEJE  Chantal</td>\n",
       "    </tr>\n",
       "    <tr>\n",
       "      <th>16</th>\n",
       "      <td>16</td>\n",
       "      <td>NABAGIZE JUSTINE</td>\n",
       "    </tr>\n",
       "    <tr>\n",
       "      <th>17</th>\n",
       "      <td>17</td>\n",
       "      <td>NTAWUSIGIRYAYO  Eric</td>\n",
       "    </tr>\n",
       "    <tr>\n",
       "      <th>18</th>\n",
       "      <td>18</td>\n",
       "      <td>IRAMBONA Valens</td>\n",
       "    </tr>\n",
       "    <tr>\n",
       "      <th>19</th>\n",
       "      <td>19</td>\n",
       "      <td>Shingiro John</td>\n",
       "    </tr>\n",
       "  </tbody>\n",
       "</table>\n",
       "</div>"
      ],
      "text/plain": [
       "    codes                      names\n",
       "0       0          Rushambara Alexis\n",
       "1       1        NSHIMIYIMANA PASCAL\n",
       "2       2         Habonimana Gabriel\n",
       "3       3            Nirere Sandrine\n",
       "4       4           NIYIBIZI Leandre\n",
       "5       5            UWASE Francine \n",
       "6       6        Uwizeyimana Viateur\n",
       "7       7           Rusangwa Adolphe\n",
       "8       8  IRADUKUNDA GAHIRE ADOLPHE\n",
       "9       9           Ingabire Emelyne\n",
       "10     10         MUSHIMIRE Clarisse\n",
       "11     11        Mudahogora Placidie\n",
       "12     12            TUYISENGE ANICK\n",
       "13     13      Bagirishyaka Fulgence\n",
       "14     14             Fidele Iragena\n",
       "15     15       MUKANKOMEJE  Chantal\n",
       "16     16           NABAGIZE JUSTINE\n",
       "17     17      NTAWUSIGIRYAYO  Eric \n",
       "18     18            IRAMBONA Valens\n",
       "19     19              Shingiro John"
      ]
     },
     "execution_count": 9,
     "metadata": {},
     "output_type": "execute_result"
    }
   ],
   "source": [
    "enumerators = dict(enumerate(df_team_1[\"fo\"].cat.categories))\n",
    "enumerators = pd.DataFrame(enumerators.items(),columns=[\"codes\", \"names\"])\n",
    "enumerators.head(20)"
   ]
  },
  {
   "cell_type": "code",
   "execution_count": 10,
   "metadata": {},
   "outputs": [
    {
     "name": "stdout",
     "output_type": "stream",
     "text": [
      "Index([], dtype='object')\n",
      "[-1  2  1  0]\n",
      "[ 1  0 -1]\n",
      "[0 1 4 2 5 3]\n",
      "[110 109   2  89 103  99  36 112  13  98   5 137  40  48 119  26   8 140\n",
      " 105  76  42  74  14  59  71 134  91 127  17   4  95  37 116 128  31  52\n",
      "  61 121  51  96  77 102  54  55 122  97 113 139  21 136  35  62  90 108\n",
      "  85 124  79  49  75 138  33  86  68  83 126  64  28  44  30  81   6  88\n",
      "  23  41  11 107  67  65 120 100  15 123  34  10  43  47  57  94   9   3\n",
      "  12  50  70  22  69 131 125 101  20  38  87  16  73  63  92   7 133  46\n",
      "  45 104  80  78  84 114  32   0  72  66  53 117 130 118  24  93  18 106\n",
      "  82  39  27  60 129 141  19  56  29  58 115   1 111 132  25 135]\n"
     ]
    }
   ],
   "source": [
    "#we are going to convert categorical variables to their numeric values\n",
    "df_team_1[cat_cols0] = df_team_1[cat_cols0].apply(lambda x: x.cat.codes)\n",
    "#check the results\n",
    "print(df_team_1.select_dtypes([\"category\"]).columns)\n",
    "print(df_team_1[\"p1_eng_q02_sub3\"].unique())\n",
    "print(df_team_1[\"eng_participation\"].unique())\n",
    "print(df_team_1[\"spv\"].unique())\n",
    "print(df_team_1[\"fo\"].unique())"
   ]
  },
  {
   "cell_type": "code",
   "execution_count": 37,
   "metadata": {},
   "outputs": [
    {
     "name": "stdout",
     "output_type": "stream",
     "text": [
      "<class 'pandas.core.frame.DataFrame'>\n",
      "Int64Index: 56906 entries, 0 to 56905\n",
      "Columns: 450 entries, deviceid to enddate\n",
      "dtypes: datetime64[ns](5), float64(4), int16(1), int8(406), object(34)\n",
      "memory usage: 41.2+ MB\n"
     ]
    }
   ],
   "source": [
    "df_team_1.info()"
   ]
  },
  {
   "cell_type": "markdown",
   "metadata": {},
   "source": [
    "we have successfully converted categorical variables to numeric variables"
   ]
  },
  {
   "cell_type": "code",
   "execution_count": 11,
   "metadata": {},
   "outputs": [
    {
     "name": "stdout",
     "output_type": "stream",
     "text": [
      "Index(['deviceid', 'devicephonenum', 'username', 'device_info', 'duration',\n",
      "       'caseid', 'district', 'sector', 'school', 'grade', 'student_code',\n",
      "       'student_code_other', 'student_code_name', 'time_check_eng_1',\n",
      "       'time_check_eng_2', 'time_check_eng_3', 'time_check_eng_4',\n",
      "       'time_check_eng_5', 'time_check_eng_6', 'time_check_math_1',\n",
      "       'time_check_math_2', 'time_check_math_3', 'time_check_math_4',\n",
      "       'time_check_math_5', 'time_check_math_6', 'time_check_kiny_4',\n",
      "       'time_check_kiny_5', 'time_check_kiny_6', 'time_check_kiny_1',\n",
      "       'time_check_kiny_2', 'time_check_kiny_3', 'time_check_end',\n",
      "       'instancename', 'key'],\n",
      "      dtype='object')\n"
     ]
    }
   ],
   "source": [
    "#check object type variables\n",
    "object_cols = df_team_1.select_dtypes([\"object\"]).columns\n",
    "print(object_cols)"
   ]
  },
  {
   "cell_type": "code",
   "execution_count": 12,
   "metadata": {},
   "outputs": [
    {
     "data": {
      "text/html": [
       "<div>\n",
       "<style scoped>\n",
       "    .dataframe tbody tr th:only-of-type {\n",
       "        vertical-align: middle;\n",
       "    }\n",
       "\n",
       "    .dataframe tbody tr th {\n",
       "        vertical-align: top;\n",
       "    }\n",
       "\n",
       "    .dataframe thead th {\n",
       "        text-align: right;\n",
       "    }\n",
       "</style>\n",
       "<table border=\"1\" class=\"dataframe\">\n",
       "  <thead>\n",
       "    <tr style=\"text-align: right;\">\n",
       "      <th></th>\n",
       "      <th>deviceid</th>\n",
       "      <th>devicephonenum</th>\n",
       "      <th>username</th>\n",
       "      <th>device_info</th>\n",
       "      <th>duration</th>\n",
       "      <th>caseid</th>\n",
       "      <th>district</th>\n",
       "      <th>sector</th>\n",
       "      <th>school</th>\n",
       "      <th>grade</th>\n",
       "      <th>...</th>\n",
       "      <th>time_check_math_6</th>\n",
       "      <th>time_check_kiny_4</th>\n",
       "      <th>time_check_kiny_5</th>\n",
       "      <th>time_check_kiny_6</th>\n",
       "      <th>time_check_kiny_1</th>\n",
       "      <th>time_check_kiny_2</th>\n",
       "      <th>time_check_kiny_3</th>\n",
       "      <th>time_check_end</th>\n",
       "      <th>instancename</th>\n",
       "      <th>key</th>\n",
       "    </tr>\n",
       "  </thead>\n",
       "  <tbody>\n",
       "    <tr>\n",
       "      <th>0</th>\n",
       "      <td>E0D3C54C-EFFE-4185-8F00-80D1CE7B79E6</td>\n",
       "      <td></td>\n",
       "      <td>collect</td>\n",
       "      <td>Apple|iPhone|15.7.5|SurveyCTO Collect 2.80 (27...</td>\n",
       "      <td>180</td>\n",
       "      <td></td>\n",
       "      <td>Nyanza</td>\n",
       "      <td>Busoro</td>\n",
       "      <td>210207</td>\n",
       "      <td>P3</td>\n",
       "      <td>...</td>\n",
       "      <td>2023-Aug-7 15:09:59</td>\n",
       "      <td></td>\n",
       "      <td></td>\n",
       "      <td></td>\n",
       "      <td>2023-Aug-7 15:10:01</td>\n",
       "      <td>2023-Aug-7 15:10:01</td>\n",
       "      <td>2023-Aug-7 15:10:01</td>\n",
       "      <td>2023-Aug-7 15:10:01</td>\n",
       "      <td>student_id210207190062</td>\n",
       "      <td>uuid:0000201e-8b84-40fa-8e37-05be1b8fac9b</td>\n",
       "    </tr>\n",
       "    <tr>\n",
       "      <th>1</th>\n",
       "      <td>e9129293624d72e5</td>\n",
       "      <td></td>\n",
       "      <td>collect</td>\n",
       "      <td>samsung|SM-T225|13|SurveyCTO Collect 2.80.2 (2...</td>\n",
       "      <td>217</td>\n",
       "      <td></td>\n",
       "      <td>Musanze</td>\n",
       "      <td>Busogo</td>\n",
       "      <td>430114</td>\n",
       "      <td>P3</td>\n",
       "      <td>...</td>\n",
       "      <td>2023-Jul-28 15:31:48</td>\n",
       "      <td></td>\n",
       "      <td></td>\n",
       "      <td></td>\n",
       "      <td>2023-Jul-28 15:31:51</td>\n",
       "      <td>2023-Jul-28 15:31:51</td>\n",
       "      <td>2023-Jul-28 15:31:51</td>\n",
       "      <td>2023-Jul-28 15:31:51</td>\n",
       "      <td>student_id430101190753</td>\n",
       "      <td>uuid:0000a616-72b4-485a-a7e3-e57ad1b48f16</td>\n",
       "    </tr>\n",
       "    <tr>\n",
       "      <th>2</th>\n",
       "      <td>d73df25fad2cc33b</td>\n",
       "      <td></td>\n",
       "      <td>collect</td>\n",
       "      <td>samsung|SM-T225|13|SurveyCTO Collect 2.80.2 (2...</td>\n",
       "      <td>575</td>\n",
       "      <td></td>\n",
       "      <td>Gakenke</td>\n",
       "      <td>Kivuruga</td>\n",
       "      <td>420915</td>\n",
       "      <td>P5</td>\n",
       "      <td>...</td>\n",
       "      <td>2023-Jul-24 09:12:33</td>\n",
       "      <td>2023-Jul-24 09:13:07</td>\n",
       "      <td>2023-Jul-24 09:13:07</td>\n",
       "      <td>2023-Jul-24 09:15:24</td>\n",
       "      <td></td>\n",
       "      <td></td>\n",
       "      <td></td>\n",
       "      <td>2023-Jul-24 09:15:24</td>\n",
       "      <td></td>\n",
       "      <td>uuid:00027ad6-86ea-49c2-aca1-eaf59f3eebc3</td>\n",
       "    </tr>\n",
       "    <tr>\n",
       "      <th>3</th>\n",
       "      <td>d6ee4c5c7759f9a6</td>\n",
       "      <td></td>\n",
       "      <td>collect</td>\n",
       "      <td>samsung|SM-T290|11|SurveyCTO Collect 2.80 (9b6...</td>\n",
       "      <td>401</td>\n",
       "      <td></td>\n",
       "      <td>Musanze</td>\n",
       "      <td>Gacaca</td>\n",
       "      <td>430324</td>\n",
       "      <td>P6</td>\n",
       "      <td>...</td>\n",
       "      <td>2023-Jul-31 10:55:21</td>\n",
       "      <td>2023-Jul-31 10:56:50</td>\n",
       "      <td>2023-Jul-31 10:56:50</td>\n",
       "      <td>2023-Jul-31 10:56:50</td>\n",
       "      <td></td>\n",
       "      <td></td>\n",
       "      <td></td>\n",
       "      <td>2023-Jul-31 10:59:55</td>\n",
       "      <td>student_id430311200702</td>\n",
       "      <td>uuid:00046f63-696f-44ba-b660-6395263d17eb</td>\n",
       "    </tr>\n",
       "    <tr>\n",
       "      <th>4</th>\n",
       "      <td>87c4ab681ae1d513</td>\n",
       "      <td></td>\n",
       "      <td>collect (not yet authenticated)</td>\n",
       "      <td>samsung|SM-T505N|10|SurveyCTO Collect 2.80.2 (...</td>\n",
       "      <td>429</td>\n",
       "      <td></td>\n",
       "      <td>Nyanza</td>\n",
       "      <td>Busoro</td>\n",
       "      <td>210209</td>\n",
       "      <td>P5</td>\n",
       "      <td>...</td>\n",
       "      <td>2023-Aug-7 09:22:47</td>\n",
       "      <td>2023-Aug-7 09:22:50</td>\n",
       "      <td>2023-Aug-7 09:22:50</td>\n",
       "      <td>2023-Aug-7 09:25:09</td>\n",
       "      <td></td>\n",
       "      <td></td>\n",
       "      <td></td>\n",
       "      <td>2023-Aug-7 09:25:09</td>\n",
       "      <td>student_id210209182748</td>\n",
       "      <td>uuid:00056471-339f-4339-8532-1944427947f9</td>\n",
       "    </tr>\n",
       "  </tbody>\n",
       "</table>\n",
       "<p>5 rows × 34 columns</p>\n",
       "</div>"
      ],
      "text/plain": [
       "                               deviceid devicephonenum  \\\n",
       "0  E0D3C54C-EFFE-4185-8F00-80D1CE7B79E6                  \n",
       "1                      e9129293624d72e5                  \n",
       "2                      d73df25fad2cc33b                  \n",
       "3                      d6ee4c5c7759f9a6                  \n",
       "4                      87c4ab681ae1d513                  \n",
       "\n",
       "                          username  \\\n",
       "0                          collect   \n",
       "1                          collect   \n",
       "2                          collect   \n",
       "3                          collect   \n",
       "4  collect (not yet authenticated)   \n",
       "\n",
       "                                         device_info duration caseid district  \\\n",
       "0  Apple|iPhone|15.7.5|SurveyCTO Collect 2.80 (27...      180          Nyanza   \n",
       "1  samsung|SM-T225|13|SurveyCTO Collect 2.80.2 (2...      217         Musanze   \n",
       "2  samsung|SM-T225|13|SurveyCTO Collect 2.80.2 (2...      575         Gakenke   \n",
       "3  samsung|SM-T290|11|SurveyCTO Collect 2.80 (9b6...      401         Musanze   \n",
       "4  samsung|SM-T505N|10|SurveyCTO Collect 2.80.2 (...      429          Nyanza   \n",
       "\n",
       "     sector  school grade  ...     time_check_math_6     time_check_kiny_4  \\\n",
       "0    Busoro  210207    P3  ...   2023-Aug-7 15:09:59                         \n",
       "1    Busogo  430114    P3  ...  2023-Jul-28 15:31:48                         \n",
       "2  Kivuruga  420915    P5  ...  2023-Jul-24 09:12:33  2023-Jul-24 09:13:07   \n",
       "3    Gacaca  430324    P6  ...  2023-Jul-31 10:55:21  2023-Jul-31 10:56:50   \n",
       "4    Busoro  210209    P5  ...   2023-Aug-7 09:22:47   2023-Aug-7 09:22:50   \n",
       "\n",
       "      time_check_kiny_5     time_check_kiny_6     time_check_kiny_1  \\\n",
       "0                                               2023-Aug-7 15:10:01   \n",
       "1                                              2023-Jul-28 15:31:51   \n",
       "2  2023-Jul-24 09:13:07  2023-Jul-24 09:15:24                         \n",
       "3  2023-Jul-31 10:56:50  2023-Jul-31 10:56:50                         \n",
       "4   2023-Aug-7 09:22:50   2023-Aug-7 09:25:09                         \n",
       "\n",
       "      time_check_kiny_2     time_check_kiny_3        time_check_end  \\\n",
       "0   2023-Aug-7 15:10:01   2023-Aug-7 15:10:01   2023-Aug-7 15:10:01   \n",
       "1  2023-Jul-28 15:31:51  2023-Jul-28 15:31:51  2023-Jul-28 15:31:51   \n",
       "2                                              2023-Jul-24 09:15:24   \n",
       "3                                              2023-Jul-31 10:59:55   \n",
       "4                                               2023-Aug-7 09:25:09   \n",
       "\n",
       "             instancename                                        key  \n",
       "0  student_id210207190062  uuid:0000201e-8b84-40fa-8e37-05be1b8fac9b  \n",
       "1  student_id430101190753  uuid:0000a616-72b4-485a-a7e3-e57ad1b48f16  \n",
       "2                          uuid:00027ad6-86ea-49c2-aca1-eaf59f3eebc3  \n",
       "3  student_id430311200702  uuid:00046f63-696f-44ba-b660-6395263d17eb  \n",
       "4  student_id210209182748  uuid:00056471-339f-4339-8532-1944427947f9  \n",
       "\n",
       "[5 rows x 34 columns]"
      ]
     },
     "execution_count": 12,
     "metadata": {},
     "output_type": "execute_result"
    }
   ],
   "source": [
    "# let's view the object type variables\n",
    "df_team_1[object_cols].head()"
   ]
  },
  {
   "cell_type": "code",
   "execution_count": 13,
   "metadata": {},
   "outputs": [],
   "source": [
    "#drop unuseful columns\n",
    "df_team_1 = df_team_1.drop(['deviceid', 'devicephonenum', 'username', 'caseid','device_info','instancename', 'key'], axis=1)"
   ]
  },
  {
   "cell_type": "code",
   "execution_count": 14,
   "metadata": {},
   "outputs": [
    {
     "name": "stdout",
     "output_type": "stream",
     "text": [
      "Index(['duration', 'district', 'sector', 'school', 'grade', 'student_code',\n",
      "       'student_code_other', 'student_code_name', 'time_check_eng_1',\n",
      "       'time_check_eng_2', 'time_check_eng_3', 'time_check_eng_4',\n",
      "       'time_check_eng_5', 'time_check_eng_6', 'time_check_math_1',\n",
      "       'time_check_math_2', 'time_check_math_3', 'time_check_math_4',\n",
      "       'time_check_math_5', 'time_check_math_6', 'time_check_kiny_4',\n",
      "       'time_check_kiny_5', 'time_check_kiny_6', 'time_check_kiny_1',\n",
      "       'time_check_kiny_2', 'time_check_kiny_3', 'time_check_end'],\n",
      "      dtype='object')\n"
     ]
    }
   ],
   "source": [
    "#check object type variables again\n",
    "object_cols0 = df_team_1.select_dtypes([\"object\"]).columns\n",
    "print(object_cols0)"
   ]
  },
  {
   "cell_type": "code",
   "execution_count": null,
   "metadata": {},
   "outputs": [],
   "source": [
    "print(df_team_1[\"school\"].unique())"
   ]
  },
  {
   "cell_type": "code",
   "execution_count": null,
   "metadata": {},
   "outputs": [],
   "source": [
    "print(df_team_1[\"student_code\"].unique())\n",
    "print(df_team_1[\"student_code_name\"].unique())\n",
    "print(df_team_1[\"student_code_other\"].unique())\n",
    "print(df_team_1[\"time_check_eng_1\"].unique())\n",
    "print(df_team_1[\"time_check_end\"].unique())"
   ]
  },
  {
   "cell_type": "code",
   "execution_count": null,
   "metadata": {},
   "outputs": [],
   "source": [
    "df_team_1[[\"student_code\",\"student_code_other\"]][df_team_1[\"student_code_other\"]!=\".\"]"
   ]
  },
  {
   "cell_type": "code",
   "execution_count": 53,
   "metadata": {},
   "outputs": [
    {
     "data": {
      "text/plain": [
       "True"
      ]
     },
     "execution_count": 53,
     "metadata": {},
     "output_type": "execute_result"
    }
   ],
   "source": [
    "df_team_1[\"student_code_other\"][41] == df_team_1[\"student_code\"][41] "
   ]
  },
  {
   "cell_type": "code",
   "execution_count": 15,
   "metadata": {},
   "outputs": [
    {
     "name": "stdout",
     "output_type": "stream",
     "text": [
      "['.' '-555' '555' '540712210384' '21108002025' '555555555555'\n",
      " '510712002010' '540712210425' '421807055001' '4305061550' '5707122003003'\n",
      " '4211020003025' '211001230088' '421102210191' '42111204027'\n",
      " '320028002001']\n"
     ]
    }
   ],
   "source": [
    "#Assigning values to student_code_other based on student_code variable\n",
    "df_team_1.loc[df_team_1[\"student_code_other\"] == df_team_1[\"student_code\"], \"student_code_other\"] = \".\"\n",
    "print(df_team_1.student_code_other.unique())"
   ]
  },
  {
   "cell_type": "code",
   "execution_count": 16,
   "metadata": {},
   "outputs": [
    {
     "data": {
      "text/html": [
       "<div>\n",
       "<style scoped>\n",
       "    .dataframe tbody tr th:only-of-type {\n",
       "        vertical-align: middle;\n",
       "    }\n",
       "\n",
       "    .dataframe tbody tr th {\n",
       "        vertical-align: top;\n",
       "    }\n",
       "\n",
       "    .dataframe thead th {\n",
       "        text-align: right;\n",
       "    }\n",
       "</style>\n",
       "<table border=\"1\" class=\"dataframe\">\n",
       "  <thead>\n",
       "    <tr style=\"text-align: right;\">\n",
       "      <th></th>\n",
       "      <th>student_code</th>\n",
       "      <th>student_code_other</th>\n",
       "    </tr>\n",
       "  </thead>\n",
       "  <tbody>\n",
       "    <tr>\n",
       "      <th>100</th>\n",
       "      <td>420311001002</td>\n",
       "      <td>-555</td>\n",
       "    </tr>\n",
       "    <tr>\n",
       "      <th>671</th>\n",
       "      <td>420311001003</td>\n",
       "      <td>-555</td>\n",
       "    </tr>\n",
       "    <tr>\n",
       "      <th>1268</th>\n",
       "      <td>421512190377</td>\n",
       "      <td>555</td>\n",
       "    </tr>\n",
       "    <tr>\n",
       "      <th>1443</th>\n",
       "      <td>420806001007</td>\n",
       "      <td>555</td>\n",
       "    </tr>\n",
       "    <tr>\n",
       "      <th>2433</th>\n",
       "      <td>421512190802</td>\n",
       "      <td>555</td>\n",
       "    </tr>\n",
       "    <tr>\n",
       "      <th>...</th>\n",
       "      <td>...</td>\n",
       "      <td>...</td>\n",
       "    </tr>\n",
       "    <tr>\n",
       "      <th>52350</th>\n",
       "      <td>420903001015</td>\n",
       "      <td>555</td>\n",
       "    </tr>\n",
       "    <tr>\n",
       "      <th>52646</th>\n",
       "      <td>421207003001</td>\n",
       "      <td>555</td>\n",
       "    </tr>\n",
       "    <tr>\n",
       "      <th>53804</th>\n",
       "      <td>421512190417</td>\n",
       "      <td>555</td>\n",
       "    </tr>\n",
       "    <tr>\n",
       "      <th>53823</th>\n",
       "      <td>421512002004</td>\n",
       "      <td>555</td>\n",
       "    </tr>\n",
       "    <tr>\n",
       "      <th>54817</th>\n",
       "      <td>421509005006</td>\n",
       "      <td>555</td>\n",
       "    </tr>\n",
       "  </tbody>\n",
       "</table>\n",
       "<p>64 rows × 2 columns</p>\n",
       "</div>"
      ],
      "text/plain": [
       "       student_code student_code_other\n",
       "100    420311001002               -555\n",
       "671    420311001003               -555\n",
       "1268   421512190377                555\n",
       "1443   420806001007                555\n",
       "2433   421512190802                555\n",
       "...             ...                ...\n",
       "52350  420903001015                555\n",
       "52646  421207003001                555\n",
       "53804  421512190417                555\n",
       "53823  421512002004                555\n",
       "54817  421509005006                555\n",
       "\n",
       "[64 rows x 2 columns]"
      ]
     },
     "execution_count": 16,
     "metadata": {},
     "output_type": "execute_result"
    }
   ],
   "source": [
    "df_team_1.loc[df_team_1[\"student_code_other\"] != \".\", [\"student_code\",\"student_code_other\"]]"
   ]
  },
  {
   "cell_type": "code",
   "execution_count": 17,
   "metadata": {},
   "outputs": [
    {
     "data": {
      "text/plain": [
       "array(['-555', '555', '540712210384', '21108002025', '555555555555',\n",
       "       '510712002010', '540712210425', '421807055001', '4305061550',\n",
       "       '5707122003003', '4211020003025', '211001230088', '421102210191',\n",
       "       '42111204027', '320028002001'], dtype=object)"
      ]
     },
     "execution_count": 17,
     "metadata": {},
     "output_type": "execute_result"
    }
   ],
   "source": [
    "df_team_1.loc[df_team_1[\"student_code_other\"] != \".\", \"student_code_other\"].unique()"
   ]
  },
  {
   "cell_type": "code",
   "execution_count": 18,
   "metadata": {},
   "outputs": [
    {
     "data": {
      "text/html": [
       "<div>\n",
       "<style scoped>\n",
       "    .dataframe tbody tr th:only-of-type {\n",
       "        vertical-align: middle;\n",
       "    }\n",
       "\n",
       "    .dataframe tbody tr th {\n",
       "        vertical-align: top;\n",
       "    }\n",
       "\n",
       "    .dataframe thead th {\n",
       "        text-align: right;\n",
       "    }\n",
       "</style>\n",
       "<table border=\"1\" class=\"dataframe\">\n",
       "  <thead>\n",
       "    <tr style=\"text-align: right;\">\n",
       "      <th></th>\n",
       "      <th>student_code</th>\n",
       "      <th>student_code_other</th>\n",
       "    </tr>\n",
       "  </thead>\n",
       "  <tbody>\n",
       "    <tr>\n",
       "      <th>2800</th>\n",
       "      <td>540712210382</td>\n",
       "      <td>540712210384</td>\n",
       "    </tr>\n",
       "    <tr>\n",
       "      <th>5634</th>\n",
       "      <td>421108002025</td>\n",
       "      <td>21108002025</td>\n",
       "    </tr>\n",
       "    <tr>\n",
       "      <th>20610</th>\n",
       "      <td>540712002010</td>\n",
       "      <td>510712002010</td>\n",
       "    </tr>\n",
       "    <tr>\n",
       "      <th>21698</th>\n",
       "      <td>540712001110</td>\n",
       "      <td>540712210425</td>\n",
       "    </tr>\n",
       "    <tr>\n",
       "      <th>23344</th>\n",
       "      <td>421807005001</td>\n",
       "      <td>421807055001</td>\n",
       "    </tr>\n",
       "    <tr>\n",
       "      <th>24300</th>\n",
       "      <td>430506160550</td>\n",
       "      <td>4305061550</td>\n",
       "    </tr>\n",
       "    <tr>\n",
       "      <th>27585</th>\n",
       "      <td>540712003003</td>\n",
       "      <td>5707122003003</td>\n",
       "    </tr>\n",
       "    <tr>\n",
       "      <th>31098</th>\n",
       "      <td>421102003025</td>\n",
       "      <td>4211020003025</td>\n",
       "    </tr>\n",
       "    <tr>\n",
       "      <th>31101</th>\n",
       "      <td>211001002110</td>\n",
       "      <td>211001230088</td>\n",
       "    </tr>\n",
       "    <tr>\n",
       "      <th>33039</th>\n",
       "      <td>421102001100</td>\n",
       "      <td>421102210191</td>\n",
       "    </tr>\n",
       "    <tr>\n",
       "      <th>44755</th>\n",
       "      <td>421112004027</td>\n",
       "      <td>42111204027</td>\n",
       "    </tr>\n",
       "    <tr>\n",
       "      <th>46584</th>\n",
       "      <td>320208002001</td>\n",
       "      <td>320028002001</td>\n",
       "    </tr>\n",
       "  </tbody>\n",
       "</table>\n",
       "</div>"
      ],
      "text/plain": [
       "       student_code student_code_other\n",
       "2800   540712210382       540712210384\n",
       "5634   421108002025        21108002025\n",
       "20610  540712002010       510712002010\n",
       "21698  540712001110       540712210425\n",
       "23344  421807005001       421807055001\n",
       "24300  430506160550         4305061550\n",
       "27585  540712003003      5707122003003\n",
       "31098  421102003025      4211020003025\n",
       "31101  211001002110       211001230088\n",
       "33039  421102001100       421102210191\n",
       "44755  421112004027        42111204027\n",
       "46584  320208002001       320028002001"
      ]
     },
     "execution_count": 18,
     "metadata": {},
     "output_type": "execute_result"
    }
   ],
   "source": [
    "df_team_1.loc[df_team_1[\"student_code_other\"].isin(['540712210384', '21108002025',\n",
    "       '510712002010', '540712210425', '421807055001', '4305061550',\n",
    "       '5707122003003', '4211020003025', '211001230088', '421102210191',\n",
    "       '42111204027', '320028002001']), [\"student_code\",\"student_code_other\"]]"
   ]
  },
  {
   "cell_type": "markdown",
   "metadata": {},
   "source": [
    "let's create a column that will help us track these inconsistencies"
   ]
  },
  {
   "cell_type": "code",
   "execution_count": 19,
   "metadata": {},
   "outputs": [],
   "source": [
    "df_team_1[\"student_code_unsure\"] = np.where(df_team_1[\"student_code_other\"].isin(['540712210384', '21108002025',\n",
    "       '510712002010', '540712210425', '421807055001', '4305061550',\n",
    "       '5707122003003', '4211020003025', '211001230088', '421102210191',\n",
    "       '42111204027', '320028002001']),\"flagged\",\"passed\")\n"
   ]
  },
  {
   "cell_type": "code",
   "execution_count": 16,
   "metadata": {},
   "outputs": [
    {
     "name": "stdout",
     "output_type": "stream",
     "text": [
      "passed     56894\n",
      "flagged       12\n",
      "Name: student_code_unsure, dtype: int64\n"
     ]
    }
   ],
   "source": [
    "print(df_team_1[\"student_code_unsure\"].value_counts())"
   ]
  },
  {
   "cell_type": "code",
   "execution_count": 67,
   "metadata": {},
   "outputs": [
    {
     "data": {
      "text/plain": [
       "False"
      ]
     },
     "execution_count": 67,
     "metadata": {},
     "output_type": "execute_result"
    }
   ],
   "source": [
    "# check if student_code column is unique and doesn't have duplicates\n",
    "df_team_1[\"student_code\"].is_unique"
   ]
  },
  {
   "cell_type": "markdown",
   "metadata": {},
   "source": [
    "It seems like we have duplicates in the student code variable.\n",
    "Let us count how many duplicates we have"
   ]
  },
  {
   "cell_type": "code",
   "execution_count": 68,
   "metadata": {},
   "outputs": [
    {
     "data": {
      "text/plain": [
       "451"
      ]
     },
     "execution_count": 68,
     "metadata": {},
     "output_type": "execute_result"
    }
   ],
   "source": [
    "# check how many dups we have\n",
    "df_team_1[\"student_code\"].duplicated().sum()"
   ]
  },
  {
   "cell_type": "markdown",
   "metadata": {},
   "source": [
    "we have around 451 duplicates"
   ]
  },
  {
   "cell_type": "code",
   "execution_count": null,
   "metadata": {},
   "outputs": [],
   "source": [
    "#let us view the duplicates\n",
    "df_team_1[df_team_1[\"student_code\"].isin(df_team_1[\"student_code\"][df_team_1[\"student_code\"].duplicated()])].sort_values([\"student_code\",\"submissiondate\"])"
   ]
  },
  {
   "cell_type": "code",
   "execution_count": 20,
   "metadata": {},
   "outputs": [
    {
     "name": "stdout",
     "output_type": "stream",
     "text": [
      "0\n"
     ]
    }
   ],
   "source": [
    "df_team_1_unique = df_team_1.sort_values([\"student_code\",\"submissiondate\"]).drop_duplicates(\"student_code\",keep=\"last\")\n",
    "# check how many dups we have\n",
    "print(df_team_1_unique[\"student_code\"].duplicated().sum())"
   ]
  },
  {
   "cell_type": "markdown",
   "metadata": {},
   "source": [
    "Now that we have treated student_code duplicates, we can move on with our feature cleaning activities"
   ]
  },
  {
   "cell_type": "code",
   "execution_count": 21,
   "metadata": {},
   "outputs": [],
   "source": [
    "#changing column types to numeric, Datetime, and string\n",
    "\n",
    "#numeric\n",
    "df_team_1_unique[[\"duration\",\"school\",\"student_code\"]] = df_team_1_unique[[\"duration\",\"school\",\"student_code\"]].apply(pd.to_numeric)"
   ]
  },
  {
   "cell_type": "code",
   "execution_count": 22,
   "metadata": {},
   "outputs": [],
   "source": [
    "#datetime\n",
    "# select columns that starts with time_check\n",
    "time_cols = [col for col in df_team_1_unique if col.startswith(\"time_check\")]\n",
    "\n",
    "df_team_1_unique[time_cols] = df_team_1_unique[time_cols].apply(pd.to_datetime)"
   ]
  },
  {
   "cell_type": "code",
   "execution_count": 23,
   "metadata": {},
   "outputs": [
    {
     "data": {
      "text/html": [
       "<div>\n",
       "<style scoped>\n",
       "    .dataframe tbody tr th:only-of-type {\n",
       "        vertical-align: middle;\n",
       "    }\n",
       "\n",
       "    .dataframe tbody tr th {\n",
       "        vertical-align: top;\n",
       "    }\n",
       "\n",
       "    .dataframe thead th {\n",
       "        text-align: right;\n",
       "    }\n",
       "</style>\n",
       "<table border=\"1\" class=\"dataframe\">\n",
       "  <thead>\n",
       "    <tr style=\"text-align: right;\">\n",
       "      <th></th>\n",
       "      <th>time_check_eng_1</th>\n",
       "      <th>time_check_eng_2</th>\n",
       "      <th>time_check_eng_3</th>\n",
       "      <th>time_check_eng_4</th>\n",
       "      <th>time_check_eng_5</th>\n",
       "      <th>time_check_eng_6</th>\n",
       "      <th>time_check_math_1</th>\n",
       "      <th>time_check_math_2</th>\n",
       "      <th>time_check_math_3</th>\n",
       "      <th>time_check_math_4</th>\n",
       "      <th>time_check_math_5</th>\n",
       "      <th>time_check_math_6</th>\n",
       "      <th>time_check_kiny_4</th>\n",
       "      <th>time_check_kiny_5</th>\n",
       "      <th>time_check_kiny_6</th>\n",
       "      <th>time_check_kiny_1</th>\n",
       "      <th>time_check_kiny_2</th>\n",
       "      <th>time_check_kiny_3</th>\n",
       "      <th>time_check_end</th>\n",
       "    </tr>\n",
       "  </thead>\n",
       "  <tbody>\n",
       "    <tr>\n",
       "      <th>41776</th>\n",
       "      <td>2023-08-19 17:18:23</td>\n",
       "      <td>2023-08-19 17:18:23</td>\n",
       "      <td>2023-08-19 17:21:22</td>\n",
       "      <td>2023-08-19 17:21:22</td>\n",
       "      <td>2023-08-19 17:21:22</td>\n",
       "      <td>2023-08-19 17:21:22</td>\n",
       "      <td>2023-08-19 17:21:25</td>\n",
       "      <td>2023-08-19 17:21:25</td>\n",
       "      <td>2023-08-19 17:23:35</td>\n",
       "      <td>2023-08-19 17:23:35</td>\n",
       "      <td>2023-08-19 17:23:35</td>\n",
       "      <td>2023-08-19 17:23:35</td>\n",
       "      <td>NaT</td>\n",
       "      <td>NaT</td>\n",
       "      <td>NaT</td>\n",
       "      <td>2023-08-19 17:23:51</td>\n",
       "      <td>2023-08-19 17:23:51</td>\n",
       "      <td>2023-08-19 17:23:51</td>\n",
       "      <td>2023-08-19 17:23:51</td>\n",
       "    </tr>\n",
       "    <tr>\n",
       "      <th>32697</th>\n",
       "      <td>2023-08-01 14:21:04</td>\n",
       "      <td>2023-08-01 14:21:04</td>\n",
       "      <td>2023-08-01 14:21:04</td>\n",
       "      <td>2023-08-01 14:24:00</td>\n",
       "      <td>2023-08-01 14:24:00</td>\n",
       "      <td>2023-08-01 14:24:00</td>\n",
       "      <td>2023-08-01 14:24:04</td>\n",
       "      <td>2023-08-01 14:24:04</td>\n",
       "      <td>2023-08-01 14:24:04</td>\n",
       "      <td>2023-08-01 14:25:19</td>\n",
       "      <td>2023-08-01 14:25:19</td>\n",
       "      <td>2023-08-01 14:25:19</td>\n",
       "      <td>NaT</td>\n",
       "      <td>NaT</td>\n",
       "      <td>NaT</td>\n",
       "      <td>2023-08-01 14:25:23</td>\n",
       "      <td>2023-08-01 14:25:23</td>\n",
       "      <td>2023-08-01 14:25:23</td>\n",
       "      <td>2023-08-01 14:25:23</td>\n",
       "    </tr>\n",
       "    <tr>\n",
       "      <th>26680</th>\n",
       "      <td>2023-08-01 10:57:57</td>\n",
       "      <td>2023-08-01 10:57:57</td>\n",
       "      <td>2023-08-01 10:57:57</td>\n",
       "      <td>2023-08-01 10:57:57</td>\n",
       "      <td>2023-08-01 10:57:57</td>\n",
       "      <td>2023-08-01 10:57:57</td>\n",
       "      <td>2023-08-01 10:59:47</td>\n",
       "      <td>2023-08-01 10:59:47</td>\n",
       "      <td>2023-08-01 10:59:47</td>\n",
       "      <td>2023-08-01 10:59:47</td>\n",
       "      <td>2023-08-01 10:59:47</td>\n",
       "      <td>2023-08-01 10:59:47</td>\n",
       "      <td>2023-08-01 11:01:30</td>\n",
       "      <td>2023-08-01 11:01:30</td>\n",
       "      <td>2023-08-01 11:01:30</td>\n",
       "      <td>NaT</td>\n",
       "      <td>NaT</td>\n",
       "      <td>NaT</td>\n",
       "      <td>2023-08-01 11:03:33</td>\n",
       "    </tr>\n",
       "    <tr>\n",
       "      <th>26635</th>\n",
       "      <td>2023-08-03 10:04:47</td>\n",
       "      <td>2023-08-03 10:04:47</td>\n",
       "      <td>2023-08-03 10:04:47</td>\n",
       "      <td>2023-08-03 10:04:47</td>\n",
       "      <td>2023-08-03 10:04:47</td>\n",
       "      <td>2023-08-03 10:06:16</td>\n",
       "      <td>2023-08-03 10:06:22</td>\n",
       "      <td>2023-08-03 10:06:22</td>\n",
       "      <td>2023-08-03 10:06:22</td>\n",
       "      <td>2023-08-03 10:06:22</td>\n",
       "      <td>2023-08-03 10:06:22</td>\n",
       "      <td>2023-08-03 10:07:54</td>\n",
       "      <td>2023-08-03 10:08:05</td>\n",
       "      <td>2023-08-03 10:08:05</td>\n",
       "      <td>2023-08-03 10:09:37</td>\n",
       "      <td>NaT</td>\n",
       "      <td>NaT</td>\n",
       "      <td>NaT</td>\n",
       "      <td>2023-08-03 10:09:37</td>\n",
       "    </tr>\n",
       "    <tr>\n",
       "      <th>28737</th>\n",
       "      <td>2023-08-02 13:31:55</td>\n",
       "      <td>2023-08-02 13:31:55</td>\n",
       "      <td>2023-08-02 13:31:55</td>\n",
       "      <td>2023-08-02 13:33:13</td>\n",
       "      <td>2023-08-02 13:33:13</td>\n",
       "      <td>2023-08-02 13:33:13</td>\n",
       "      <td>2023-08-02 13:33:26</td>\n",
       "      <td>2023-08-02 13:33:26</td>\n",
       "      <td>2023-08-02 13:33:26</td>\n",
       "      <td>2023-08-02 13:34:45</td>\n",
       "      <td>2023-08-02 13:34:45</td>\n",
       "      <td>2023-08-02 13:34:45</td>\n",
       "      <td>NaT</td>\n",
       "      <td>NaT</td>\n",
       "      <td>NaT</td>\n",
       "      <td>2023-08-02 13:34:48</td>\n",
       "      <td>2023-08-02 13:34:48</td>\n",
       "      <td>2023-08-02 13:34:48</td>\n",
       "      <td>2023-08-02 13:34:48</td>\n",
       "    </tr>\n",
       "    <tr>\n",
       "      <th>...</th>\n",
       "      <td>...</td>\n",
       "      <td>...</td>\n",
       "      <td>...</td>\n",
       "      <td>...</td>\n",
       "      <td>...</td>\n",
       "      <td>...</td>\n",
       "      <td>...</td>\n",
       "      <td>...</td>\n",
       "      <td>...</td>\n",
       "      <td>...</td>\n",
       "      <td>...</td>\n",
       "      <td>...</td>\n",
       "      <td>...</td>\n",
       "      <td>...</td>\n",
       "      <td>...</td>\n",
       "      <td>...</td>\n",
       "      <td>...</td>\n",
       "      <td>...</td>\n",
       "      <td>...</td>\n",
       "    </tr>\n",
       "    <tr>\n",
       "      <th>41335</th>\n",
       "      <td>2023-08-03 15:26:13</td>\n",
       "      <td>2023-08-03 15:26:13</td>\n",
       "      <td>2023-08-03 15:26:13</td>\n",
       "      <td>2023-08-03 15:27:41</td>\n",
       "      <td>2023-08-03 15:27:41</td>\n",
       "      <td>2023-08-03 15:27:41</td>\n",
       "      <td>2023-08-03 15:27:44</td>\n",
       "      <td>2023-08-03 15:27:44</td>\n",
       "      <td>2023-08-03 15:27:44</td>\n",
       "      <td>2023-08-03 15:28:55</td>\n",
       "      <td>2023-08-03 15:28:55</td>\n",
       "      <td>2023-08-03 15:28:55</td>\n",
       "      <td>NaT</td>\n",
       "      <td>NaT</td>\n",
       "      <td>NaT</td>\n",
       "      <td>2023-08-03 15:28:57</td>\n",
       "      <td>2023-08-03 15:28:57</td>\n",
       "      <td>2023-08-03 15:28:57</td>\n",
       "      <td>2023-08-03 15:28:57</td>\n",
       "    </tr>\n",
       "    <tr>\n",
       "      <th>40225</th>\n",
       "      <td>2023-07-25 11:23:42</td>\n",
       "      <td>2023-07-25 11:23:42</td>\n",
       "      <td>2023-07-25 11:23:42</td>\n",
       "      <td>2023-07-25 11:23:42</td>\n",
       "      <td>2023-07-25 11:23:42</td>\n",
       "      <td>2023-07-25 11:26:36</td>\n",
       "      <td>2023-07-25 11:26:40</td>\n",
       "      <td>2023-07-25 11:26:40</td>\n",
       "      <td>2023-07-25 11:26:40</td>\n",
       "      <td>2023-07-25 11:26:40</td>\n",
       "      <td>2023-07-25 11:26:40</td>\n",
       "      <td>2023-07-25 11:29:26</td>\n",
       "      <td>2023-07-25 11:29:31</td>\n",
       "      <td>2023-07-25 11:29:31</td>\n",
       "      <td>2023-07-25 11:32:35</td>\n",
       "      <td>NaT</td>\n",
       "      <td>NaT</td>\n",
       "      <td>NaT</td>\n",
       "      <td>2023-07-25 11:32:35</td>\n",
       "    </tr>\n",
       "    <tr>\n",
       "      <th>48235</th>\n",
       "      <td>2023-08-02 14:42:20</td>\n",
       "      <td>2023-08-02 14:42:20</td>\n",
       "      <td>2023-08-02 14:42:20</td>\n",
       "      <td>2023-08-02 14:44:10</td>\n",
       "      <td>2023-08-02 14:44:10</td>\n",
       "      <td>2023-08-02 14:44:10</td>\n",
       "      <td>2023-08-02 14:44:13</td>\n",
       "      <td>2023-08-02 14:44:13</td>\n",
       "      <td>2023-08-02 14:44:13</td>\n",
       "      <td>2023-08-02 14:45:40</td>\n",
       "      <td>2023-08-02 14:45:40</td>\n",
       "      <td>2023-08-02 14:45:40</td>\n",
       "      <td>NaT</td>\n",
       "      <td>NaT</td>\n",
       "      <td>NaT</td>\n",
       "      <td>2023-08-02 14:45:57</td>\n",
       "      <td>2023-08-02 14:45:57</td>\n",
       "      <td>2023-08-02 14:45:57</td>\n",
       "      <td>2023-08-02 14:45:57</td>\n",
       "    </tr>\n",
       "    <tr>\n",
       "      <th>2363</th>\n",
       "      <td>2023-07-31 11:50:53</td>\n",
       "      <td>2023-07-31 11:50:53</td>\n",
       "      <td>2023-07-31 11:50:53</td>\n",
       "      <td>2023-07-31 11:50:53</td>\n",
       "      <td>2023-07-31 11:50:53</td>\n",
       "      <td>2023-07-31 11:50:53</td>\n",
       "      <td>2023-07-31 11:52:32</td>\n",
       "      <td>2023-07-31 11:52:32</td>\n",
       "      <td>2023-07-31 11:52:32</td>\n",
       "      <td>2023-07-31 11:52:32</td>\n",
       "      <td>2023-07-31 11:52:32</td>\n",
       "      <td>2023-07-31 11:52:32</td>\n",
       "      <td>2023-07-31 11:54:50</td>\n",
       "      <td>2023-07-31 11:54:50</td>\n",
       "      <td>2023-07-31 11:54:50</td>\n",
       "      <td>NaT</td>\n",
       "      <td>NaT</td>\n",
       "      <td>NaT</td>\n",
       "      <td>2023-07-31 11:56:22</td>\n",
       "    </tr>\n",
       "    <tr>\n",
       "      <th>51411</th>\n",
       "      <td>2023-08-07 10:47:22</td>\n",
       "      <td>2023-08-07 10:47:22</td>\n",
       "      <td>2023-08-07 10:47:22</td>\n",
       "      <td>2023-08-07 10:47:22</td>\n",
       "      <td>2023-08-07 10:48:36</td>\n",
       "      <td>2023-08-07 10:48:36</td>\n",
       "      <td>2023-08-07 10:48:39</td>\n",
       "      <td>2023-08-07 10:48:39</td>\n",
       "      <td>2023-08-07 10:48:39</td>\n",
       "      <td>2023-08-07 10:48:39</td>\n",
       "      <td>2023-08-07 10:49:54</td>\n",
       "      <td>2023-08-07 10:49:54</td>\n",
       "      <td>2023-08-07 10:49:57</td>\n",
       "      <td>2023-08-07 10:51:29</td>\n",
       "      <td>2023-08-07 10:51:29</td>\n",
       "      <td>NaT</td>\n",
       "      <td>NaT</td>\n",
       "      <td>NaT</td>\n",
       "      <td>2023-08-07 10:51:29</td>\n",
       "    </tr>\n",
       "  </tbody>\n",
       "</table>\n",
       "<p>56455 rows × 19 columns</p>\n",
       "</div>"
      ],
      "text/plain": [
       "         time_check_eng_1    time_check_eng_2    time_check_eng_3  \\\n",
       "41776 2023-08-19 17:18:23 2023-08-19 17:18:23 2023-08-19 17:21:22   \n",
       "32697 2023-08-01 14:21:04 2023-08-01 14:21:04 2023-08-01 14:21:04   \n",
       "26680 2023-08-01 10:57:57 2023-08-01 10:57:57 2023-08-01 10:57:57   \n",
       "26635 2023-08-03 10:04:47 2023-08-03 10:04:47 2023-08-03 10:04:47   \n",
       "28737 2023-08-02 13:31:55 2023-08-02 13:31:55 2023-08-02 13:31:55   \n",
       "...                   ...                 ...                 ...   \n",
       "41335 2023-08-03 15:26:13 2023-08-03 15:26:13 2023-08-03 15:26:13   \n",
       "40225 2023-07-25 11:23:42 2023-07-25 11:23:42 2023-07-25 11:23:42   \n",
       "48235 2023-08-02 14:42:20 2023-08-02 14:42:20 2023-08-02 14:42:20   \n",
       "2363  2023-07-31 11:50:53 2023-07-31 11:50:53 2023-07-31 11:50:53   \n",
       "51411 2023-08-07 10:47:22 2023-08-07 10:47:22 2023-08-07 10:47:22   \n",
       "\n",
       "         time_check_eng_4    time_check_eng_5    time_check_eng_6  \\\n",
       "41776 2023-08-19 17:21:22 2023-08-19 17:21:22 2023-08-19 17:21:22   \n",
       "32697 2023-08-01 14:24:00 2023-08-01 14:24:00 2023-08-01 14:24:00   \n",
       "26680 2023-08-01 10:57:57 2023-08-01 10:57:57 2023-08-01 10:57:57   \n",
       "26635 2023-08-03 10:04:47 2023-08-03 10:04:47 2023-08-03 10:06:16   \n",
       "28737 2023-08-02 13:33:13 2023-08-02 13:33:13 2023-08-02 13:33:13   \n",
       "...                   ...                 ...                 ...   \n",
       "41335 2023-08-03 15:27:41 2023-08-03 15:27:41 2023-08-03 15:27:41   \n",
       "40225 2023-07-25 11:23:42 2023-07-25 11:23:42 2023-07-25 11:26:36   \n",
       "48235 2023-08-02 14:44:10 2023-08-02 14:44:10 2023-08-02 14:44:10   \n",
       "2363  2023-07-31 11:50:53 2023-07-31 11:50:53 2023-07-31 11:50:53   \n",
       "51411 2023-08-07 10:47:22 2023-08-07 10:48:36 2023-08-07 10:48:36   \n",
       "\n",
       "        time_check_math_1   time_check_math_2   time_check_math_3  \\\n",
       "41776 2023-08-19 17:21:25 2023-08-19 17:21:25 2023-08-19 17:23:35   \n",
       "32697 2023-08-01 14:24:04 2023-08-01 14:24:04 2023-08-01 14:24:04   \n",
       "26680 2023-08-01 10:59:47 2023-08-01 10:59:47 2023-08-01 10:59:47   \n",
       "26635 2023-08-03 10:06:22 2023-08-03 10:06:22 2023-08-03 10:06:22   \n",
       "28737 2023-08-02 13:33:26 2023-08-02 13:33:26 2023-08-02 13:33:26   \n",
       "...                   ...                 ...                 ...   \n",
       "41335 2023-08-03 15:27:44 2023-08-03 15:27:44 2023-08-03 15:27:44   \n",
       "40225 2023-07-25 11:26:40 2023-07-25 11:26:40 2023-07-25 11:26:40   \n",
       "48235 2023-08-02 14:44:13 2023-08-02 14:44:13 2023-08-02 14:44:13   \n",
       "2363  2023-07-31 11:52:32 2023-07-31 11:52:32 2023-07-31 11:52:32   \n",
       "51411 2023-08-07 10:48:39 2023-08-07 10:48:39 2023-08-07 10:48:39   \n",
       "\n",
       "        time_check_math_4   time_check_math_5   time_check_math_6  \\\n",
       "41776 2023-08-19 17:23:35 2023-08-19 17:23:35 2023-08-19 17:23:35   \n",
       "32697 2023-08-01 14:25:19 2023-08-01 14:25:19 2023-08-01 14:25:19   \n",
       "26680 2023-08-01 10:59:47 2023-08-01 10:59:47 2023-08-01 10:59:47   \n",
       "26635 2023-08-03 10:06:22 2023-08-03 10:06:22 2023-08-03 10:07:54   \n",
       "28737 2023-08-02 13:34:45 2023-08-02 13:34:45 2023-08-02 13:34:45   \n",
       "...                   ...                 ...                 ...   \n",
       "41335 2023-08-03 15:28:55 2023-08-03 15:28:55 2023-08-03 15:28:55   \n",
       "40225 2023-07-25 11:26:40 2023-07-25 11:26:40 2023-07-25 11:29:26   \n",
       "48235 2023-08-02 14:45:40 2023-08-02 14:45:40 2023-08-02 14:45:40   \n",
       "2363  2023-07-31 11:52:32 2023-07-31 11:52:32 2023-07-31 11:52:32   \n",
       "51411 2023-08-07 10:48:39 2023-08-07 10:49:54 2023-08-07 10:49:54   \n",
       "\n",
       "        time_check_kiny_4   time_check_kiny_5   time_check_kiny_6  \\\n",
       "41776                 NaT                 NaT                 NaT   \n",
       "32697                 NaT                 NaT                 NaT   \n",
       "26680 2023-08-01 11:01:30 2023-08-01 11:01:30 2023-08-01 11:01:30   \n",
       "26635 2023-08-03 10:08:05 2023-08-03 10:08:05 2023-08-03 10:09:37   \n",
       "28737                 NaT                 NaT                 NaT   \n",
       "...                   ...                 ...                 ...   \n",
       "41335                 NaT                 NaT                 NaT   \n",
       "40225 2023-07-25 11:29:31 2023-07-25 11:29:31 2023-07-25 11:32:35   \n",
       "48235                 NaT                 NaT                 NaT   \n",
       "2363  2023-07-31 11:54:50 2023-07-31 11:54:50 2023-07-31 11:54:50   \n",
       "51411 2023-08-07 10:49:57 2023-08-07 10:51:29 2023-08-07 10:51:29   \n",
       "\n",
       "        time_check_kiny_1   time_check_kiny_2   time_check_kiny_3  \\\n",
       "41776 2023-08-19 17:23:51 2023-08-19 17:23:51 2023-08-19 17:23:51   \n",
       "32697 2023-08-01 14:25:23 2023-08-01 14:25:23 2023-08-01 14:25:23   \n",
       "26680                 NaT                 NaT                 NaT   \n",
       "26635                 NaT                 NaT                 NaT   \n",
       "28737 2023-08-02 13:34:48 2023-08-02 13:34:48 2023-08-02 13:34:48   \n",
       "...                   ...                 ...                 ...   \n",
       "41335 2023-08-03 15:28:57 2023-08-03 15:28:57 2023-08-03 15:28:57   \n",
       "40225                 NaT                 NaT                 NaT   \n",
       "48235 2023-08-02 14:45:57 2023-08-02 14:45:57 2023-08-02 14:45:57   \n",
       "2363                  NaT                 NaT                 NaT   \n",
       "51411                 NaT                 NaT                 NaT   \n",
       "\n",
       "           time_check_end  \n",
       "41776 2023-08-19 17:23:51  \n",
       "32697 2023-08-01 14:25:23  \n",
       "26680 2023-08-01 11:03:33  \n",
       "26635 2023-08-03 10:09:37  \n",
       "28737 2023-08-02 13:34:48  \n",
       "...                   ...  \n",
       "41335 2023-08-03 15:28:57  \n",
       "40225 2023-07-25 11:32:35  \n",
       "48235 2023-08-02 14:45:57  \n",
       "2363  2023-07-31 11:56:22  \n",
       "51411 2023-08-07 10:51:29  \n",
       "\n",
       "[56455 rows x 19 columns]"
      ]
     },
     "execution_count": 23,
     "metadata": {},
     "output_type": "execute_result"
    }
   ],
   "source": [
    "# Let us look at how the datetime transformation was executed\n",
    "df_team_1_unique[time_cols]"
   ]
  },
  {
   "cell_type": "code",
   "execution_count": 24,
   "metadata": {},
   "outputs": [
    {
     "name": "stdout",
     "output_type": "stream",
     "text": [
      "Index(['district', 'sector', 'grade', 'student_code_other',\n",
      "       'student_code_name', 'student_code_unsure'],\n",
      "      dtype='object')\n"
     ]
    }
   ],
   "source": [
    "# let's check how many object type columns are left\n",
    "print(df_team_1_unique.select_dtypes(\"object\").columns)"
   ]
  },
  {
   "cell_type": "code",
   "execution_count": null,
   "metadata": {},
   "outputs": [],
   "source": [
    "# first we drop unwanted columns\n",
    "unwanted_cols = ['student_code_other', 'student_code_name']\n",
    "df_team_1_unique = df_team_1_unique.drop(unwanted_cols, axis=1)\n"
   ]
  },
  {
   "cell_type": "code",
   "execution_count": 30,
   "metadata": {},
   "outputs": [
    {
     "name": "stdout",
     "output_type": "stream",
     "text": [
      "           district          sector   grade student_code_unsure\n",
      "41776  \"'Kicukiro'\"     \"'Gikondo'\"  \"'P2'\"          \"'passed'\"\n",
      "32697  \"'Kicukiro'\"     \"'Kanombe'\"  \"'P3'\"          \"'passed'\"\n",
      "26680  \"'Kicukiro'\"    \"'Kigarama'\"  \"'P6'\"          \"'passed'\"\n",
      "26635    \"'Gasabo'\"    \"'Rusororo'\"  \"'P5'\"          \"'passed'\"\n",
      "28737  \"'Kicukiro'\"  \"'Nyarugunga'\"  \"'P3'\"          \"'passed'\"\n"
     ]
    }
   ],
   "source": [
    "# string\n",
    "string_cols = ['district', 'sector', 'grade', 'student_code_unsure']\n",
    "\n",
    "df_team_1_unique[string_cols] = df_team_1_unique[string_cols].apply(lambda col: col.map(repr)) #interesting\n",
    "print(df_team_1_unique[string_cols].head())"
   ]
  },
  {
   "cell_type": "code",
   "execution_count": 29,
   "metadata": {},
   "outputs": [
    {
     "name": "stdout",
     "output_type": "stream",
     "text": [
      "Index(['district', 'sector', 'grade', 'student_code_unsure'], dtype='object')\n"
     ]
    }
   ],
   "source": [
    "# let's check how many object type columns are left\n",
    "print(df_team_1_unique.select_dtypes(\"object\").columns)"
   ]
  },
  {
   "cell_type": "markdown",
   "metadata": {},
   "source": [
    "It turns out that string columns are represented as object type!\n",
    "we can now move on to the next stage in our data cleaning/engineering process"
   ]
  },
  {
   "cell_type": "code",
   "execution_count": null,
   "metadata": {},
   "outputs": [],
   "source": []
  }
 ],
 "metadata": {
  "kernelspec": {
   "display_name": ".venv",
   "language": "python",
   "name": "python3"
  },
  "language_info": {
   "codemirror_mode": {
    "name": "ipython",
    "version": 3
   },
   "file_extension": ".py",
   "mimetype": "text/x-python",
   "name": "python",
   "nbconvert_exporter": "python",
   "pygments_lexer": "ipython3",
   "version": "3.9.13"
  }
 },
 "nbformat": 4,
 "nbformat_minor": 2
}
