{
 "cells": [
  {
   "cell_type": "code",
   "execution_count": 2,
   "metadata": {},
   "outputs": [],
   "source": [
    "from jupyter_dash import JupyterDash\n",
    "import dash_core_components as dcc\n",
    "import dash_html_components as html\n",
    "from dash.dependencies import Output, Input\n",
    "import os \n",
    "import pandas as pd\n",
    "import numpy as np\n",
    "from plotly import graph_objects as go"
   ]
  },
  {
   "cell_type": "code",
   "execution_count": 1,
   "metadata": {},
   "outputs": [
    {
     "data": {
      "text/plain": [
       "'c:\\\\Users\\\\HP\\\\source\\\\repos\\\\STARS_dashboard\\\\stars-dashboard'"
      ]
     },
     "execution_count": 1,
     "metadata": {},
     "output_type": "execute_result"
    }
   ],
   "source": [
    "pwd"
   ]
  },
  {
   "cell_type": "code",
   "execution_count": 3,
   "metadata": {},
   "outputs": [
    {
     "data": {
      "text/plain": [
       "'C:\\\\Users\\\\HP\\\\source\\\\repos\\\\STARS_dashboard'"
      ]
     },
     "execution_count": 3,
     "metadata": {},
     "output_type": "execute_result"
    }
   ],
   "source": [
    "os.chdir(r\"C:\\Users\\HP\\source\\repos\\STARS_dashboard\")\n",
    "os.getcwd()"
   ]
  },
  {
   "cell_type": "code",
   "execution_count": 2,
   "metadata": {},
   "outputs": [],
   "source": [
    "# app instantiation\n",
    "app = JupyterDash(__name__)"
   ]
  },
  {
   "cell_type": "code",
   "execution_count": 4,
   "metadata": {},
   "outputs": [],
   "source": [
    "# app layout\n",
    "app.layout = html.Div([\n",
    "    dcc.Dropdown(\n",
    "        options=[{\"label\" : color,\n",
    "                 \"value\" : color }\n",
    "                 for color in [\"blue\",\"green\",\"yellow\"]\n",
    "    ]),\n",
    "    html.Div()\n",
    "])"
   ]
  },
  {
   "cell_type": "code",
   "execution_count": null,
   "metadata": {},
   "outputs": [],
   "source": [
    "# run the app\n",
    "if __name__ == \"__main__\":\n",
    "    app.run_server(mode = \"inline\",port = \"3333\")"
   ]
  },
  {
   "cell_type": "code",
   "execution_count": null,
   "metadata": {},
   "outputs": [],
   "source": [
    "#using callbacks\n",
    "\n",
    "# app instantiation\n",
    "app = JupyterDash(__name__)\n",
    "\n",
    "# app layout\n",
    "app.layout = html.Div([\n",
    "    dcc.Dropdown(id= \"color_dropdown\",\n",
    "                 options = [\n",
    "                    {\"label\": color, \n",
    "                    \"value\": color}\n",
    "                    for color in [\"Blue\",\"Black\", \"Green\"]\n",
    "                ]),\n",
    "    html.Br(),\n",
    "    html.Div(id=\"display_dropdown\")\n",
    "])\n",
    "\n",
    "# callback functions\n",
    "@app.callback(Output(component_id = \"display_dropdown\",\n",
    "                     component_property= \"children\"),\n",
    "              Input(component_id = \"color_dropdown\",\n",
    "                    component_property = \"value\"))\n",
    "\n",
    "def display_selected_color(color):\n",
    "    if color is None:\n",
    "        color = \"Nothing\"\n",
    "    return \"The color is \" + color \n",
    "\n",
    "# run the app\n",
    "if __name__ == \"__main__\":\n",
    "    app.run_server(mode = \"inline\", port = 2)"
   ]
  },
  {
   "cell_type": "code",
   "execution_count": null,
   "metadata": {},
   "outputs": [],
   "source": [
    "# app instantiation\n",
    "app = JupyterDash(__name__)\n",
    "\n",
    "# information on the activities\n",
    "timeline = [\"first year\", \"second year\"]\n",
    "short_description = {\"first year\":\"The data collection activities spanned 10 districts while gathering data on 343 schools where 100 schools were in the\\\n",
    "                     control group while 243 schools were in the treatment group\",\n",
    "                     \"second year\":\"489 schools were visited across 10 districts to conduct STARS data collection activities.\"}\n",
    "\n",
    "# app layout\n",
    "app.layout = html.Div([\n",
    "    dcc.Dropdown(id = \"id_dropdown\",\n",
    "                 options = [{\"label\" : time,\n",
    "                            \"value\": time}\n",
    "                            for time in timeline]),\n",
    "    html.Br(),\n",
    "    html.Div(id = \"output_dropdown\")\n",
    "])\n",
    "\n",
    "# callback functions\n",
    "@app.callback(Output(component_id = \"output_dropdown\",\n",
    "                     component_property= \"children\"),\n",
    "              Input(component_id = \"id_dropdown\",\n",
    "                    component_property = \"value\"))\n",
    "\n",
    "def activity_info(timeline):\n",
    "    if timeline is None:\n",
    "        return \"STARS project is being implemented by Innovation for Poverty Actions in partnership with Georgetown University, MINEDUC, REB, and NESA\"\n",
    "    return [html.H3(timeline), f'For the  {timeline}, {short_description[timeline]}']\n",
    "\n",
    "# run the app\n",
    "if __name__ == \"__main__\":\n",
    "    app.run_server(mode = \"inline\", port = 5)"
   ]
  },
  {
   "cell_type": "markdown",
   "metadata": {},
   "source": [
    "## Working with Plotly's Figure Objects"
   ]
  },
  {
   "cell_type": "markdown",
   "metadata": {},
   "source": [
    "### Understanding the Figure Object"
   ]
  },
  {
   "cell_type": "code",
   "execution_count": null,
   "metadata": {},
   "outputs": [],
   "source": [
    "go.Figure()"
   ]
  },
  {
   "cell_type": "code",
   "execution_count": null,
   "metadata": {},
   "outputs": [],
   "source": [
    "fig = go.Figure()\n",
    "fig.add_scatter(x=[1,2,3],y=[4,2,3])\n",
    "fig.show()"
   ]
  },
  {
   "cell_type": "code",
   "execution_count": null,
   "metadata": {},
   "outputs": [],
   "source": [
    "fig.add_scatter(x = [3,5,2,4], y = [5,2,6,0])"
   ]
  },
  {
   "cell_type": "markdown",
   "metadata": {},
   "source": [
    "#### Layout Attribute"
   ]
  },
  {
   "cell_type": "code",
   "execution_count": null,
   "metadata": {},
   "outputs": [],
   "source": [
    "fig.layout.title = \"Example 0\"\n",
    "fig.layout.xaxis.title = \"x axis\"\n",
    "fig.layout.yaxis.title = \"y axis\"\n",
    "fig.show()"
   ]
  },
  {
   "cell_type": "code",
   "execution_count": null,
   "metadata": {},
   "outputs": [],
   "source": [
    "# exploring figure objects\n",
    "fig.show(\"json\")"
   ]
  },
  {
   "cell_type": "code",
   "execution_count": null,
   "metadata": {},
   "outputs": [],
   "source": [
    "fig.show()"
   ]
  },
  {
   "cell_type": "code",
   "execution_count": null,
   "metadata": {},
   "outputs": [],
   "source": [
    "fig.show(config = {\"displaylogo\" : False,\n",
    "                   \"modeBarButtonsToAdd\" : [\"drawrect\",\n",
    "                                            \"drawcircle\",\n",
    "                                            \"eraseshape\"]})"
   ]
  },
  {
   "cell_type": "markdown",
   "metadata": {},
   "source": [
    "#### Converting figures"
   ]
  },
  {
   "cell_type": "code",
   "execution_count": 9,
   "metadata": {},
   "outputs": [],
   "source": [
    "# To Html\n",
    "fig.write_html(\"html_plot.html\",\n",
    "               config = {\"toImageButtonOptions\" : {\"format\" : \"svg\"}})"
   ]
  },
  {
   "cell_type": "code",
   "execution_count": null,
   "metadata": {},
   "outputs": [],
   "source": [
    "# to images\n",
    "fig.write_image(\"apps/images/example_image.svg\",\n",
    "                height = 800, width = 900)"
   ]
  },
  {
   "cell_type": "markdown",
   "metadata": {},
   "source": [
    "# plotting using real data"
   ]
  },
  {
   "cell_type": "code",
   "execution_count": 4,
   "metadata": {},
   "outputs": [],
   "source": [
    "# import datasets to use\n",
    "\n",
    "# we start by using data entry data from year 1\n",
    "\n",
    "data_entry_team_1 = pd.read_stata(r\"data\\ipa-data\\learning_assessment\\data_entry\\year1\\clean\\first_entry\\Final Assessment First Entry Clean.dta\")\n",
    "data_entry_team_2 = pd.read_stata(r\"data\\ipa-data\\learning_assessment\\data_entry\\year1\\clean\\second_entry\\Final Assessment Second Entry Clean.dta\")\n",
    "data_entry_reconciliation = pd.read_stata(r\"data\\ipa-data\\learning_assessment\\data_entry\\year1\\clean\\reconciliation\\reconciled_clean.dta\")"
   ]
  },
  {
   "cell_type": "code",
   "execution_count": null,
   "metadata": {},
   "outputs": [],
   "source": [
    "data_entry_team_1.head(5)"
   ]
  },
  {
   "cell_type": "code",
   "execution_count": null,
   "metadata": {},
   "outputs": [],
   "source": [
    "data_entry_team_1.dropna(axis=1,how=\"all\").describe(include = [np.number]).T"
   ]
  },
  {
   "cell_type": "code",
   "execution_count": null,
   "metadata": {},
   "outputs": [],
   "source": [
    "data_entry_team_1.dropna(axis=1,how=\"all\").describe(include=\"all\",datetime_is_numeric=True).T"
   ]
  },
  {
   "cell_type": "code",
   "execution_count": 8,
   "metadata": {},
   "outputs": [
    {
     "name": "stdout",
     "output_type": "stream",
     "text": [
      "<class 'pandas.core.frame.DataFrame'>\n",
      "Int64Index: 56906 entries, 0 to 56905\n",
      "Columns: 456 entries, deviceid to v454\n",
      "dtypes: category(407), datetime64[ns](5), float64(10), object(34)\n",
      "memory usage: 43.9+ MB\n"
     ]
    }
   ],
   "source": [
    "data_entry_team_1.info()"
   ]
  },
  {
   "cell_type": "code",
   "execution_count": 5,
   "metadata": {},
   "outputs": [
    {
     "name": "stdout",
     "output_type": "stream",
     "text": [
      "['kin1marks_p6_kin1p6_kin_q021p6_k', 'kin1marks_p6_kin1p6_kin_q061p6_k', 'kin1marks_p6_kin1p6_kin_q101p6_k', 'v453', 'kin1marks_p5_kin1p5_kin_q141p5_k', 'v454']\n"
     ]
    }
   ],
   "source": [
    "# check columns that are entirely empty\n",
    "empty_cols = [col for col in data_entry_team_1 if  data_entry_team_1[col].isna().all()]\n",
    "print(empty_cols)"
   ]
  },
  {
   "cell_type": "code",
   "execution_count": 6,
   "metadata": {},
   "outputs": [
    {
     "name": "stdout",
     "output_type": "stream",
     "text": [
      "[]\n"
     ]
    }
   ],
   "source": [
    "#drop empty cols\n",
    "df_team_1 = data_entry_team_1.copy()\n",
    "df_team_1 = df_team_1.drop(empty_cols,axis = 1)\n",
    "\n",
    "# check columns that are entirely empty\n",
    "empty_cols0 = [col for col in df_team_1 if  df_team_1[col].isna().all()]\n",
    "print(empty_cols0)"
   ]
  },
  {
   "cell_type": "code",
   "execution_count": 7,
   "metadata": {},
   "outputs": [
    {
     "name": "stdout",
     "output_type": "stream",
     "text": [
      "Index(['spv', 'fo', 'eng_participation', 'p1_eng_q01_sub1', 'p1_eng_q01_sub2',\n",
      "       'p1_eng_q02_sub1', 'p1_eng_q02_sub2', 'p1_eng_q02_sub3',\n",
      "       'p1_eng_q03_sub1', 'p1_eng_q03_sub2',\n",
      "       ...\n",
      "       'p2_leg_q01_sub1', 'p2_leg_q02_sub1', 'p2_leg_q03_sub1',\n",
      "       'p2_leg_q04_sub1', 'p2_leg_q05_sub1', 'p3_leg_q01_sub1',\n",
      "       'p3_leg_q02_sub1', 'p3_leg_q03_sub1', 'p3_leg_q04_sub1',\n",
      "       'p3_leg_q05_sub1'],\n",
      "      dtype='object', length=407)\n"
     ]
    }
   ],
   "source": [
    "# let's check categorical columns\n",
    "#cat_cols = [col for col in df_team_1 if df_team_1[col].dtypes.name == \"category\"]\n",
    "#print(cat_cols)\n",
    "\n",
    "cat_cols0 = df_team_1.select_dtypes([\"category\"]).columns\n",
    "print(cat_cols0)"
   ]
  },
  {
   "cell_type": "markdown",
   "metadata": {},
   "source": [
    "we have 407 columns that are categorical, this makes sense where, except for svp and fo, the columns represent participation or marks received by students with 3 choices: correct, incorrect, or left blank"
   ]
  },
  {
   "cell_type": "code",
   "execution_count": null,
   "metadata": {},
   "outputs": [],
   "source": [
    "# let's visualize categorical columns\n",
    "print(df_team_1[cat_cols0])"
   ]
  },
  {
   "cell_type": "markdown",
   "metadata": {},
   "source": [
    "let's check for one of the categorical columns the choices available:"
   ]
  },
  {
   "cell_type": "code",
   "execution_count": 29,
   "metadata": {},
   "outputs": [
    {
     "name": "stdout",
     "output_type": "stream",
     "text": [
      "{0: 'Left blank', 1: 'No', 2: 'Yes'}\n",
      "{0: 'No', 1: 'Yes'}\n",
      "{0: 'Shema Christian', 1: 'NAHIMANA Reverien   ', 2: 'Havugimana Saidi', 3: 'Uwimana  Pauline', 4: 'NTAREMBA George   ', 5: 'Hatangimana Gisele'}\n",
      "{0: 'Rushambara Alexis', 1: 'NSHIMIYIMANA PASCAL', 2: 'Habonimana Gabriel', 3: 'Nirere Sandrine', 4: 'NIYIBIZI Leandre', 5: 'UWASE Francine\\xa0', 6: 'Uwizeyimana Viateur', 7: 'Rusangwa Adolphe', 8: 'IRADUKUNDA GAHIRE ADOLPHE', 9: 'Ingabire Emelyne', 10: 'MUSHIMIRE Clarisse', 11: 'Mudahogora Placidie', 12: 'TUYISENGE ANICK', 13: 'Bagirishyaka Fulgence', 14: 'Fidele Iragena', 15: 'MUKANKOMEJE  Chantal', 16: 'NABAGIZE JUSTINE', 17: 'NTAWUSIGIRYAYO  Eric ', 18: 'IRAMBONA Valens', 19: 'Shingiro John', 20: 'UMUBYEYI MARIE GRACE', 21: 'MURAGIJIMANA Obadia', 22: 'MASENGESHO Samuel', 23: 'UMUBYEYI Claudine', 24: 'DUFATANYE Devota', 25: 'NSHIMIYIMANA Bernard', 26: 'MUKANSANGA Jacqueline', 27: 'UWIMANA Jeannette', 28: 'NAHAYO Jean Damascene', 29: 'DUSENGUMUREMYI Yvonne', 30: 'NSENGUMUREMYI Felix', 31: 'NDIKUMWENAYO Epimaque', 32: 'DUHAWUMUGISHA Nathan', 33: 'GATETE Fred', 34: 'MUTUYIMANA Josephine', 35: 'KAVAMAHANGA Lambert', 36: 'AENGAMIYE RWABUKWISI Smith Eugene', 37: 'HABARUREMA Jean Paul', 38: 'INGABIRE Marie Grace', 39: 'TUYISHIME Clementine', 40: 'HABIYAREMYE Aimable', 41: 'BITEGETSIMANA Samuel', 42: 'MUGISHA David', 43: 'Mwungura Ntagawa', 44: 'Niyonsaba Jean Pierre', 45: 'Nsengimana Joseph', 46: 'NSENGIYUMVA  Innocent', 47: 'TUYISINGIZE Nepomuscene', 48: 'Nshimiyimana Jean Marie vianney', 49: 'Umuhire  Jerome', 50: 'Hakizimana Emmy', 51: 'Masa Mutuyeyezu Redampta', 52: 'Mukarunyana Anysie', 53: 'Mukashumbusho Jeannette', 54: 'Ndayambaje Patrick', 55: 'RUBANDA Fidel', 56: 'Niyitegeka Moise', 57: 'Nzayinambaho  Ange Bernard', 58: 'Ruzindana Frank', 59: 'Muhire Emmanuel', 60: 'TUYISHIMIRE Marie Claire', 61: 'Alyppe KUBWAYO', 62: 'AMINA URWIBUTSO', 63: 'Amos KADENDE', 64: 'Annoncee Uwimana Nyandwi', 65: 'Antoine NZAYISENGA', 66: 'Aphrodis UKURIKIYEYEZU', 67: 'BIENVENUE Marie Claire', 68: 'Byarugaba J.de Dieu', 69: 'chantal umutesi', 70: 'Charlotte Umwali', 71: 'Mvuyekure wellars', 72: 'Desire MUTWARE', 73: 'DUSABIMANA Angelique', 74: 'Edith Muragijimana', 75: 'Egide TUBISABIMANA', 76: 'Emile JABO', 77: 'Emmanuel KANANI', 78: 'Emmanuel MANIRAFASHA', 79: 'Emmanuel NSENGIMANA', 80: 'Ephrem NKUNZABO', 81: 'Fidele MUTUYIMANA', 82: 'Fidele NIKUZE', 83: 'FLORENT NSABIMANA', 84: 'Georgie UWAMBAJIMANA', 85: 'Grace NISHIMWE', 86: 'HABIMANA MUSSA', 87: 'IMANANTIYANDETSE Marc', 88: 'IMANISHIMWE Djarudi Djarudi', 89: 'IRASUBIZA Zawadi', 90: 'ISABELLE musabyemariya', 91: 'Ismael DUSENGIMANA', 92: 'Jackson DUKUZEMUNGU', 93: 'Janvier NZANYWAYIMANA', 94: 'Jean Baptiste MUSHIMIYIMANA', 95: 'JEAN BAPTISTE NIYOYITA', 96: 'Jean Bosco Twagirimana', 97: 'Jean Damascene Mbwirabumva', 98: 'Jean de Dieu Safari', 99: 'Jean Marie Vianney CYUBAHIRO', 100: 'Jonathan Habineza', 101: 'Joseline Nisingizwe', 102: 'Kuradusenge Janvier', 103: 'KWIHANGANA Marc', 104: 'Kwizera Emmanuel', 105: 'Maniraho Maurice', 106: 'MANISHIMWE Samuel', 107: 'Mukarubayiza Triphine', 108: 'MUSANABOSE Yves', 109: 'NDABANANIYE David', 110: 'Ndagijimana Samuel', 111: 'Noah KURAMA', 112: 'Robert Muganga', 113: 'Sandrine MAHORO', 114: 'Solange Uwilingiyimana', 115: 'Sylvestre MUSENGIMANA', 116: 'Theoneste Maniraguha', 117: 'UTAZIRUBANDA NOEL Roudge', 118: 'UWANYIRIGIRA Claire', 119: 'Valentine NIYITEGEKA', 120: 'Victor MUGWANEZA', 121: 'INGABIRE Innocent', 122: 'Asiimwe Samuel', 123: 'Musabirema  Dominique', 124: 'Kampire Docile', 125: 'Alice Uwiduhaye', 126: 'Hakuzimana  Edouard', 127: 'Olivier NGWIJE', 128: 'Giraneza Claudine', 129: 'MANIRABARUTA Marie Claire  ', 130: 'SIBOMANA Jean Damascene', 131: 'Karanganwa Anthony', 132: 'Niyonzima Simeon', 133: 'Uwizeye Alphonse', 134: 'Mukangwije Ancille', 135: 2500922, 136: 'Mukeshimana  Theogene', 137: 'Iribagiza Annette', 138: 'NISHIMWE Denise Amelie', 139: 'MUKANTAGANDA Liberatha   ', 140: 'MWIZA Florence', 141: 'Nakure Marie Aimee'}\n"
     ]
    }
   ],
   "source": [
    "#print(df_team_1[\"p1_eng_q02_sub3\"].cat.codes.unique())\n",
    "#print(df_team_1[\"p1_eng_q02_sub3\"].cat.categories.unique())\n",
    "print(dict(enumerate(df_team_1[\"p1_eng_q02_sub3\"].cat.categories)))\n",
    "print(dict(enumerate(df_team_1[\"eng_participation\"].cat.categories)))\n",
    "print(dict(enumerate(df_team_1[\"spv\"].cat.categories)))\n",
    "print(dict(enumerate(df_team_1[\"fo\"].cat.categories)))"
   ]
  },
  {
   "cell_type": "code",
   "execution_count": 8,
   "metadata": {},
   "outputs": [
    {
     "data": {
      "text/html": [
       "<div>\n",
       "<style scoped>\n",
       "    .dataframe tbody tr th:only-of-type {\n",
       "        vertical-align: middle;\n",
       "    }\n",
       "\n",
       "    .dataframe tbody tr th {\n",
       "        vertical-align: top;\n",
       "    }\n",
       "\n",
       "    .dataframe thead th {\n",
       "        text-align: right;\n",
       "    }\n",
       "</style>\n",
       "<table border=\"1\" class=\"dataframe\">\n",
       "  <thead>\n",
       "    <tr style=\"text-align: right;\">\n",
       "      <th></th>\n",
       "      <th>codes</th>\n",
       "      <th>names</th>\n",
       "    </tr>\n",
       "  </thead>\n",
       "  <tbody>\n",
       "    <tr>\n",
       "      <th>0</th>\n",
       "      <td>0</td>\n",
       "      <td>Rushambara Alexis</td>\n",
       "    </tr>\n",
       "    <tr>\n",
       "      <th>1</th>\n",
       "      <td>1</td>\n",
       "      <td>NSHIMIYIMANA PASCAL</td>\n",
       "    </tr>\n",
       "    <tr>\n",
       "      <th>2</th>\n",
       "      <td>2</td>\n",
       "      <td>Habonimana Gabriel</td>\n",
       "    </tr>\n",
       "    <tr>\n",
       "      <th>3</th>\n",
       "      <td>3</td>\n",
       "      <td>Nirere Sandrine</td>\n",
       "    </tr>\n",
       "    <tr>\n",
       "      <th>4</th>\n",
       "      <td>4</td>\n",
       "      <td>NIYIBIZI Leandre</td>\n",
       "    </tr>\n",
       "    <tr>\n",
       "      <th>5</th>\n",
       "      <td>5</td>\n",
       "      <td>UWASE Francine</td>\n",
       "    </tr>\n",
       "    <tr>\n",
       "      <th>6</th>\n",
       "      <td>6</td>\n",
       "      <td>Uwizeyimana Viateur</td>\n",
       "    </tr>\n",
       "    <tr>\n",
       "      <th>7</th>\n",
       "      <td>7</td>\n",
       "      <td>Rusangwa Adolphe</td>\n",
       "    </tr>\n",
       "    <tr>\n",
       "      <th>8</th>\n",
       "      <td>8</td>\n",
       "      <td>IRADUKUNDA GAHIRE ADOLPHE</td>\n",
       "    </tr>\n",
       "    <tr>\n",
       "      <th>9</th>\n",
       "      <td>9</td>\n",
       "      <td>Ingabire Emelyne</td>\n",
       "    </tr>\n",
       "    <tr>\n",
       "      <th>10</th>\n",
       "      <td>10</td>\n",
       "      <td>MUSHIMIRE Clarisse</td>\n",
       "    </tr>\n",
       "    <tr>\n",
       "      <th>11</th>\n",
       "      <td>11</td>\n",
       "      <td>Mudahogora Placidie</td>\n",
       "    </tr>\n",
       "    <tr>\n",
       "      <th>12</th>\n",
       "      <td>12</td>\n",
       "      <td>TUYISENGE ANICK</td>\n",
       "    </tr>\n",
       "    <tr>\n",
       "      <th>13</th>\n",
       "      <td>13</td>\n",
       "      <td>Bagirishyaka Fulgence</td>\n",
       "    </tr>\n",
       "    <tr>\n",
       "      <th>14</th>\n",
       "      <td>14</td>\n",
       "      <td>Fidele Iragena</td>\n",
       "    </tr>\n",
       "    <tr>\n",
       "      <th>15</th>\n",
       "      <td>15</td>\n",
       "      <td>MUKANKOMEJE  Chantal</td>\n",
       "    </tr>\n",
       "    <tr>\n",
       "      <th>16</th>\n",
       "      <td>16</td>\n",
       "      <td>NABAGIZE JUSTINE</td>\n",
       "    </tr>\n",
       "    <tr>\n",
       "      <th>17</th>\n",
       "      <td>17</td>\n",
       "      <td>NTAWUSIGIRYAYO  Eric</td>\n",
       "    </tr>\n",
       "    <tr>\n",
       "      <th>18</th>\n",
       "      <td>18</td>\n",
       "      <td>IRAMBONA Valens</td>\n",
       "    </tr>\n",
       "    <tr>\n",
       "      <th>19</th>\n",
       "      <td>19</td>\n",
       "      <td>Shingiro John</td>\n",
       "    </tr>\n",
       "  </tbody>\n",
       "</table>\n",
       "</div>"
      ],
      "text/plain": [
       "    codes                      names\n",
       "0       0          Rushambara Alexis\n",
       "1       1        NSHIMIYIMANA PASCAL\n",
       "2       2         Habonimana Gabriel\n",
       "3       3            Nirere Sandrine\n",
       "4       4           NIYIBIZI Leandre\n",
       "5       5            UWASE Francine \n",
       "6       6        Uwizeyimana Viateur\n",
       "7       7           Rusangwa Adolphe\n",
       "8       8  IRADUKUNDA GAHIRE ADOLPHE\n",
       "9       9           Ingabire Emelyne\n",
       "10     10         MUSHIMIRE Clarisse\n",
       "11     11        Mudahogora Placidie\n",
       "12     12            TUYISENGE ANICK\n",
       "13     13      Bagirishyaka Fulgence\n",
       "14     14             Fidele Iragena\n",
       "15     15       MUKANKOMEJE  Chantal\n",
       "16     16           NABAGIZE JUSTINE\n",
       "17     17      NTAWUSIGIRYAYO  Eric \n",
       "18     18            IRAMBONA Valens\n",
       "19     19              Shingiro John"
      ]
     },
     "execution_count": 8,
     "metadata": {},
     "output_type": "execute_result"
    }
   ],
   "source": [
    "enumerators = dict(enumerate(df_team_1[\"fo\"].cat.categories))\n",
    "enumerators = pd.DataFrame(enumerators.items(),columns=[\"codes\", \"names\"])\n",
    "enumerators.head(20)"
   ]
  },
  {
   "cell_type": "code",
   "execution_count": 9,
   "metadata": {},
   "outputs": [
    {
     "name": "stdout",
     "output_type": "stream",
     "text": [
      "Index([], dtype='object')\n",
      "[-1  2  1  0]\n",
      "[ 1  0 -1]\n",
      "[0 1 4 2 5 3]\n",
      "[110 109   2  89 103  99  36 112  13  98   5 137  40  48 119  26   8 140\n",
      " 105  76  42  74  14  59  71 134  91 127  17   4  95  37 116 128  31  52\n",
      "  61 121  51  96  77 102  54  55 122  97 113 139  21 136  35  62  90 108\n",
      "  85 124  79  49  75 138  33  86  68  83 126  64  28  44  30  81   6  88\n",
      "  23  41  11 107  67  65 120 100  15 123  34  10  43  47  57  94   9   3\n",
      "  12  50  70  22  69 131 125 101  20  38  87  16  73  63  92   7 133  46\n",
      "  45 104  80  78  84 114  32   0  72  66  53 117 130 118  24  93  18 106\n",
      "  82  39  27  60 129 141  19  56  29  58 115   1 111 132  25 135]\n"
     ]
    }
   ],
   "source": [
    "#we are going to convert categorical variables to their numeric values\n",
    "df_team_1[cat_cols0] = df_team_1[cat_cols0].apply(lambda x: x.cat.codes)\n",
    "#check the results\n",
    "print(df_team_1.select_dtypes([\"category\"]).columns)\n",
    "print(df_team_1[\"p1_eng_q02_sub3\"].unique())\n",
    "print(df_team_1[\"eng_participation\"].unique())\n",
    "print(df_team_1[\"spv\"].unique())\n",
    "print(df_team_1[\"fo\"].unique())"
   ]
  },
  {
   "cell_type": "code",
   "execution_count": 37,
   "metadata": {},
   "outputs": [
    {
     "name": "stdout",
     "output_type": "stream",
     "text": [
      "<class 'pandas.core.frame.DataFrame'>\n",
      "Int64Index: 56906 entries, 0 to 56905\n",
      "Columns: 450 entries, deviceid to enddate\n",
      "dtypes: datetime64[ns](5), float64(4), int16(1), int8(406), object(34)\n",
      "memory usage: 41.2+ MB\n"
     ]
    }
   ],
   "source": [
    "df_team_1.info()"
   ]
  },
  {
   "cell_type": "markdown",
   "metadata": {},
   "source": [
    "we have successfully converted categorical variables to numeric variables"
   ]
  },
  {
   "cell_type": "code",
   "execution_count": 10,
   "metadata": {},
   "outputs": [
    {
     "name": "stdout",
     "output_type": "stream",
     "text": [
      "Index(['deviceid', 'devicephonenum', 'username', 'device_info', 'duration',\n",
      "       'caseid', 'district', 'sector', 'school', 'grade', 'student_code',\n",
      "       'student_code_other', 'student_code_name', 'time_check_eng_1',\n",
      "       'time_check_eng_2', 'time_check_eng_3', 'time_check_eng_4',\n",
      "       'time_check_eng_5', 'time_check_eng_6', 'time_check_math_1',\n",
      "       'time_check_math_2', 'time_check_math_3', 'time_check_math_4',\n",
      "       'time_check_math_5', 'time_check_math_6', 'time_check_kiny_4',\n",
      "       'time_check_kiny_5', 'time_check_kiny_6', 'time_check_kiny_1',\n",
      "       'time_check_kiny_2', 'time_check_kiny_3', 'time_check_end',\n",
      "       'instancename', 'key'],\n",
      "      dtype='object')\n"
     ]
    }
   ],
   "source": [
    "#check object type variables\n",
    "object_cols = df_team_1.select_dtypes([\"object\"]).columns\n",
    "print(object_cols)"
   ]
  },
  {
   "cell_type": "code",
   "execution_count": null,
   "metadata": {},
   "outputs": [],
   "source": [
    "# let's view the object type variables\n",
    "df_team_1[object_cols].head()"
   ]
  },
  {
   "cell_type": "code",
   "execution_count": 19,
   "metadata": {},
   "outputs": [],
   "source": [
    "#drop unuseful columns\n",
    "df_team_1 = df_team_1.drop(['deviceid', 'devicephonenum', 'username', 'caseid','device_info','instancename', 'key'], axis=1)"
   ]
  },
  {
   "cell_type": "code",
   "execution_count": 20,
   "metadata": {},
   "outputs": [
    {
     "name": "stdout",
     "output_type": "stream",
     "text": [
      "Index(['duration', 'district', 'sector', 'school', 'grade', 'student_code',\n",
      "       'student_code_other', 'student_code_name', 'time_check_eng_1',\n",
      "       'time_check_eng_2', 'time_check_eng_3', 'time_check_eng_4',\n",
      "       'time_check_eng_5', 'time_check_eng_6', 'time_check_math_1',\n",
      "       'time_check_math_2', 'time_check_math_3', 'time_check_math_4',\n",
      "       'time_check_math_5', 'time_check_math_6', 'time_check_kiny_4',\n",
      "       'time_check_kiny_5', 'time_check_kiny_6', 'time_check_kiny_1',\n",
      "       'time_check_kiny_2', 'time_check_kiny_3', 'time_check_end',\n",
      "       'student_code_unsure'],\n",
      "      dtype='object')\n"
     ]
    }
   ],
   "source": [
    "#check object type variables again\n",
    "object_cols0 = df_team_1.select_dtypes([\"object\"]).columns\n",
    "print(object_cols0)"
   ]
  },
  {
   "cell_type": "code",
   "execution_count": null,
   "metadata": {},
   "outputs": [],
   "source": [
    "print(df_team_1[\"school\"].unique())"
   ]
  },
  {
   "cell_type": "code",
   "execution_count": null,
   "metadata": {},
   "outputs": [],
   "source": [
    "print(df_team_1[\"student_code\"].unique())\n",
    "print(df_team_1[\"student_code_name\"].unique())\n",
    "print(df_team_1[\"student_code_other\"].unique())\n",
    "print(df_team_1[\"time_check_eng_1\"].unique())\n",
    "print(df_team_1[\"time_check_end\"].unique())"
   ]
  },
  {
   "cell_type": "code",
   "execution_count": null,
   "metadata": {},
   "outputs": [],
   "source": [
    "df_team_1[[\"student_code\",\"student_code_other\"]][df_team_1[\"student_code_other\"]!=\".\"]"
   ]
  },
  {
   "cell_type": "code",
   "execution_count": 53,
   "metadata": {},
   "outputs": [
    {
     "data": {
      "text/plain": [
       "True"
      ]
     },
     "execution_count": 53,
     "metadata": {},
     "output_type": "execute_result"
    }
   ],
   "source": [
    "df_team_1[\"student_code_other\"][41] == df_team_1[\"student_code\"][41] "
   ]
  },
  {
   "cell_type": "code",
   "execution_count": 21,
   "metadata": {},
   "outputs": [
    {
     "name": "stdout",
     "output_type": "stream",
     "text": [
      "['.' '-555' '555' '540712210384' '21108002025' '555555555555'\n",
      " '510712002010' '540712210425' '421807055001' '4305061550' '5707122003003'\n",
      " '4211020003025' '211001230088' '421102210191' '42111204027'\n",
      " '320028002001']\n"
     ]
    }
   ],
   "source": [
    "#Assigning values to student_code_other based on student_code variable\n",
    "df_team_1.loc[df_team_1[\"student_code_other\"] == df_team_1[\"student_code\"], \"student_code_other\"] = \".\"\n",
    "print(df_team_1.student_code_other.unique())"
   ]
  },
  {
   "cell_type": "code",
   "execution_count": null,
   "metadata": {},
   "outputs": [],
   "source": [
    "df_team_1.loc[df_team_1[\"student_code_other\"] != \".\", [\"student_code\",\"student_code_other\"]]"
   ]
  },
  {
   "cell_type": "code",
   "execution_count": 17,
   "metadata": {},
   "outputs": [
    {
     "data": {
      "text/plain": [
       "array(['-555', '555', '540712210384', '21108002025', '555555555555',\n",
       "       '510712002010', '540712210425', '421807055001', '4305061550',\n",
       "       '5707122003003', '4211020003025', '211001230088', '421102210191',\n",
       "       '42111204027', '320028002001'], dtype=object)"
      ]
     },
     "execution_count": 17,
     "metadata": {},
     "output_type": "execute_result"
    }
   ],
   "source": [
    "df_team_1.loc[df_team_1[\"student_code_other\"] != \".\", \"student_code_other\"].unique()"
   ]
  },
  {
   "cell_type": "code",
   "execution_count": null,
   "metadata": {},
   "outputs": [],
   "source": [
    "df_team_1.loc[df_team_1[\"student_code_other\"].isin(['540712210384', '21108002025',\n",
    "       '510712002010', '540712210425', '421807055001', '4305061550',\n",
    "       '5707122003003', '4211020003025', '211001230088', '421102210191',\n",
    "       '42111204027', '320028002001']), [\"student_code\",\"student_code_other\"]]"
   ]
  },
  {
   "cell_type": "markdown",
   "metadata": {},
   "source": [
    "let's create a column that will help us track these inconsistencies"
   ]
  },
  {
   "cell_type": "code",
   "execution_count": 22,
   "metadata": {},
   "outputs": [],
   "source": [
    "df_team_1[\"student_code_unsure\"] = np.where(df_team_1[\"student_code_other\"].isin(['540712210384', '21108002025',\n",
    "       '510712002010', '540712210425', '421807055001', '4305061550',\n",
    "       '5707122003003', '4211020003025', '211001230088', '421102210191',\n",
    "       '42111204027', '320028002001']),\"flagged\",\"passed\")\n"
   ]
  },
  {
   "cell_type": "code",
   "execution_count": 16,
   "metadata": {},
   "outputs": [
    {
     "name": "stdout",
     "output_type": "stream",
     "text": [
      "passed     56894\n",
      "flagged       12\n",
      "Name: student_code_unsure, dtype: int64\n"
     ]
    }
   ],
   "source": [
    "print(df_team_1[\"student_code_unsure\"].value_counts())"
   ]
  },
  {
   "cell_type": "code",
   "execution_count": 16,
   "metadata": {},
   "outputs": [
    {
     "data": {
      "text/plain": [
       "False"
      ]
     },
     "execution_count": 16,
     "metadata": {},
     "output_type": "execute_result"
    }
   ],
   "source": [
    "# check if student_code column is unique and doesn't have duplicates\n",
    "df_team_1[\"student_code\"].is_unique"
   ]
  },
  {
   "cell_type": "markdown",
   "metadata": {},
   "source": [
    "It seems like we have duplicates in the student code variable.\n",
    "Let us count how many duplicates we have"
   ]
  },
  {
   "cell_type": "code",
   "execution_count": 17,
   "metadata": {},
   "outputs": [
    {
     "data": {
      "text/plain": [
       "451"
      ]
     },
     "execution_count": 17,
     "metadata": {},
     "output_type": "execute_result"
    }
   ],
   "source": [
    "# check how many dups we have\n",
    "df_team_1[\"student_code\"].duplicated().sum()"
   ]
  },
  {
   "cell_type": "markdown",
   "metadata": {},
   "source": [
    "we have around 451 duplicates"
   ]
  },
  {
   "cell_type": "code",
   "execution_count": null,
   "metadata": {},
   "outputs": [],
   "source": [
    "#let us view the duplicates\n",
    "df_team_1[df_team_1[\"student_code\"].isin(df_team_1[\"student_code\"][df_team_1[\"student_code\"].duplicated()])].sort_values([\"student_code\",\"submissiondate\"])"
   ]
  },
  {
   "cell_type": "code",
   "execution_count": 23,
   "metadata": {},
   "outputs": [
    {
     "name": "stdout",
     "output_type": "stream",
     "text": [
      "0\n"
     ]
    }
   ],
   "source": [
    "df_team_1_unique = df_team_1.sort_values([\"student_code\",\"submissiondate\"]).drop_duplicates(\"student_code\",keep=\"last\")\n",
    "# check how many dups we have\n",
    "print(df_team_1_unique[\"student_code\"].duplicated().sum())"
   ]
  },
  {
   "cell_type": "markdown",
   "metadata": {},
   "source": [
    "Now that we have treated student_code duplicates, we can move on with our feature cleaning activities"
   ]
  },
  {
   "cell_type": "code",
   "execution_count": 24,
   "metadata": {},
   "outputs": [],
   "source": [
    "#changing column types to numeric, Datetime, and string\n",
    "\n",
    "#numeric\n",
    "df_team_1_unique[[\"duration\",\"school\",\"student_code\"]] = df_team_1_unique[[\"duration\",\"school\",\"student_code\"]].apply(pd.to_numeric)"
   ]
  },
  {
   "cell_type": "code",
   "execution_count": 25,
   "metadata": {},
   "outputs": [],
   "source": [
    "#datetime\n",
    "# select columns that starts with time_check\n",
    "time_cols = [col for col in df_team_1_unique if col.startswith(\"time_check\")]\n",
    "\n",
    "df_team_1_unique[time_cols] = df_team_1_unique[time_cols].apply(pd.to_datetime)"
   ]
  },
  {
   "cell_type": "code",
   "execution_count": null,
   "metadata": {},
   "outputs": [],
   "source": [
    "# Let us look at how the datetime transformation was executed\n",
    "df_team_1_unique[time_cols]"
   ]
  },
  {
   "cell_type": "code",
   "execution_count": 24,
   "metadata": {},
   "outputs": [
    {
     "name": "stdout",
     "output_type": "stream",
     "text": [
      "Index(['district', 'sector', 'grade', 'student_code_other',\n",
      "       'student_code_name', 'student_code_unsure'],\n",
      "      dtype='object')\n"
     ]
    }
   ],
   "source": [
    "# let's check how many object type columns are left\n",
    "print(df_team_1_unique.select_dtypes(\"object\").columns)"
   ]
  },
  {
   "cell_type": "code",
   "execution_count": 26,
   "metadata": {},
   "outputs": [],
   "source": [
    "# first we drop unwanted columns\n",
    "unwanted_cols = ['student_code_other', 'student_code_name']\n",
    "df_team_1_unique = df_team_1_unique.drop(unwanted_cols, axis=1)\n"
   ]
  },
  {
   "cell_type": "code",
   "execution_count": 27,
   "metadata": {},
   "outputs": [
    {
     "name": "stdout",
     "output_type": "stream",
     "text": [
      "         district        sector grade student_code_unsure\n",
      "41776  'Kicukiro'     'Gikondo'  'P2'            'passed'\n",
      "32697  'Kicukiro'     'Kanombe'  'P3'            'passed'\n",
      "26680  'Kicukiro'    'Kigarama'  'P6'            'passed'\n",
      "26635    'Gasabo'    'Rusororo'  'P5'            'passed'\n",
      "28737  'Kicukiro'  'Nyarugunga'  'P3'            'passed'\n"
     ]
    }
   ],
   "source": [
    "# string\n",
    "string_cols = ['district', 'sector', 'grade', 'student_code_unsure']\n",
    "\n",
    "df_team_1_unique[string_cols] = df_team_1_unique[string_cols].apply(lambda col: col.map(repr)) #interesting\n",
    "print(df_team_1_unique[string_cols].head())"
   ]
  },
  {
   "cell_type": "code",
   "execution_count": null,
   "metadata": {},
   "outputs": [],
   "source": [
    "# let's check how many object type columns are left\n",
    "print(df_team_1_unique.select_dtypes(\"object\").columns)"
   ]
  },
  {
   "cell_type": "markdown",
   "metadata": {},
   "source": [
    "It turns out that string columns are represented as object type!\n",
    "we can now move on to the next stage in our data cleaning/engineering process"
   ]
  },
  {
   "cell_type": "code",
   "execution_count": 28,
   "metadata": {},
   "outputs": [
    {
     "name": "stdout",
     "output_type": "stream",
     "text": [
      "duration spv fo district sector school grade student_code eng_participation time_check_eng_1 p1_eng_q01_sub1 p1_eng_q01_sub2 p1_eng_q02_sub1 p1_eng_q02_sub2 p1_eng_q02_sub3 p1_eng_q03_sub1 p1_eng_q03_sub2 p1_eng_q03_sub3 p1_eng_q04_sub1 p1_eng_q04_sub2 p1_eng_q04_sub3 p1_eng_q05_sub1 p1_eng_q05_sub2 p1_eng_q05_sub3 p1_eng_q05_sub4 p1_eng_q05_sub5 p1_eng_q06_sub1 p1_eng_q06_sub2 p1_eng_q06_sub3 p1_eng_q07_sub1 p1_eng_q07_sub2 p1_eng_q07_sub3 p1_eng_q08_sub1 p1_eng_q08_sub2 p1_eng_q08_sub3 time_check_eng_2 p2_eng_q01_sub1 p2_eng_q01_sub2 p2_eng_q01_sub3 p2_eng_q01_sub4 p2_eng_q02_sub1 p2_eng_q02_sub2 p2_eng_q02_sub3 p2_eng_q03_sub1 p2_eng_q04_sub1 p2_eng_q05_sub1 p2_eng_q06_sub1 p2_eng_q07_sub1 p2_eng_q07_sub2 p2_eng_q08_sub1 p2_eng_q08_sub2 p2_eng_q08_sub3 p2_eng_q09_sub1 p2_eng_q09_sub2 p2_eng_q09_sub3 p2_eng_q10_sub1 p2_eng_q10_sub2 p2_eng_q10_sub3 p2_eng_q10_sub4 p2_eng_q11_sub1 time_check_eng_3 p3_eng_q01_sub1 p3_eng_q01_sub2 p3_eng_q02_sub1 p3_eng_q03_sub1 p3_eng_q04_sub1 p3_eng_q04_sub2 p3_eng_q04_sub3 p3_eng_q04_sub4 p3_eng_q05_sub1 p3_eng_q05_sub2 p3_eng_q05_sub3 p3_eng_q06_sub1 p3_eng_q06_sub2 p3_eng_q06_sub3 p3_eng_q07_sub1 p3_eng_q07_sub2 p3_eng_q08_sub1 p3_eng_q08_sub2 p3_eng_q09_sub1 p3_eng_q09_sub2 p3_eng_q10_sub1 p3_eng_q10_sub2 p3_eng_q11_sub1 p3_eng_q12_sub1 p3_eng_q13_sub1 time_check_eng_4 p4_eng_q01_sub1 p4_eng_q01_sub2 p4_eng_q01_sub3 p4_eng_q01_sub4 p4_eng_q02_sub1 p4_eng_q03_sub1 p4_eng_q03_sub2 p4_eng_q03_sub3 p4_eng_q03_sub4 p4_eng_q03_sub5 p4_eng_q04_sub1 p4_eng_q04_sub2 p4_eng_q04_sub3 p4_eng_q04_sub4 p4_eng_q04_sub5 p4_eng_q05_sub1 p4_eng_q05_sub2 p4_eng_q05_sub3 p4_eng_q05_sub4 p4_eng_q06_sub1 p4_eng_q07_sub1 p4_eng_q07_sub2 p4_eng_q07_sub3 p4_eng_q08_sub1 p4_eng_q08_sub2 p4_eng_q08_sub3 p4_eng_q09_sub1 p4_eng_q10_sub1 time_check_eng_5 p5_eng_q01_sub1 p5_eng_q01_sub2 p5_eng_q02_sub1 p5_eng_q02_sub2 p5_eng_q02_sub3 p5_eng_q03_sub1 p5_eng_q03_sub2 p5_eng_q03_sub3 p5_eng_q03_sub4 p5_eng_q03_sub5 p5_eng_q04_sub1 p5_eng_q04_sub2 p5_eng_q04_sub3 p5_eng_q05_sub1 p5_eng_q06_sub1 p5_eng_q06_sub2 p5_eng_q06_sub3 p5_eng_q06_sub4 p5_eng_q07_sub1 p5_eng_q07_sub2 p5_eng_q08_sub1 p5_eng_q08_sub2 p5_eng_q08_sub3 p5_eng_q08_sub4 p5_eng_q08_sub5 time_check_eng_6 p6_eng_q01_sub1 p6_eng_q01_sub2 p6_eng_q01_sub3 p6_eng_q02_sub1 p6_eng_q03_sub1 p6_eng_q04_sub1 p6_eng_q04_sub2 p6_eng_q04_sub3 p6_eng_q04_sub4 p6_eng_q05_sub1 p6_eng_q05_sub2 p6_eng_q05_sub3 p6_eng_q05_sub4 p6_eng_q05_sub5 p6_eng_q06_sub1 p6_eng_q06_sub2 p6_eng_q06_sub3 p6_eng_q06_sub4 p6_eng_q06_sub5 p6_eng_q07_sub1 p6_eng_q07_sub2 p6_eng_q08_sub1 p6_eng_q09_sub1 p6_eng_q10_sub1 p6_eng_q11_sub1 mat_participation time_check_math_1 p1_mat_q01_sub1 p1_mat_q01_sub2 p1_mat_q02_sub1 p1_mat_q02_sub2 p1_mat_q02_sub3 p1_mat_q02_sub4 p1_mat_q03_sub1 p1_mat_q04_sub1 p1_mat_q04_sub2 p1_mat_q05_sub1 p1_mat_q06_sub1 p1_mat_q06_sub2 p1_mat_q06_sub3 p1_mat_q07_sub1 p1_mat_q08_sub1 p1_mat_q08_sub2 p1_mat_q09_sub1 p1_mat_q10_sub1 p1_mat_q11_sub1 p1_mat_q12_sub1 p1_mat_q12_sub2 time_check_math_2 p2_mat_q01_sub1 p2_mat_q02_sub1 p2_mat_q02_sub2 p2_mat_q02_sub3 p2_mat_q03_sub1 p2_mat_q03_sub2 p2_mat_q04_sub1 p2_mat_q04_sub2 p2_mat_q05_sub1 p2_mat_q05_sub2 p2_mat_q06_sub1 p2_mat_q06_sub2 p2_mat_q06_sub3 p2_mat_q06_sub4 p2_mat_q07_sub1 p2_mat_q08_sub1 p2_mat_q09_sub1 p2_mat_q09_sub2 p2_mat_q10_sub1 p2_mat_q10_sub2 p2_mat_q10_sub3 p2_mat_q10_sub4 time_check_math_3 p3_mat_q01_sub1 p3_mat_q01_sub2 p3_mat_q01_sub3 p3_mat_q01_sub4 p3_mat_q02_sub1 p3_mat_q02_sub2 p3_mat_q03_sub1 p3_mat_q04_sub1 p3_mat_q04_sub2 p3_mat_q05_sub1 p3_mat_q05_sub2 p3_mat_q06_sub1 p3_mat_q06_sub2 p3_mat_q07_sub1 p3_mat_q08_sub1 p3_mat_q09_sub1 p3_mat_q09_sub2 p3_mat_q10_sub1 p3_mat_q10_sub2 p3_mat_q11_sub1 p3_mat_q11_sub2 p3_mat_q11_sub3 p3_mat_q12_sub1 p3_mat_q12_sub2 time_check_math_4 p4_mat_q01_sub1_1 p4_mat_q01_sub1_2 p4_mat_q01_sub1_3 p4_mat_q01_sub2 p4_mat_q01_sub3 p4_mat_q02_sub1 p4_mat_q02_sub2 p4_mat_q03_sub1 p4_mat_q04_sub1 p4_mat_q04_sub2 p4_mat_q05_sub1 p4_mat_q05_sub2 p4_mat_q05_sub3 p4_mat_q06_sub1 p4_mat_q06_sub2 p4_mat_q07_sub1 p4_mat_q07_sub2 p4_mat_q08_sub1 p4_mat_q09_sub1 p4_mat_q10_sub1 p4_mat_q11_sub1 p4_mat_q11_sub2 p4_mat_q11_sub3 p4_mat_q11_sub4 p4_mat_q12_sub1 p4_mat_q12_sub2 time_check_math_5 p5_mat_q01_sub1_1 p5_mat_q01_sub1_2 p5_mat_q01_sub1_3 p5_mat_q01_sub2 p5_mat_q01_sub3 p5_mat_q02_sub1 p5_mat_q02_sub2 p5_mat_q03_sub1 p5_mat_q04_sub1 p5_mat_q04_sub2 p5_mat_q05_sub1 p5_mat_q05_sub2 p5_mat_q06_sub1 p5_mat_q07_sub1 p5_mat_q08_sub1 p5_mat_q09_sub1 p5_mat_q10_sub1 p5_mat_q11_sub1 p5_mat_q11_sub2 p5_mat_q12_sub1 p5_mat_q13_sub1_1 p5_mat_q13_sub1_2 p5_mat_q13_sub1_3 p5_mat_q13_sub2 p5_mat_q14_sub1 p5_mat_q14_sub2 p5_mat_q15_sub1 p5_mat_q15_sub2 p5_mat_q16_sub1 time_check_math_6 p6_mat_q01_sub1 p6_mat_q01_sub2 p6_mat_q02_sub1_1 p6_mat_q02_sub1_2 p6_mat_q02_sub1_3 p6_mat_q02_sub1_4 p6_mat_q02_sub2 p6_mat_q02_sub3 p6_mat_q03_sub1_1 p6_mat_q03_sub1_2 p6_mat_q03_sub2_1 p6_mat_q03_sub2_2 p6_mat_q04_sub1 p6_mat_q04_sub2 p6_mat_q05_sub1 p6_mat_q05_sub2 p6_mat_q05_sub3_1 p6_mat_q05_sub3_2 p6_mat_q05_sub4_1 p6_mat_q05_sub4_2 p6_mat_q06_sub1 p6_mat_q07_sub1 p6_mat_q07_sub2 p6_mat_q08_sub1 p6_mat_q08_sub2 p6_mat_q09_sub1 p6_mat_q10_sub1 p6_mat_q11_sub1 kiny_participation time_check_kiny_4 p4_kin_q01_sub1 p4_kin_q01_sub2 p4_kin_q02_sub1 p4_kin_q03_sub1_1 p4_kin_q03_sub1_2 p4_kin_q03_sub2 p4_kin_q04_sub1 p4_kin_q04_sub2 p4_kin_q04_sub3 p4_kin_q05_sub1 p4_kin_q05_sub2 p4_kin_q05_sub3 p4_kin_q06_sub1 p4_kin_q06_sub2 p4_kin_q07_sub1 p4_kin_q08_sub1 p4_kin_q08_sub2 p4_kin_q08_sub3 p4_kin_q08_sub4 p4_kin_q08_sub5 p4_kin_q09_sub1_1 p4_kin_q09_sub1_2 p4_kin_q09_sub1_3 p4_kin_q10_sub1 p4_kin_q11_sub1 p4_kin_q12_sub1 p4_kin_q12_sub2 time_check_kiny_5 p5_kin_q01_sub1_1 p5_kin_q01_sub1_2 p5_kin_q02_sub1 p5_kin_q03_sub1_1 p5_kin_q03_sub1_2 p5_kin_q04_sub1 p5_kin_q05_sub1 p5_kin_q05_sub2 p5_kin_q05_sub3 p5_kin_q06_sub1_1 p5_kin_q06_sub1_2 p5_kin_q06_sub2_1 p5_kin_q06_sub2_2 p5_kin_q07_sub1 p5_kin_q07_sub2 p5_kin_q08_sub1 p5_kin_q08_sub2 p5_kin_q09_sub1 p5_kin_q10_sub1 p5_kin_q11_sub1 p5_kin_q12_sub1 p5_kin_q12_sub2 p5_kin_q13_sub1 p5_kin_q14_sub1_1 p5_kin_q14_sub1_2 p5_kin_q15_sub1 time_check_kiny_6 p6_kin_q01_sub1 p6_kin_q01_sub2 p6_kin_q02_sub1_1 p6_kin_q02_sub1_2 p6_kin_q03_sub1_1 p6_kin_q03_sub1_2 p6_kin_q03_sub1_3 p6_kin_q04_sub1 p6_kin_q04_sub2 p6_kin_q04_sub3 p6_kin_q05_sub1 p6_kin_q05_sub2 p6_kin_q05_sub3 p6_kin_q05_sub4 p6_kin_q05_sub5 p6_kin_q06_sub1_1 p6_kin_q06_sub1_2 p6_kin_q06_sub2_1 p6_kin_q06_sub2_2 p6_kin_q06_sub2_3 p6_kin_q07_sub1 p6_kin_q07_sub2 p6_kin_q07_sub3 p6_kin_q08_sub1 p6_kin_q08_sub2 p6_kin_q09_sub1_1 p6_kin_q09_sub1_2 p6_kin_q10_sub1_1 p6_kin_q10_sub1_2 p6_kin_q10_sub2_1 p6_kin_q10_sub2_2 legra_participation time_check_kiny_1 p1_leg_cwpm_sub1 p1_leg_q01_sub1 p1_leg_q02_sub1 p1_leg_q03_sub1 p1_leg_q04_sub1 p1_leg_q05_sub1 time_check_kiny_2 p2_leg_cwpm_sub1 p2_leg_q01_sub1 p2_leg_q02_sub1 p2_leg_q03_sub1 p2_leg_q04_sub1 p2_leg_q05_sub1 time_check_kiny_3 p3_leg_cwpm_sub1 p3_leg_q01_sub1 p3_leg_q02_sub1 p3_leg_q03_sub1 p3_leg_q04_sub1 p3_leg_q05_sub1 time_check_end formdef_version submissiondate starttime endtime subdate enddate student_code_unsure\n"
     ]
    }
   ],
   "source": [
    "# Let's view the columns we have in our dataset\n",
    "columns_df = df_team_1_unique.columns\n",
    "print(*columns_df)"
   ]
  },
  {
   "cell_type": "markdown",
   "metadata": {},
   "source": [
    "We are going to remove columns that are not important for the following steps"
   ]
  },
  {
   "cell_type": "code",
   "execution_count": 29,
   "metadata": {},
   "outputs": [],
   "source": [
    "cols_remove = ['formdef_version',  'submissiondate', 'starttime', 'endtime',  'enddate']\n",
    "df_long_1 = df_team_1_unique.copy()\n",
    "df_long_1 = df_long_1.drop(cols_remove,axis=1)"
   ]
  },
  {
   "cell_type": "markdown",
   "metadata": {},
   "source": [
    "##### Reshaping the dataset from Wide to Long"
   ]
  },
  {
   "cell_type": "code",
   "execution_count": 30,
   "metadata": {},
   "outputs": [],
   "source": [
    "# from wide to long\n",
    "timing_cols = [col for col in df_long_1 if col.startswith(\"time_check\")]\n",
    "time_math = [col for col in df_long_1 if col.startswith(\"time_check_math\")]\n",
    "time_eng = [col for col in df_long_1 if col.startswith(\"time_check_eng\")]\n",
    "time_kiny = [col for col in df_long_1 if col.startswith(\"time_check_kiny\")]\n",
    "id_variables = ['duration', 'spv', 'fo', 'district', 'sector', 'school', 'grade', \n",
    "                   'student_code', 'subdate', 'student_code_unsure'] + timing_cols\n",
    "df_long_1 = pd.melt(df_long_1, id_vars= id_variables, \n",
    "                   var_name=\"questions\", value_name=\"answers\").reset_index()"
   ]
  },
  {
   "cell_type": "code",
   "execution_count": 31,
   "metadata": {},
   "outputs": [
    {
     "name": "stdout",
     "output_type": "stream",
     "text": [
      "Index(['spv', 'fo', 'district', 'sector', 'school', 'grade', 'student_code',\n",
      "       'subdate', 'student_code_unsure', 'questions', 'answers'],\n",
      "      dtype='object')\n"
     ]
    }
   ],
   "source": [
    "# subset data that we can use to compare with team 2 data to check for discrepancies\n",
    "df_long_sub_1 = df_long_1.drop(timing_cols + [\"index\",\"duration\"], axis=1)\n",
    "print(df_long_sub_1.columns)"
   ]
  },
  {
   "cell_type": "code",
   "execution_count": 32,
   "metadata": {},
   "outputs": [],
   "source": [
    "# setting global path\n",
    "path_learnassess_year1 = \"data/ipa-data/learning_assessment/data_entry/year1/clean\""
   ]
  },
  {
   "cell_type": "code",
   "execution_count": 33,
   "metadata": {},
   "outputs": [],
   "source": [
    "# let's save the current dataset for future reference\n",
    "df_long_sub_1.to_csv(f'{path_learnassess_year1}/first_entry/first_data_long_sub.csv',index=False)"
   ]
  },
  {
   "cell_type": "markdown",
   "metadata": {},
   "source": [
    "We are now going to go thru the process for the second entry dataset "
   ]
  },
  {
   "cell_type": "code",
   "execution_count": 34,
   "metadata": {},
   "outputs": [
    {
     "data": {
      "text/html": [
       "<div>\n",
       "<style scoped>\n",
       "    .dataframe tbody tr th:only-of-type {\n",
       "        vertical-align: middle;\n",
       "    }\n",
       "\n",
       "    .dataframe tbody tr th {\n",
       "        vertical-align: top;\n",
       "    }\n",
       "\n",
       "    .dataframe thead th {\n",
       "        text-align: right;\n",
       "    }\n",
       "</style>\n",
       "<table border=\"1\" class=\"dataframe\">\n",
       "  <thead>\n",
       "    <tr style=\"text-align: right;\">\n",
       "      <th></th>\n",
       "      <th>deviceid</th>\n",
       "      <th>devicephonenum</th>\n",
       "      <th>username</th>\n",
       "      <th>device_info</th>\n",
       "      <th>duration</th>\n",
       "      <th>caseid</th>\n",
       "      <th>spv</th>\n",
       "      <th>fo</th>\n",
       "      <th>district</th>\n",
       "      <th>sector</th>\n",
       "      <th>...</th>\n",
       "      <th>kin1marks_p6_kin1p6_kin_q021p6_k</th>\n",
       "      <th>kin1marks_p6_kin1p6_kin_q061p6_k</th>\n",
       "      <th>kin1marks_p6_kin1p6_kin_q101p6_k</th>\n",
       "      <th>v454</th>\n",
       "      <th>submissiondate</th>\n",
       "      <th>starttime</th>\n",
       "      <th>endtime</th>\n",
       "      <th>subdate</th>\n",
       "      <th>enddate</th>\n",
       "      <th>v453</th>\n",
       "    </tr>\n",
       "  </thead>\n",
       "  <tbody>\n",
       "    <tr>\n",
       "      <th>0</th>\n",
       "      <td>04ff4e9b544ef4f3</td>\n",
       "      <td></td>\n",
       "      <td>collect</td>\n",
       "      <td>samsung|SM-T225|13|SurveyCTO Collect 2.80.2 (2...</td>\n",
       "      <td>685</td>\n",
       "      <td></td>\n",
       "      <td>Uwimana  Pauline</td>\n",
       "      <td>Rushambara Alexis</td>\n",
       "      <td>Gatsibo</td>\n",
       "      <td>Muhura</td>\n",
       "      <td>...</td>\n",
       "      <td>NaN</td>\n",
       "      <td>NaN</td>\n",
       "      <td>NaN</td>\n",
       "      <td>NaN</td>\n",
       "      <td>2023-07-22 18:06:12</td>\n",
       "      <td>2023-07-22 14:29:07</td>\n",
       "      <td>2023-07-22 14:40:32</td>\n",
       "      <td>2023-07-22</td>\n",
       "      <td>2023-07-22</td>\n",
       "      <td>NaN</td>\n",
       "    </tr>\n",
       "    <tr>\n",
       "      <th>1</th>\n",
       "      <td>82e7dd08ca164eed</td>\n",
       "      <td></td>\n",
       "      <td>collect</td>\n",
       "      <td>TECNO|TECNO KC8|10|SurveyCTO Collect 2.80.2 (2...</td>\n",
       "      <td>354</td>\n",
       "      <td></td>\n",
       "      <td>Havugimana Saidi</td>\n",
       "      <td>Rusangwa Adolphe</td>\n",
       "      <td>Gakenke</td>\n",
       "      <td>Nemba</td>\n",
       "      <td>...</td>\n",
       "      <td>NaN</td>\n",
       "      <td>NaN</td>\n",
       "      <td>NaN</td>\n",
       "      <td>NaN</td>\n",
       "      <td>2023-07-24 17:57:22</td>\n",
       "      <td>2023-07-24 15:35:32</td>\n",
       "      <td>2023-07-24 15:41:26</td>\n",
       "      <td>2023-07-24</td>\n",
       "      <td>2023-07-24</td>\n",
       "      <td>NaN</td>\n",
       "    </tr>\n",
       "    <tr>\n",
       "      <th>2</th>\n",
       "      <td>90d67cc0f52bca6a</td>\n",
       "      <td></td>\n",
       "      <td>collect</td>\n",
       "      <td>samsung|SM-T225|13|SurveyCTO Collect 2.80.2 (2...</td>\n",
       "      <td>203</td>\n",
       "      <td></td>\n",
       "      <td>Havugimana Saidi</td>\n",
       "      <td>Alice Uwiduhaye</td>\n",
       "      <td>Huye</td>\n",
       "      <td>Ruhashya</td>\n",
       "      <td>...</td>\n",
       "      <td>NaN</td>\n",
       "      <td>NaN</td>\n",
       "      <td>NaN</td>\n",
       "      <td>NaN</td>\n",
       "      <td>2023-07-31 14:55:18</td>\n",
       "      <td>2023-07-31 12:14:17</td>\n",
       "      <td>2023-07-31 12:17:40</td>\n",
       "      <td>2023-07-31</td>\n",
       "      <td>2023-07-31</td>\n",
       "      <td>NaN</td>\n",
       "    </tr>\n",
       "    <tr>\n",
       "      <th>3</th>\n",
       "      <td>fef81386406b2650</td>\n",
       "      <td></td>\n",
       "      <td>collect</td>\n",
       "      <td>samsung|SM-T225|13|SurveyCTO Collect 2.80.2 (2...</td>\n",
       "      <td>1279</td>\n",
       "      <td></td>\n",
       "      <td>Havugimana Saidi</td>\n",
       "      <td>Sandrine MAHORO</td>\n",
       "      <td>Gakenke</td>\n",
       "      <td>Kivuruga</td>\n",
       "      <td>...</td>\n",
       "      <td>NaN</td>\n",
       "      <td>NaN</td>\n",
       "      <td>NaN</td>\n",
       "      <td>NaN</td>\n",
       "      <td>2023-07-24 07:42:06</td>\n",
       "      <td>2023-07-22 13:36:34</td>\n",
       "      <td>2023-07-22 13:58:30</td>\n",
       "      <td>2023-07-24</td>\n",
       "      <td>2023-07-22</td>\n",
       "      <td>NaN</td>\n",
       "    </tr>\n",
       "    <tr>\n",
       "      <th>4</th>\n",
       "      <td>1dd6117f9ca5748e</td>\n",
       "      <td></td>\n",
       "      <td>collect</td>\n",
       "      <td>samsung|SM-T225|13|SurveyCTO Collect 2.80.2 (2...</td>\n",
       "      <td>951</td>\n",
       "      <td></td>\n",
       "      <td>Havugimana Saidi</td>\n",
       "      <td>DUSABIMANA Angelique</td>\n",
       "      <td>Gakenke</td>\n",
       "      <td>Kivuruga</td>\n",
       "      <td>...</td>\n",
       "      <td>NaN</td>\n",
       "      <td>NaN</td>\n",
       "      <td>NaN</td>\n",
       "      <td>NaN</td>\n",
       "      <td>2023-07-24 07:38:17</td>\n",
       "      <td>2023-07-22 15:03:35</td>\n",
       "      <td>2023-07-22 15:19:41</td>\n",
       "      <td>2023-07-24</td>\n",
       "      <td>2023-07-22</td>\n",
       "      <td>NaN</td>\n",
       "    </tr>\n",
       "  </tbody>\n",
       "</table>\n",
       "<p>5 rows × 456 columns</p>\n",
       "</div>"
      ],
      "text/plain": [
       "           deviceid devicephonenum username  \\\n",
       "0  04ff4e9b544ef4f3                 collect   \n",
       "1  82e7dd08ca164eed                 collect   \n",
       "2  90d67cc0f52bca6a                 collect   \n",
       "3  fef81386406b2650                 collect   \n",
       "4  1dd6117f9ca5748e                 collect   \n",
       "\n",
       "                                         device_info duration caseid  \\\n",
       "0  samsung|SM-T225|13|SurveyCTO Collect 2.80.2 (2...      685          \n",
       "1  TECNO|TECNO KC8|10|SurveyCTO Collect 2.80.2 (2...      354          \n",
       "2  samsung|SM-T225|13|SurveyCTO Collect 2.80.2 (2...      203          \n",
       "3  samsung|SM-T225|13|SurveyCTO Collect 2.80.2 (2...     1279          \n",
       "4  samsung|SM-T225|13|SurveyCTO Collect 2.80.2 (2...      951          \n",
       "\n",
       "                spv                    fo district    sector  ...  \\\n",
       "0  Uwimana  Pauline     Rushambara Alexis  Gatsibo    Muhura  ...   \n",
       "1  Havugimana Saidi      Rusangwa Adolphe  Gakenke     Nemba  ...   \n",
       "2  Havugimana Saidi       Alice Uwiduhaye     Huye  Ruhashya  ...   \n",
       "3  Havugimana Saidi       Sandrine MAHORO  Gakenke  Kivuruga  ...   \n",
       "4  Havugimana Saidi  DUSABIMANA Angelique  Gakenke  Kivuruga  ...   \n",
       "\n",
       "  kin1marks_p6_kin1p6_kin_q021p6_k kin1marks_p6_kin1p6_kin_q061p6_k  \\\n",
       "0                              NaN                              NaN   \n",
       "1                              NaN                              NaN   \n",
       "2                              NaN                              NaN   \n",
       "3                              NaN                              NaN   \n",
       "4                              NaN                              NaN   \n",
       "\n",
       "  kin1marks_p6_kin1p6_kin_q101p6_k v454      submissiondate  \\\n",
       "0                              NaN  NaN 2023-07-22 18:06:12   \n",
       "1                              NaN  NaN 2023-07-24 17:57:22   \n",
       "2                              NaN  NaN 2023-07-31 14:55:18   \n",
       "3                              NaN  NaN 2023-07-24 07:42:06   \n",
       "4                              NaN  NaN 2023-07-24 07:38:17   \n",
       "\n",
       "            starttime             endtime    subdate    enddate v453  \n",
       "0 2023-07-22 14:29:07 2023-07-22 14:40:32 2023-07-22 2023-07-22  NaN  \n",
       "1 2023-07-24 15:35:32 2023-07-24 15:41:26 2023-07-24 2023-07-24  NaN  \n",
       "2 2023-07-31 12:14:17 2023-07-31 12:17:40 2023-07-31 2023-07-31  NaN  \n",
       "3 2023-07-22 13:36:34 2023-07-22 13:58:30 2023-07-24 2023-07-22  NaN  \n",
       "4 2023-07-22 15:03:35 2023-07-22 15:19:41 2023-07-24 2023-07-22  NaN  \n",
       "\n",
       "[5 rows x 456 columns]"
      ]
     },
     "execution_count": 34,
     "metadata": {},
     "output_type": "execute_result"
    }
   ],
   "source": [
    "data_entry_team_2.head()"
   ]
  },
  {
   "cell_type": "code",
   "execution_count": 35,
   "metadata": {},
   "outputs": [
    {
     "data": {
      "text/html": [
       "<div>\n",
       "<style scoped>\n",
       "    .dataframe tbody tr th:only-of-type {\n",
       "        vertical-align: middle;\n",
       "    }\n",
       "\n",
       "    .dataframe tbody tr th {\n",
       "        vertical-align: top;\n",
       "    }\n",
       "\n",
       "    .dataframe thead th {\n",
       "        text-align: right;\n",
       "    }\n",
       "</style>\n",
       "<table border=\"1\" class=\"dataframe\">\n",
       "  <thead>\n",
       "    <tr style=\"text-align: right;\">\n",
       "      <th></th>\n",
       "      <th>count</th>\n",
       "      <th>mean</th>\n",
       "      <th>std</th>\n",
       "      <th>min</th>\n",
       "      <th>25%</th>\n",
       "      <th>50%</th>\n",
       "      <th>75%</th>\n",
       "      <th>max</th>\n",
       "    </tr>\n",
       "  </thead>\n",
       "  <tbody>\n",
       "    <tr>\n",
       "      <th>p1_leg_cwpm_sub1</th>\n",
       "      <td>1680.0</td>\n",
       "      <td>1.100536e+01</td>\n",
       "      <td>9.915094e+00</td>\n",
       "      <td>0.000000e+00</td>\n",
       "      <td>0.000000e+00</td>\n",
       "      <td>1.000000e+01</td>\n",
       "      <td>2.000000e+01</td>\n",
       "      <td>2.700000e+01</td>\n",
       "    </tr>\n",
       "    <tr>\n",
       "      <th>p2_leg_cwpm_sub1</th>\n",
       "      <td>1712.0</td>\n",
       "      <td>2.364194e+01</td>\n",
       "      <td>1.288926e+01</td>\n",
       "      <td>0.000000e+00</td>\n",
       "      <td>1.600000e+01</td>\n",
       "      <td>2.500000e+01</td>\n",
       "      <td>3.500000e+01</td>\n",
       "      <td>4.100000e+01</td>\n",
       "    </tr>\n",
       "    <tr>\n",
       "      <th>p3_leg_cwpm_sub1</th>\n",
       "      <td>1647.0</td>\n",
       "      <td>3.568124e+01</td>\n",
       "      <td>1.478525e+01</td>\n",
       "      <td>0.000000e+00</td>\n",
       "      <td>2.700000e+01</td>\n",
       "      <td>3.600000e+01</td>\n",
       "      <td>4.700000e+01</td>\n",
       "      <td>5.900000e+01</td>\n",
       "    </tr>\n",
       "    <tr>\n",
       "      <th>formdef_version</th>\n",
       "      <td>57431.0</td>\n",
       "      <td>2.402221e+09</td>\n",
       "      <td>2.175086e+07</td>\n",
       "      <td>2.307211e+09</td>\n",
       "      <td>2.407201e+09</td>\n",
       "      <td>2.407201e+09</td>\n",
       "      <td>2.407201e+09</td>\n",
       "      <td>2.407201e+09</td>\n",
       "    </tr>\n",
       "  </tbody>\n",
       "</table>\n",
       "</div>"
      ],
      "text/plain": [
       "                    count          mean           std           min  \\\n",
       "p1_leg_cwpm_sub1   1680.0  1.100536e+01  9.915094e+00  0.000000e+00   \n",
       "p2_leg_cwpm_sub1   1712.0  2.364194e+01  1.288926e+01  0.000000e+00   \n",
       "p3_leg_cwpm_sub1   1647.0  3.568124e+01  1.478525e+01  0.000000e+00   \n",
       "formdef_version   57431.0  2.402221e+09  2.175086e+07  2.307211e+09   \n",
       "\n",
       "                           25%           50%           75%           max  \n",
       "p1_leg_cwpm_sub1  0.000000e+00  1.000000e+01  2.000000e+01  2.700000e+01  \n",
       "p2_leg_cwpm_sub1  1.600000e+01  2.500000e+01  3.500000e+01  4.100000e+01  \n",
       "p3_leg_cwpm_sub1  2.700000e+01  3.600000e+01  4.700000e+01  5.900000e+01  \n",
       "formdef_version   2.407201e+09  2.407201e+09  2.407201e+09  2.407201e+09  "
      ]
     },
     "execution_count": 35,
     "metadata": {},
     "output_type": "execute_result"
    }
   ],
   "source": [
    "data_entry_team_2.dropna(axis=1,how='all').describe(include=[np.number]).T"
   ]
  },
  {
   "cell_type": "code",
   "execution_count": 36,
   "metadata": {},
   "outputs": [
    {
     "name": "stdout",
     "output_type": "stream",
     "text": [
      "<class 'pandas.core.frame.DataFrame'>\n",
      "Int64Index: 57431 entries, 0 to 57430\n",
      "Columns: 456 entries, deviceid to v453\n",
      "dtypes: category(407), datetime64[ns](5), float64(10), object(34)\n",
      "memory usage: 44.3+ MB\n"
     ]
    }
   ],
   "source": [
    "data_entry_team_2.info()"
   ]
  },
  {
   "cell_type": "code",
   "execution_count": 37,
   "metadata": {},
   "outputs": [
    {
     "name": "stdout",
     "output_type": "stream",
     "text": [
      "['kin1marks_p6_kin1p6_kin_q021p6_k', 'kin1marks_p6_kin1p6_kin_q061p6_k', 'kin1marks_p6_kin1p6_kin_q101p6_k', 'v453', 'kin1marks_p5_kin1p5_kin_q141p5_k', 'v454']\n",
      "[]\n"
     ]
    }
   ],
   "source": [
    "# check columns that are entirely empty\n",
    "empty_cols_2 = [col for col in data_entry_team_2 if  data_entry_team_2[col].isna().all()]\n",
    "print(empty_cols)\n",
    "\n",
    "#drop empty cols\n",
    "df_team_2 = data_entry_team_2.copy()\n",
    "df_team_2 = df_team_2.drop(empty_cols,axis = 1)\n",
    "\n",
    "# check columns that are entirely empty\n",
    "empty_cols_20 = [col for col in df_team_2 if  df_team_2[col].isna().all()]\n",
    "print(empty_cols_20)"
   ]
  },
  {
   "cell_type": "code",
   "execution_count": 38,
   "metadata": {},
   "outputs": [
    {
     "name": "stdout",
     "output_type": "stream",
     "text": [
      "Index(['spv', 'fo', 'eng_participation', 'p1_eng_q01_sub1', 'p1_eng_q01_sub2',\n",
      "       'p1_eng_q02_sub1', 'p1_eng_q02_sub2', 'p1_eng_q02_sub3',\n",
      "       'p1_eng_q03_sub1', 'p1_eng_q03_sub2',\n",
      "       ...\n",
      "       'p2_leg_q01_sub1', 'p2_leg_q02_sub1', 'p2_leg_q03_sub1',\n",
      "       'p2_leg_q04_sub1', 'p2_leg_q05_sub1', 'p3_leg_q01_sub1',\n",
      "       'p3_leg_q02_sub1', 'p3_leg_q03_sub1', 'p3_leg_q04_sub1',\n",
      "       'p3_leg_q05_sub1'],\n",
      "      dtype='object', length=407)\n"
     ]
    }
   ],
   "source": [
    "# let's check categorical columns\n",
    "cat_cols0 = df_team_2.select_dtypes([\"category\"]).columns\n",
    "print(cat_cols0)"
   ]
  },
  {
   "cell_type": "code",
   "execution_count": 39,
   "metadata": {},
   "outputs": [
    {
     "name": "stdout",
     "output_type": "stream",
     "text": [
      "{0: 'Left blank', 1: 'No', 2: 'Yes'}\n",
      "{0: 'No', 1: 'Yes'}\n",
      "{0: 'Shema Christian', 1: 'NAHIMANA Reverien   ', 2: 'Havugimana Saidi', 3: 'Uwimana  Pauline', 4: 'NTAREMBA George   ', 5: 'Hatangimana Gisele'}\n",
      "{0: 'Musabeyezu Noella ', 1: 'Rushambara Alexis', 2: 'NSHIMIYIMANA PASCAL', 3: 'Habonimana Gabriel', 4: 'Nirere Sandrine', 5: 'NIYIBIZI Leandre', 6: 'UWASE Francine\\xa0', 7: 'Uwizeyimana Viateur', 8: 'Rusangwa Adolphe', 9: 'IRADUKUNDA GAHIRE ADOLPHE', 10: 'Ingabire Emelyne', 11: 'MUSHIMIRE Clarisse', 12: 'TUYISENGE ANICK', 13: 'Bagirishyaka Fulgence', 14: 'Fidele Iragena', 15: 'MUKANKOMEJE  Chantal', 16: 'NABAGIZE JUSTINE', 17: 'NTAWUSIGIRYAYO  Eric ', 18: 'IRAMBONA Valens', 19: 'Shingiro John', 20: 'UMUBYEYI MARIE GRACE', 21: 'MURAGIJIMANA Obadia', 22: 'UMUBYEYI Claudine', 23: 'DUFATANYE Devota', 24: 'NSHIMIYIMANA Bernard', 25: 'MUKANSANGA Jacqueline', 26: 'UWIMANA Jeannette', 27: 'NAHAYO Jean Damascene', 28: 'DUSENGUMUREMYI Yvonne', 29: 'NDIKUMWENAYO Epimaque', 30: 'DUHAWUMUGISHA Nathan', 31: 'GATETE Fred', 32: 'MUTUYIMANA Josephine', 33: 'KAVAMAHANGA Lambert', 34: 'AENGAMIYE RWABUKWISI Smith Eugene', 35: 'HABARUREMA Jean Paul', 36: 'INGABIRE Marie Grace', 37: 'TUYISHIME Clementine', 38: 'HABIYAREMYE Aimable', 39: 'BITEGETSIMANA Samuel', 40: 'MUGISHA David', 41: 'Mwungura Ntagawa', 42: 'Niyonsaba Jean Pierre', 43: 'Nsengimana Joseph', 44: 'NSENGIYUMVA  Innocent', 45: 'TUYISINGIZE Nepomuscene', 46: 'Uwamariya Masca', 47: 'Umuhire  Jerome', 48: 'Bavugempore Jean de Dieu', 49: 'Hakizimana Emmy', 50: 'Masa Mutuyeyezu Redampta', 51: 'Mukashumbusho Jeannette', 52: 'Ndayambaje Patrick', 53: 'RUBANDA Fidel', 54: 'Niyitegeka Moise', 55: 'Nzayinambaho  Ange Bernard', 56: 'Ruzindana Frank', 57: 'Muhire Emmanuel', 58: 'TUYISHIMIRE Marie Claire', 59: 'Alyppe KUBWAYO', 60: 'Amos KADENDE', 61: 'Antoine NZAYISENGA', 62: 'Aphrodis UKURIKIYEYEZU', 63: 'BIENVENUE Marie Claire', 64: 'Byarugaba J.de Dieu', 65: 'chantal umutesi', 66: 'Mvuyekure wellars', 67: 'Desire MUTWARE', 68: 'DUSABIMANA Angelique', 69: 'Egide TUBISABIMANA', 70: 'Emmanuel KANANI', 71: 'Emmanuel MANIRAFASHA', 72: 'Emmanuel NSENGIMANA', 73: 'Ephrem NKUNZABO', 74: 'Fidele MUTUYIMANA', 75: 'Fidele NIKUZE', 76: 'FLORENT NSABIMANA', 77: 'Georgie UWAMBAJIMANA', 78: 'Grace NISHIMWE', 79: 'HABIMANA MUSSA', 80: 'IMANANTIYANDETSE Marc', 81: 'IMANISHIMWE Djarudi Djarudi', 82: 'ISABELLE musabyemariya', 83: 'Ismael DUSENGIMANA', 84: 'Jackson DUKUZEMUNGU', 85: 'Janvier NZANYWAYIMANA', 86: 'Jean Baptiste MUSHIMIYIMANA', 87: 'Jean Bosco Twagirimana', 88: 'Jean Damascene Mbwirabumva', 89: 'Jean de Dieu Safari', 90: 'Jean Marie Vianney CYUBAHIRO', 91: 'Jonathan Habineza', 92: 'Joseline Nisingizwe', 93: 'KWIHANGANA Marc', 94: 'Kwizera Emmanuel', 95: 'Maniraho Maurice', 96: 'MANISHIMWE Samuel', 97: 'Mukarubayiza Triphine', 98: 'MUSANABOSE Yves', 99: 'NDABANANIYE David', 100: 'Ndagijimana Samuel', 101: 'Noah KURAMA', 102: 'Robert Muganga', 103: 'Sandrine MAHORO', 104: 'Solange Uwilingiyimana', 105: 'Sylvestre MUSENGIMANA', 106: 'Theoneste Maniraguha', 107: 'UTAZIRUBANDA NOEL Roudge', 108: 'UWANYIRIGIRA Claire', 109: 'Valentine NIYITEGEKA', 110: 'Victor MUGWANEZA', 111: 'INGABIRE Innocent', 112: 'Maniraguha Richard', 113: 'Asiimwe Samuel', 114: 'Musabirema  Dominique', 115: 'Kampire Docile', 116: 'Alice Uwiduhaye', 117: 'Hakuzimana  Edouard', 118: 'Olivier NGWIJE', 119: 'Giraneza Claudine', 120: 'MANIRABARUTA Marie Claire  ', 121: 'SIBOMANA Jean Damascene', 122: 'Karanganwa Anthony', 123: 'Niyonzima Simeon', 124: 'Uwizeye Alphonse', 125: 'Mukangwije Ancille', 126: 'Iribagiza Annette', 127: 'NISHIMWE Denise Amelie', 128: 'MUKANTAGANDA Liberatha   ', 129: 'MWIZA Florence', 130: 'Nakure Marie Aimee'}\n"
     ]
    }
   ],
   "source": [
    "#let's check for one of the categorical columns the choices available:\n",
    "print(dict(enumerate(df_team_2[\"p1_eng_q02_sub3\"].cat.categories)))\n",
    "print(dict(enumerate(df_team_2[\"eng_participation\"].cat.categories)))\n",
    "print(dict(enumerate(df_team_2[\"spv\"].cat.categories)))\n",
    "print(dict(enumerate(df_team_2[\"fo\"].cat.categories)))"
   ]
  },
  {
   "cell_type": "code",
   "execution_count": 40,
   "metadata": {},
   "outputs": [
    {
     "data": {
      "text/html": [
       "<div>\n",
       "<style scoped>\n",
       "    .dataframe tbody tr th:only-of-type {\n",
       "        vertical-align: middle;\n",
       "    }\n",
       "\n",
       "    .dataframe tbody tr th {\n",
       "        vertical-align: top;\n",
       "    }\n",
       "\n",
       "    .dataframe thead th {\n",
       "        text-align: right;\n",
       "    }\n",
       "</style>\n",
       "<table border=\"1\" class=\"dataframe\">\n",
       "  <thead>\n",
       "    <tr style=\"text-align: right;\">\n",
       "      <th></th>\n",
       "      <th>codes</th>\n",
       "      <th>names</th>\n",
       "    </tr>\n",
       "  </thead>\n",
       "  <tbody>\n",
       "    <tr>\n",
       "      <th>0</th>\n",
       "      <td>0</td>\n",
       "      <td>Musabeyezu Noella</td>\n",
       "    </tr>\n",
       "    <tr>\n",
       "      <th>1</th>\n",
       "      <td>1</td>\n",
       "      <td>Rushambara Alexis</td>\n",
       "    </tr>\n",
       "    <tr>\n",
       "      <th>2</th>\n",
       "      <td>2</td>\n",
       "      <td>NSHIMIYIMANA PASCAL</td>\n",
       "    </tr>\n",
       "    <tr>\n",
       "      <th>3</th>\n",
       "      <td>3</td>\n",
       "      <td>Habonimana Gabriel</td>\n",
       "    </tr>\n",
       "    <tr>\n",
       "      <th>4</th>\n",
       "      <td>4</td>\n",
       "      <td>Nirere Sandrine</td>\n",
       "    </tr>\n",
       "    <tr>\n",
       "      <th>5</th>\n",
       "      <td>5</td>\n",
       "      <td>NIYIBIZI Leandre</td>\n",
       "    </tr>\n",
       "    <tr>\n",
       "      <th>6</th>\n",
       "      <td>6</td>\n",
       "      <td>UWASE Francine</td>\n",
       "    </tr>\n",
       "    <tr>\n",
       "      <th>7</th>\n",
       "      <td>7</td>\n",
       "      <td>Uwizeyimana Viateur</td>\n",
       "    </tr>\n",
       "    <tr>\n",
       "      <th>8</th>\n",
       "      <td>8</td>\n",
       "      <td>Rusangwa Adolphe</td>\n",
       "    </tr>\n",
       "    <tr>\n",
       "      <th>9</th>\n",
       "      <td>9</td>\n",
       "      <td>IRADUKUNDA GAHIRE ADOLPHE</td>\n",
       "    </tr>\n",
       "    <tr>\n",
       "      <th>10</th>\n",
       "      <td>10</td>\n",
       "      <td>Ingabire Emelyne</td>\n",
       "    </tr>\n",
       "    <tr>\n",
       "      <th>11</th>\n",
       "      <td>11</td>\n",
       "      <td>MUSHIMIRE Clarisse</td>\n",
       "    </tr>\n",
       "    <tr>\n",
       "      <th>12</th>\n",
       "      <td>12</td>\n",
       "      <td>TUYISENGE ANICK</td>\n",
       "    </tr>\n",
       "    <tr>\n",
       "      <th>13</th>\n",
       "      <td>13</td>\n",
       "      <td>Bagirishyaka Fulgence</td>\n",
       "    </tr>\n",
       "    <tr>\n",
       "      <th>14</th>\n",
       "      <td>14</td>\n",
       "      <td>Fidele Iragena</td>\n",
       "    </tr>\n",
       "    <tr>\n",
       "      <th>15</th>\n",
       "      <td>15</td>\n",
       "      <td>MUKANKOMEJE  Chantal</td>\n",
       "    </tr>\n",
       "    <tr>\n",
       "      <th>16</th>\n",
       "      <td>16</td>\n",
       "      <td>NABAGIZE JUSTINE</td>\n",
       "    </tr>\n",
       "    <tr>\n",
       "      <th>17</th>\n",
       "      <td>17</td>\n",
       "      <td>NTAWUSIGIRYAYO  Eric</td>\n",
       "    </tr>\n",
       "    <tr>\n",
       "      <th>18</th>\n",
       "      <td>18</td>\n",
       "      <td>IRAMBONA Valens</td>\n",
       "    </tr>\n",
       "    <tr>\n",
       "      <th>19</th>\n",
       "      <td>19</td>\n",
       "      <td>Shingiro John</td>\n",
       "    </tr>\n",
       "  </tbody>\n",
       "</table>\n",
       "</div>"
      ],
      "text/plain": [
       "    codes                      names\n",
       "0       0         Musabeyezu Noella \n",
       "1       1          Rushambara Alexis\n",
       "2       2        NSHIMIYIMANA PASCAL\n",
       "3       3         Habonimana Gabriel\n",
       "4       4            Nirere Sandrine\n",
       "5       5           NIYIBIZI Leandre\n",
       "6       6            UWASE Francine \n",
       "7       7        Uwizeyimana Viateur\n",
       "8       8           Rusangwa Adolphe\n",
       "9       9  IRADUKUNDA GAHIRE ADOLPHE\n",
       "10     10           Ingabire Emelyne\n",
       "11     11         MUSHIMIRE Clarisse\n",
       "12     12            TUYISENGE ANICK\n",
       "13     13      Bagirishyaka Fulgence\n",
       "14     14             Fidele Iragena\n",
       "15     15       MUKANKOMEJE  Chantal\n",
       "16     16           NABAGIZE JUSTINE\n",
       "17     17      NTAWUSIGIRYAYO  Eric \n",
       "18     18            IRAMBONA Valens\n",
       "19     19              Shingiro John"
      ]
     },
     "execution_count": 40,
     "metadata": {},
     "output_type": "execute_result"
    }
   ],
   "source": [
    "enumerators = dict(enumerate(df_team_2[\"fo\"].cat.categories))\n",
    "enumerators = pd.DataFrame(enumerators.items(),columns=[\"codes\", \"names\"])\n",
    "enumerators.head(20)"
   ]
  },
  {
   "cell_type": "code",
   "execution_count": 42,
   "metadata": {},
   "outputs": [
    {
     "name": "stdout",
     "output_type": "stream",
     "text": [
      "Index([], dtype='object')\n",
      "[-1  0  1  2]\n",
      "[-1  1  0]\n",
      "[3 2 5 4 1 0]\n",
      "[  1   8 116 103  68 123  77 107  32  92 122 124  35  33  22  69  74  26\n",
      "  18   2  36  70  49  30  20  65  56  10  58  24 114  19  13  80  47  15\n",
      "   9  44  51 106 130  73  96 112 120  84  39  37  61  28  78  45  23  43\n",
      "  46 104  85  12  41  75  71 108  67  34  62  72 105  94  54  83  87 101\n",
      " 121  91  89   4  38  97  63  48 115  95   0   7 117  16  50  31 118   6\n",
      " 100  90  11  60  93  14 127  27 129  59  55 125   3  66  29  21  81  52\n",
      "  98 126  57  99  40 110 128 109  25  79 111   5  17  76 102  42 119  88\n",
      "  82  64 113  86  53]\n"
     ]
    }
   ],
   "source": [
    "#we are going to convert categorical variables to their numeric values\n",
    "df_team_2[cat_cols0] = df_team_2[cat_cols0].apply(lambda x: x.cat.codes)\n",
    "#check the results\n",
    "print(df_team_2.select_dtypes([\"category\"]).columns)\n",
    "print(df_team_2[\"p1_eng_q02_sub3\"].unique())\n",
    "print(df_team_2[\"eng_participation\"].unique())\n",
    "print(df_team_2[\"spv\"].unique())\n",
    "print(df_team_2[\"fo\"].unique())"
   ]
  },
  {
   "cell_type": "code",
   "execution_count": 43,
   "metadata": {},
   "outputs": [
    {
     "name": "stdout",
     "output_type": "stream",
     "text": [
      "Index(['deviceid', 'devicephonenum', 'username', 'device_info', 'duration',\n",
      "       'caseid', 'district', 'sector', 'school', 'grade', 'student_code',\n",
      "       'student_code_other', 'student_code_name', 'time_check_eng_1',\n",
      "       'time_check_eng_2', 'time_check_eng_3', 'time_check_eng_4',\n",
      "       'time_check_eng_5', 'time_check_eng_6', 'time_check_math_1',\n",
      "       'time_check_math_2', 'time_check_math_3', 'time_check_math_4',\n",
      "       'time_check_math_5', 'time_check_math_6', 'time_check_kiny_4',\n",
      "       'time_check_kiny_5', 'time_check_kiny_6', 'time_check_kiny_1',\n",
      "       'time_check_kiny_2', 'time_check_kiny_3', 'time_check_end',\n",
      "       'instancename', 'key'],\n",
      "      dtype='object')\n"
     ]
    }
   ],
   "source": [
    "#check object type variables\n",
    "object_cols = df_team_2.select_dtypes([\"object\"]).columns\n",
    "print(object_cols)"
   ]
  },
  {
   "cell_type": "code",
   "execution_count": 44,
   "metadata": {},
   "outputs": [],
   "source": [
    "#drop unuseful columns\n",
    "df_team_2 = df_team_2.drop(['deviceid', 'devicephonenum', 'username', 'caseid','device_info','instancename', 'key'], axis=1)"
   ]
  },
  {
   "cell_type": "code",
   "execution_count": 45,
   "metadata": {},
   "outputs": [
    {
     "name": "stdout",
     "output_type": "stream",
     "text": [
      "Index(['duration', 'district', 'sector', 'school', 'grade', 'student_code',\n",
      "       'student_code_other', 'student_code_name', 'time_check_eng_1',\n",
      "       'time_check_eng_2', 'time_check_eng_3', 'time_check_eng_4',\n",
      "       'time_check_eng_5', 'time_check_eng_6', 'time_check_math_1',\n",
      "       'time_check_math_2', 'time_check_math_3', 'time_check_math_4',\n",
      "       'time_check_math_5', 'time_check_math_6', 'time_check_kiny_4',\n",
      "       'time_check_kiny_5', 'time_check_kiny_6', 'time_check_kiny_1',\n",
      "       'time_check_kiny_2', 'time_check_kiny_3', 'time_check_end'],\n",
      "      dtype='object')\n"
     ]
    }
   ],
   "source": [
    "#check object type variables again\n",
    "object_cols0 = df_team_2.select_dtypes([\"object\"]).columns\n",
    "print(object_cols0)"
   ]
  },
  {
   "cell_type": "code",
   "execution_count": 46,
   "metadata": {},
   "outputs": [
    {
     "name": "stdout",
     "output_type": "stream",
     "text": [
      "['530803230300' '421613220034' '241009230144' ... '531206190144'\n",
      " '320109200022' '531208200751']\n",
      "['' 'Uwamahoro Clemantine' 'SHEMA Pascal' 'Iratuzi Nyiramahirwe'\n",
      " 'Niyitanga Thegene' 'Mugwaneza Anitha' 'TUYISENGE Abraham'\n",
      " 'Muhawenimana Diane' 'Irasubiza Richard' 'Nigirimbabazi jamus'\n",
      " 'RUGWIRO MARIZA INES' 'Niyonshuti Theophile' 'Ufashijwenimana Jonathan'\n",
      " 'Uwaremwe Centia' 'Igiraneza jacqueline' 'NEMA Mukombozi Emmanuel'\n",
      " 'Byamungu Jesus' 'ISHIMWE Alpha' 'MUKUNZI ANICK IRUMVA'\n",
      " 'Irumva Sano Sani Clety' 'Iradukunda delphine' 'KANYESIRYE Gift'\n",
      " 'Kamikaze Alice' 'SENGA BERNADETTE' 'NDAYIZEYE Emmanuel'\n",
      " 'Gisubizo gonna obrella' 'Iryikora Oreba' 'Shema sedric'\n",
      " 'Irasubiza kenny' 'Izabayo Erneste' 'Isimbi Sangwa Liliane'\n",
      " 'MUTUYIMANA Esther' 'Uwineza gloria' 'Ishimwe Irene delphine'\n",
      " 'Manirakiza Faustin' 'Uwineza Angelique' 'Isimbi Kelia'\n",
      " 'IHIMBAZWE ALPHA BRYAN' 'Niyomungeri j.Paul' 'NSHIMIYIMANA Jean Bosco'\n",
      " 'SINJYENIYO FERDINAND' 'NYIRAMWIZA IRADUKUNDA' 'Uwikunda Henriette'\n",
      " 'Niyonsenga Jacqueline' \"NYIRANIRINGIYIMANA JEANNE D'ARC\"\n",
      " 'Irakoze shalom' 'Nitanga Eric' 'Irankunda Sabrine' 'Manzu Clever'\n",
      " 'Nishimwe Aliane' 'NIYOMUGABO PATRICK' 'Nizeyimana Emmanuel'\n",
      " 'Uwamwiza assoumpta' \"Munyabugingo Jean D'Amour\" 'Ishimwe Patrick'\n",
      " 'Kwizera Thierry' 'NIYIDUHA ERIC' 'Benegusenga Sarah'\n",
      " 'Mushimiyimana jeanette' 'Ineza Mariza Joyce' 'Sinzayibagirwa David'\n",
      " 'KWISANGA Yves' 'UWAMAHORO Josiane' 'Asabwe Pascaline' 'Inema frank'\n",
      " 'INGABIRE Francine' 'KWIZERA Victor' 'Ngenzi Peace of God'\n",
      " 'Shimwa Bergeth' 'Muhayimana Esther' 'Munyanawase Diane'\n",
      " 'HAKIZIMANA JOSUE' 'Mugisharugambwa' 'Byiringiro Francois'\n",
      " 'Maniriho Elise' 'GAKURU Tumwine' 'Nsanzintwari Shaffi' 'Iranzi Issa'\n",
      " 'BIZIYAREMYE Jean Eric' 'HABAKWIZERA Elias' 'UMURISA BONETTE'\n",
      " 'Uwase ingabire' 'Ikuzwe Denise 41112004025' 'IRATUZI Pacifique'\n",
      " 'Abayi Olnella Bebeto' 'Mukandayisenga Devoth' 'MUSHIMIYIMANA JANNETTE'\n",
      " 'MUTEBUKA Frank' 'Mutezimana Divine' 'Irakoze Robert'\n",
      " 'NIYONKURU DUSHIMIRIMANA Fidele' 'DUSENGIMANA Eliab' 'Iradukunda omega'\n",
      " 'ZIRIKANIMANA OBALIDI' 'IRIBUKA JEAN DE DIEU' 'Tuyishime Bosco'\n",
      " 'IHIRWE KALISA' 'Ibyimanikora Ruth' 'Nigena musa' 'UZANYAMAHORO MOISE'\n",
      " 'Kayihura Wilson' 'HABIMANA JEAN BOSCO' 'Uwiduhaye leoncie'\n",
      " 'IRASUBIZA MUGISHA KEVIN' 'MANIRAFASHA IRADUKUNDA' 'Ishimwe Holly'\n",
      " 'MUSHIKIWABO Divinah' 'MUTONIWASE Janet' 'Udahemuka Ange Mireille'\n",
      " 'Icyimanimpaye Emmerance' 'Bikorimana niyonkuru Jean claude'\n",
      " 'Uwiragiye Fiston' 'Ineza Jacque' 'Irakoze Dorcas' 'MUGISHA Adolphe'\n",
      " 'Mugisha Janvier' 'MANIZABAYO THEOGENE' 'Irasubiza Damuel'\n",
      " 'IHIRWE KALISA Loxy' 'Teta Aime Caline' 'Bizimana Rene'\n",
      " 'Nzayikorera Theophile' 'Gasore Bazase' 'Kavamahanga Francis'\n",
      " 'Niwedusa Patrick' 'Gasaro Keza Ketia' 'Ntirenganya Alphonse'\n",
      " 'Niyizibyose Benitha' 'Tuyizere Patrick' 'Mwizerwa salom' 'Mugabo  Eric'\n",
      " 'HABUMUGISHA EMMANUEL' 'Mutoniwase Gihozo' 'GISUBIZO SHEMA' 'UTETA HOPE'\n",
      " 'Habumugisha emanuel' 'Rebimana Joselyne' 'Clemance cyuzuzo Queen'\n",
      " 'ISHIMWE Darsa' 'NYIRANSENGIMANA Angelique' 'Byoseniyo J- neep'\n",
      " 'Hakuziyaremye ferecien' 'Twizeremana Joyeuse' \"Nizeyimana D'amour\"\n",
      " 'Tuyizere Jean de Dieu' 'BIZIMANA RENE' 'NIYOKWIZERWA Kevine'\n",
      " 'IRAKOZE Dieu donnee' 'Tuyizere Jean bosco' 'Tuyituriki Raissa'\n",
      " 'Twizerimana Emmanuel' 'UWITONZE Rebecca' 'HABIMANA Jannot trezol'\n",
      " 'Habitants Jan not tresor' 'Umukundwa Sandra' 'MANIRANZI JOSIANE'\n",
      " 'NKURUNZIZA Thophille' 'Gisubizo Jean Claude' 'Mukeshimana Goretha'\n",
      " 'Turikubwimana Theogene' 'Tumukunde Devotha' 'Umwali isimbi nickita'\n",
      " 'NDIKUMANA Amadi' 'Tumukunde Rachel' 'TUYISHIMIRE EMELYNE'\n",
      " 'Manirafasha honorine' 'Niyonshuti Emmanuel' 'IRAGENA IZERE'\n",
      " 'Shyirakumutima Henriette' 'NDAHIMANA JEAN DE DIEU' 'Iradukunda Patience'\n",
      " 'MUGISHWARUGAMBA' 'Niyonkuru Cedrick' 'Dusengimana Hellen'\n",
      " 'Nzamutuma Feresiyani' 'Nuyogisubizo Diane' 'Munezero Dieudonne'\n",
      " 'NIRAGIRE SERAPHINE' 'KEZA Ange' 'Tumwine Evode' 'Kwizera thiery'\n",
      " 'IMPANO Cederick' 'Iyamumpaye pacifique' 'Sinjyeniyo Ferdinand'\n",
      " 'Nizeyimana Samuel' 'Gihozo Patrick' 'MUGISHA RUKUNDO CHRISTIAN'\n",
      " 'Tumukunde Pascaline' 'Nibishaka Diane' 'Habumugisha Jean Damascene'\n",
      " 'Ndayizeye samwel' 'Mutuyimana Angelique' 'KUBERIMANA APHRODIS'\n",
      " 'Tuyisenge Pascaline' 'Rutayisire' 'Niyogisubizo Abrahim'\n",
      " 'uwizeyimana solange' 'Twizerimana divine' 'Impanoyimana Josua'\n",
      " 'Habumugisha Placide' 'Ishimwe Mugisha Noella Sabbath' 'Iragena Julienne'\n",
      " 'Irahibereye Donath' 'IRACYATURINZE IMMACULEE' 'Nishimwe Kevine'\n",
      " 'Tumukunde Chantal' 'Irakoze Chance' 'MANISHIMWE VALENS'\n",
      " 'Ahishakiye Emmanuel' 'MUHAWENIMANA Emeritha' 'NIYIZIBYOSE BENITHA'\n",
      " 'Umuhire Jean Claude' 'Mutoni clementine' 'Uteta hope' 'Uwajeneza Yvonne'\n",
      " 'TWIZERIMANA Moses' 'IMANIZABAYO ANGELIQUE' 'IRANZI SERINE'\n",
      " 'Izabayo umwari hope' 'Mpete parfait Emile' 'Turikumwe Rafiki'\n",
      " 'Irakoze Betty' 'Ndayishimiye Jean de lea Ndayishimiye Jean De La Paix'\n",
      " 'Abizeyimana Dieudonne' 'Uwase Violette' 'Tuyisenge Obed'\n",
      " 'Irasubiza Theogene' 'MUGISHA FIRONE' 'ISHIMWE Nadia'\n",
      " 'SHIMIRWA Noel Justin' 'Igihozocyacu Chance Acqueline'\n",
      " 'Nsengiyumva daniel' 'Ishimwe Hirwa Valens' 'Ikuzwe belise'\n",
      " 'UMURERWA Noella' 'Nisingizwe Maurice' 'ISHIMWE Patrick'\n",
      " 'Uwifashije josephine' 'Muhimpundu Alice' 'Niyogisubizo Esther'\n",
      " 'Hirwa Aristide' 'TUWOMBE Jeande Dieu' 'UWIDUHAYE Divine'\n",
      " 'MUKAFEZA LEMINE' 'Ngenzi peace of God' 'Uwiragiye Clenia Josiane'\n",
      " 'ISHIMWE DONATH' 'IMFURAYACU Brayan' 'Irasubiza  Thierry'\n",
      " 'Iranzi mwamikazi bertine love' 'Mugisha JMV' 'I manishimwe Shantali'\n",
      " 'Mukeshimana Brigitte' 'Niragire Claudine' 'Turikumwenimana'\n",
      " 'Tuyikorere Mugisha' 'Hakizimana Stiven' 'Uwambajimana Denyse'\n",
      " 'Dufitumukiza Oswald' 'Niyomwiza Delphine' 'Ishimwe Fabrice'\n",
      " 'Muragijemariya Anitha' 'AKALIZA Jolly' 'IZIBYOSE INNOCENT'\n",
      " 'UWASE MERVEILLE' 'Hakizimana Noel' 'Byukusenge Ingabire' 'Impano Divine'\n",
      " 'Twagizwenayo Solange' 'Kagabo David' 'Kayitesi Epiphanie'\n",
      " 'Irakiza Cedrick' 'Masengesho Girbert' 'Ishimwe pamela'\n",
      " 'Uwizeyimana Solange' 'Irakoze Belyse' 'Musabyimana Angelique'\n",
      " 'Abatesi ericain' 'Tuyubahe Elisa' 'Cyubahiro ineza Arthur colin'\n",
      " 'UMUTUZOCynthia' 'HAKIZAMUNGU Emanuel' 'Hirwa Lenus' 'Cybahiro pacifique'\n",
      " 'Umubyeyi Rugero Sylvie' 'Irasubiza Divine' 'Hagen analysis Reverien'\n",
      " 'Izerimana Joseline' 'KWIZERA SEDRICK' 'Uwiduhaye Florence'\n",
      " 'Igirimpuhwe paroti' 'Ufitimana Latifa' 'Niyoyita Alexis'\n",
      " 'Aburwibutso Ernest' 'NIYONGABO Theogene' 'Igiraneza Alpha'\n",
      " 'Manirumva Obed' 'ISHIMWE Jean Bosco' 'IGIRANEZA ASIFIWE OCEANNE'\n",
      " 'KAGABO EMMANUEL' 'MUGISHA Samuel' 'IRADUKUNDA KEZA scovia'\n",
      " 'Mucyeshimana Jeanette' 'Irakoze Gisele' 'Niyomugabo Fabrice'\n",
      " 'Nigena pascal' 'Uwase Jesca' 'HABUMUGISHA Abraham' 'Igirimpuhwe Pirote'\n",
      " 'Niyogisubizo  fradja' 'Mukanoheri Violette' 'Mporansenga Faustin'\n",
      " 'Uwambajimana Aline' 'ISHIMWE Dieu Donne' 'Maniriho Reponse'\n",
      " 'Cyubahiro Alliance' 'Dukundimana Alice' 'Uwamahirwe Seraphine'\n",
      " 'Hakizimana Daniel' 'Umumararungu Jizela' 'Teta aime Carine'\n",
      " 'Ndayishimiye Chantal' 'UWAMAHORO Sandrine' 'Uwamahirwe Deborath'\n",
      " 'Iradukunda Agnes' 'MUSHIMIMANA GRACE' 'UWAMARAYIKA Sandrine'\n",
      " 'Iranzi Niyomukiza Samuel' 'IRATUNEZEZA MUNEZERO ARTINE' 'Yesuwa Giupza'\n",
      " 'Irakoze Fabrice' 'Uwamahirwe jeannine' 'Kamukama hope'\n",
      " 'Benegusenga Drocas' 'IRADUKUNDA AUGUSTIN' 'Niyomukiza Egide'\n",
      " 'Umuhoza Innocente' 'Bikorimana Niyonkuru Jean Claude' 'MUTEBUKA FRANK'\n",
      " 'Keza Benigne Shanelle' 'Mutuyimana Florence' 'Igiraneza Marie chantal'\n",
      " 'ISHIMWE Aime Fabrice' 'Mwiza Doreen' 'Cyuzuzo Sixbert'\n",
      " 'Dusabemariya Fransine' 'Mutsinzi Frank' 'TUYISHIME Bosco'\n",
      " 'Ingabire Claudine' 'Habakurama jerme' 'Karangwa damour'\n",
      " 'Mutoniwase Sandrine' 'Nyiramugisha Yvonne' 'MANZI Fabrice'\n",
      " 'Karabokeza bella' 'IMPANO Pascaline' 'Assume Joshuwa' 'Igiraneza Alice'\n",
      " 'UWIMANA Deborah' 'Niyonzima John' 'Shipway Frank Hybert'\n",
      " 'TWISUNZUMUKIZA JOSEPH KING' 'Mukeshimana claudette'\n",
      " 'MUTATSIMPUNDU Denyse' 'Kaze Rukundo Elvis' 'Iranzi serine'\n",
      " 'UWIMANA SANDRINE' 'Niyomukiza angelique' 'Uwimana Claudine'\n",
      " 'Ngabitsinze Samuel' 'Isimbi Justine' 'IKUZWE BELISE' 'Nzayisenga divine'\n",
      " 'Niyogushma Rosine' 'Uwineza cyntia' 'Munezero Sandrine'\n",
      " 'Ishimwe Olivier' 'IRAKOZE Etienne' 'IRADUKUNDA PATIENCE'\n",
      " 'Ishimwe Pamella' 'Hirwa  beni' 'Mucyo Christian' 'UWINEZA Aline'\n",
      " 'Twarayisenze Epimaque' 'NIYONKUNDA NADINE' 'BULELE YOSUFU'\n",
      " 'IrakizaBella Esitha' 'DUKUZE AIME CHRISTIAN' \"Habumugisha Jean D'amour\"\n",
      " 'Sanyo winnie' 'Habumugisha Emmanuel' 'NZABAHIMANA Ester'\n",
      " 'IMPANOYIMANA Josua' 'Izabayo Thiery' 'Hahirwuwizera jmv' 'Alexandre'\n",
      " 'Irakoze Pierre Celestin' 'MANZI Clever' 'Dushimirimsna Denize'\n",
      " 'Akingeneye Vestine' 'Ineza Nobella' 'Kasande Annet'\n",
      " 'Mukandayisenga Jacklin' 'MANIRAKIZA Josephine' 'UWIRINGIYIMANA Solomon'\n",
      " 'Hirwa Yvan' 'Itangishaka Etienne' 'Pacifique' 'Niyonkuru Jean damour'\n",
      " 'MANIRAREBA Marie claire' 'NYINAWUMUNTU Marie Grace' 'Habimana Christia'\n",
      " 'Uwiragiye Aline' 'NISIBGIZWE Vestine' 'Ufitumuhoza pascaline'\n",
      " 'Kwizera Samuel' 'Uwimigisha carine' 'Iradukunda Emma beline'\n",
      " 'MUGISHA Eliah' 'MUCYO GANZA Kevin' 'Uwinema solange'\n",
      " 'ABIZERIMANA Jean de Dieu' 'Ishimwe Jean Baptist'\n",
      " 'KUBERIMANA  JEAN MARIE' 'Muhawenimana Consolee' 'Uwase Phiona'\n",
      " 'ABAYISENGA Sandrine' 'Irakoze Nadine' 'DUKUNDIMANA Ruth' 'Ineza Didier'\n",
      " 'Ntakirutimana Aime Chance' 'Ngambiriyimana Rene' 'Tuyisenge abrahum'\n",
      " 'Uwihirwe Patience' 'HABIMANA Olivier' 'Inema Frank' 'Kuberimana Arafat'\n",
      " 'Mugisha Fred' 'UWIMANIKUNDA Heliette' 'ITANGISHAKA Jean CLaude'\n",
      " 'Izikurinda Elie' 'NIYOGISUBIZO Ghad' 'Musore Nassan' 'Abayo  bebeto'\n",
      " 'Nayebare Betty' 'Nzayisenga Egide' 'Nyirarukundo fiette'\n",
      " 'UWIMPUHWE RUTH' 'GIHOZO Joyce' 'UWIRINGIYIMANA JEAN CLAUDE'\n",
      " 'NDAYISHIMIYE Gad' 'GIHOZO Beora' 'Irakoze fabrice' 'Ndayizeye Afrodis'\n",
      " 'Impanoyabayisenga daniel' 'Uwizeyimana' 'Dusingizimana Anastase'\n",
      " 'Tumukunde Valens' 'Sugira ihimbazwe justin' 'IRADUKUNDA FILS'\n",
      " 'Ishimwe Jado Fils' 'Dushimimana Denise' 'UWIKUNZE Chance vannessa'\n",
      " 'Uwineza solange' 'Murengezi Schadrak' 'UMUHOZA JEANINE' 'Gusenga Lise'\n",
      " 'KABIHOGO Hanifa' 'TWIZEYIMANA Daniel' 'Manizabayo Niyitanga'\n",
      " 'Murumunawabo Maombe' 'TUYINGANYIKI Bonette' 'IRADUKUNDA'\n",
      " 'Nshimyumuremyi Enock' 'Manirahari Evode' 'Tarema Caleb'\n",
      " 'UWIMBABAZI Clementine' 'INEZA Olga nelly' 'Mugisha Noella'\n",
      " 'Niyonizera Jean Paul' 'Irakiza Damuru' 'Iratabara uwase Pascaline'\n",
      " 'Uwase Irene' 'Mugisha' 'Uduhayeneza vivante' 'UWIRINGIYIMANA THEONESTE'\n",
      " 'Irakoze Marie Yvonne' 'Irasubiza Olivier' 'IRISHAMI Belyse'\n",
      " 'Iradukunda josiane' 'Ntakitutimana Getvais' 'MANZI Christian'\n",
      " 'Usanase Carine' 'Umwiza peace keilla' 'NIYOGISUBIZO Adine'\n",
      " 'Uwimana Angelique' 'NZAYISENGA Divine' 'Habinzhuti Elissa'\n",
      " 'KABIRIGI Donath' 'UWURUKUNDO Sandrine' 'NIYOYAVUZE Jerome' 'Niwemwiza'\n",
      " 'Ishimwe Jeanette' 'IIbyikora Oreba' 'Byiringiro Paciance'\n",
      " 'Ingabire Esther' 'NIYOBYOSE DIVINE' 'Dushimimana Sandrine'\n",
      " 'Uwimana Florence' 'Iradukunda Sandrine' 'BYOSENIMANA Claver'\n",
      " 'TUYIZERE Isaie' 'SHEMA Aline' 'Irankunda Emmanuel' 'Maniranzi Josiane'\n",
      " 'Niyonsenga Honorrette' 'Nzayisenga Leonard' 'Mutuyimana Benitha'\n",
      " 'Niyogisubizo Remey' 'Uwase Denyse' 'Uwase Peace'\n",
      " 'INGABIRE AIME PACIFIQUE' 'Uzanyamahoro Miose' 'Iribuka mean de Dieu'\n",
      " 'Uwaremwe Cynthia' 'Niyindeba Fiette' 'NSENGIYUMVA Innocent'\n",
      " 'Natete Chania' 'Nishimwe Clemance' 'Mugisha Fironebu'\n",
      " 'Zirikanimana obalidi' 'Twizeyimana Daniel' 'Nshimyumugabe Edizo'\n",
      " 'Samamahoro Jean Damour' 'Uwizeyimana Goderva' 'Uwizeyimana consolee'\n",
      " 'CYUBAHIRO INEZA ARTHUR COLIN' 'MUGISHA Fred' 'Iratabara Samuel'\n",
      " 'Niyomutakirwa Fabiol' 'Nzayiramya Moses' 'Ineza Mariza joyce'\n",
      " 'CYIFUZO MANZI DOMINIQUE' 'Muhire Samusoni' 'Ishimwe Ariette'\n",
      " 'Umuhire kevin' 'Tuyubahe Jean Baptiste' 'Niragire Devotha'\n",
      " 'Uwambajimana Denise' 'MUGABEKAZI Queen' 'Dusengimana Obama'\n",
      " 'Uwiringiyimana Sharle' 'Nsabimana Alnord' 'Uwiringiyimana Jean claude'\n",
      " 'UWIDUHAYE CLEMANTINE' 'HAKORIMANA Fils' 'Ingabire Evelyne'\n",
      " 'MASENGESHO GILBERT' 'ITANGISHAKA Honoline' 'Name are Betty'\n",
      " 'NSHIMIYIMANA JEAN BAPTISTE' 'Cyifuzo mansion dominique'\n",
      " 'Dushimimana Clemance' 'Iranezeza Emeline' 'Irakoze John'\n",
      " 'UWIZEYIMANA Kelvin' 'Iradukunda Etienne' 'Uwitonze Devothe'\n",
      " 'Twizerimana Mugisha Donatha' 'Iryivuze Jean luck' 'Shema Gentil'\n",
      " 'Ntwali kevin' 'Niyosezerano Jacques' 'Ishimwe samuel'\n",
      " 'Murumunawe Emmerance' 'Uwase Hornoline' 'INEZABAMBE SHADIYA'\n",
      " 'Ukurikiyeyezu xaverine' 'NYAMWIZA Alice' 'Shema Jean pierre'\n",
      " 'Uwikunda emelyne' 'Twarayisenze Epimake' 'Ishimwe Gervais'\n",
      " 'Niyonkuru alex' 'MANIRAKIZA JOSEPHA' 'Twahirwa Erneste'\n",
      " 'Uwimana Sandrine' 'Nirembere Denyse' 'Kwizera Patrick'\n",
      " 'IRAKIZA Jean do Fils' 'INEZA Gaellae' 'Tuyishimire Regis'\n",
      " 'Niyomugabo Emmanuel' 'Uwineza dianne' 'Nigena Frida'\n",
      " 'Itangishaka Anitha' 'Ngomanziza Everigile' 'UWIMBABAZI Joselyne'\n",
      " 'Igihozo Christine' 'Murisa Aime Darius' 'ITANGISHAKA Etienne'\n",
      " 'Akimpaye Josee' 'Ibyisha Mungeri Lucky' 'Akimana Dative'\n",
      " 'Tuyishime Emelyne' 'Mwamini joselyne' 'Niyigena  Allain'\n",
      " 'ASHIMWE JEAN BOSCO' 'Kananuno William' 'UWACU Nicolas'\n",
      " 'MUCYO GANZA KEVIN' 'Uwase Deborah' 'Ndatimana Robert' 'TUYIZERE Divine'\n",
      " 'Muhire Aristide' 'Muhire Placide' 'Iradukunda Belyse' 'Uwase Providence'\n",
      " 'Niy0yita Emmanuel' 'Ikuzwe denyse' 'Gisubizo Yesaya'\n",
      " 'Batamuriza Germaine' 'Mugisha Etienne' 'Manishimwe Simeon'\n",
      " 'Ujeneza Giselle' 'Irahagije Amina' 'Gasoro Faith' 'Manzi claver'\n",
      " 'Niragire seraphine' 'Irakoze Angelique' 'NIYOGISUBIZO Appolinaire'\n",
      " 'Ngabo Innocent' 'UWIZEYIMANA SANDRINE' 'HABARUGIRA Egide' 'Ineza Jack'\n",
      " 'GISA NUSURATI' 'Isheja sostene' 'UWINEMA SOLANGE' 'Niyitanga Theogene'\n",
      " 'Ufitinema Emerine' 'Umwiza Bonette' 'Gisubizo Josua'\n",
      " 'Ikimanimpaye ratifa' 'Rwabuneza prince' 'Niyogushimirwa Dominique'\n",
      " 'UWASE Aliette' 'TWIZERE MUGABA Irene' 'JYAMUBANDI CHARLES'\n",
      " 'Impano cederic' 'DUFITUMUKIZA SAMUEL' 'NIREMBERE Elissa' 'Rabani joseph'\n",
      " 'Irakoze Honnette' 'Tuyishime winy' 'SANGWA GIULLOUME'\n",
      " 'MURAGIJIMANA ROSINE' 'Ineza Armelle' 'ISHIMWE SERAPHINE'\n",
      " 'Nshimiyimana Mohamed' 'IHIRWE AIME ROUANGE' \"IZAMPOZA Jeanne D'Arc\"\n",
      " 'Isumbabyose Lea' 'Teresa Nakato' 'UZAMUKUNDA Laissa'\n",
      " 'Umutoniwase resistuta' 'Nyirarukundo Fiellette' 'UWAYO Placide'\n",
      " 'Kankesha Mariyeta' 'Uwigaba Jean Damascene' 'GATESI FLORANCE'\n",
      " 'Uwineza Jackline' 'Uwacu Rosine' 'NIYONASENZE Rose jenifa'\n",
      " 'Dukuzimana philimin' 'Muhire Samson' 'MUTEZIMANA Divine'\n",
      " 'Nishimwe Pacifique' 'Niyodukunze Jeunevieve' 'Igiraneza asinine oceanne'\n",
      " 'KUZWITEKA DEOGRATIAS' 'Hakizimana Abdul' 'Uwamahoro joselyne'\n",
      " 'Uwimana Letitia' 'Nayituriki Claudette' 'Uwase Christine'\n",
      " 'Mucunguzi Eric' 'IRADUKUNDA Joselyne' 'KAYITESI SOLANGE'\n",
      " 'Niyonkuru Eric' 'AKINGENEYE Laurence' 'Abizera Gloria' 'NATASHA Businge'\n",
      " 'Imanigirimpuhwe Prissica' 'Ikizere Bonnette' 'Irasubiza Charlotte'\n",
      " 'INEZA Mary Divine' 'Ngaboyisonga Briane' 'BAHATI TETA Hope'\n",
      " 'Ihirwe Aimee Rouange' 'Kananura Isaac' 'MUNGANYINKA Keria'\n",
      " 'Malaysia Anisia' 'ISHIMWE Olivier' 'Asimwe angel' 'GATSINZI Alpha'\n",
      " 'Imaniranzi Sarah' 'Hagenimana Feniyasi' 'Kwizera Utuye Christian'\n",
      " 'Tuyiringire Emilien' 'Imananiyokwizerwa Chadarce'\n",
      " 'Ruggiero Yvan Miracle' 'Manizabayo Theogene' 'UWIMANA Florence'\n",
      " 'NIYONSHUTI EMMANUEL']\n",
      "['.' '530814005068' '330534002020' '431104230104' '5410062002'\n",
      " '430506181060' '330206001002' '320403230137' '555' '430704001040'\n",
      " '210207005001' '530814605072' '421509002010' '530906005041'\n",
      " '330205220149' '540705161147' '240808005002' '330434220175'\n",
      " '211005001002' '330806003001' '240202003001' '540712210410'\n",
      " '540712004009' '420806001042' '540704230216' '210125003003' '32040117127'\n",
      " '320208180587' '210207230224' '531105002035' '430906004001'\n",
      " '530906003040' '210125003002' '55555' '330816006001' '420502190179'\n",
      " '121314190250' '420806001046' '320208002001' '540712200359'\n",
      " '430506002032' '430704004062' '421509002012' '320704230263'\n",
      " '421402001013' '540712003005' '530814160031' '130604004020'\n",
      " '420802001031' '420502001002' '210908002005' '2405050003001'\n",
      " '540216200059' '530814005062' '420915004040' '210908005001'\n",
      " '531105002032' '430306005001' '43114001005' '420612005001' '330806003002'\n",
      " '330534002022' '54712005001' '430101002002' '240505005003' '530503200236'\n",
      " '210902002002' '330504004017' '210713005003' '420302003028'\n",
      " '540712220222' '530507004011' '130823200110' '540712005003'\n",
      " '421108160125' '421102210191' '241006002001' '560106005021'\n",
      " '530906006040' '540712210425' '420802001019' '1308232105214'\n",
      " '330534001021' '421813001001' '540712004008' '530906006041'\n",
      " '420903001022' '330206220436' '330432005021' '210208201085'\n",
      " '430704001041' '420903005027' '421207003001' '421804004001'\n",
      " '210908002002' '321202003001' '130313190395' '540712005006'\n",
      " '540712001007' '430114002002' '330909005001' '24050500505'\n",
      " '4313055003001' '540609004001' '331216001025' '421102003026'\n",
      " '210713006001' '420903005033' '530503005016' '330432005020' '0'\n",
      " '530906003043' '430506230158' '431206005040' '540712200123'\n",
      " '530814171671' '210510003001' '430506002025' '430506181220'\n",
      " '430907220130' '330909003021' '540712200126' '421509003030'\n",
      " '530717230436' '421112004026' '421007001071' '320208002002'\n",
      " '330434230408' '330432004022' '54060220049' '421613191408' '431206004002'\n",
      " '540712200369' '331216191478' '540702181444' '431104230135'\n",
      " '320208003003' '210901001002' '330432004021' '421004005041'\n",
      " '430101002001' '430506220065' '540712005007' '330909004001'\n",
      " '530503003023' '421613004030' '53081405071' '320205190468' '540712005002'\n",
      " '420903005030' '540712004006' '210805002001' '420609003025'\n",
      " '420513005001' '330504230374' '530814181758' '540609230251'\n",
      " '540712200130' '530503004047' '210510004002' '420903003030'\n",
      " '540712210474' '540712210468' '540704230214' '430506220024'\n",
      " '540412004001' '130146005009' '210908002004' '130823200296'\n",
      " '530814171520' '54070230216' '210908005030' '420806001040' '540712004007'\n",
      " '540712200142' '530814160171' '5309060040041' '431008190475'\n",
      " '421509005036' '421403001017' '530814140050' '430704002001'\n",
      " '421611001053' '120108221036' '530906004040' '530814005070'\n",
      " '130313002001' '420513005006' '530506006027' '330208230531'\n",
      " '540712002003' '541006002001' '43110400501' '540712200187' '421108005025'\n",
      " '420903002044' '210125003001' '541006002005' '430506002023'\n",
      " '540712003004' '130823210569' '540712002002' '540712200150'\n",
      " '540712002011' '421613004031' '420903001023' '4201010010013'\n",
      " '420504005001' '421714190200' '541015005002' '431206140191'\n",
      " '421509210153' '530906003041' '320208200071' '240505005002'\n",
      " '210504001001' '130823200034' '240501003002' '330213220447'\n",
      " '420806001044' '2401010002002' '430506200238' '210207190092' '-555'\n",
      " '431305002024' '130146005010' '540712210436' '430506002018'\n",
      " '430104001006' '320401003001' '240505004002' '420909005018'\n",
      " '421102180550' '210504001002' '330806230215' '420513004001'\n",
      " '540712210382' '420513001001' '430704005041' '54060230252' '130146006002'\n",
      " '430108140159' '530503005012' '2405050002004' '130146005008'\n",
      " '430506002015' '420909003001' '130146005006' '420315006072'\n",
      " '540712004004' '320403221575' '24051003003' '130810200547' '541006002006'\n",
      " '240709001001' '540712210418' '530507001023' '421509005033'\n",
      " '421613002033' '420806001041' '540712200159' '421509001027'\n",
      " '530503005011' '430714003002' '540712220232' '541006002003'\n",
      " '430506200051' '420903004021' '420513005002' '540712220143'\n",
      " '421102001028' '240505002002' '421613004032' '240505005001'\n",
      " '531314004071' '210114220559' '320401160108' '53006003042' '430704005043'\n",
      " '430506004018' '421102003027' '531105002033' '540712210501'\n",
      " '240505002001' '530814005069' '431401002001' '240505004001'\n",
      " '130823210484' '420909003002' '421509005032' '331109183183'\n",
      " '431104001002' '330206006041' '540704001027' '420513005005'\n",
      " '540457230199' '210908002003' '240804181759' '331216001024'\n",
      " '540712004005' '530814005063' '420203001001' '420909006024'\n",
      " '430114002001' '430907001005' '240505005005' '121431002021'\n",
      " '540609230268' '331216001023' '421102001026' '540712200137'\n",
      " '421102220045' '540705181973' '530507001029' '330206005001'\n",
      " '430506002016' '530503003025' '240505003002' '120127220132'\n",
      " '210713005001' '540712220024' '210125001001' '531103180896'\n",
      " '541205004001' '420915001001' '540712005001' '5407122002005'\n",
      " '130146005001' '210902002001' '421512190759' '210705002001'\n",
      " '421613003041' '210707002002' '331216001021' '431305005002' '54071210448'\n",
      " '540712003002' '420903001020' '330206001001' '320208003002'\n",
      " '431104001003' '421404006033' '540712200041' '210510004001'\n",
      " '420903002042' '331216001007' '130146005003' '530908001027'\n",
      " '430506181222' '430906200019' '330434220043' '540712003001'\n",
      " '420542003027' '5407122002006' '540712001004' '530906005040'\n",
      " '330214002001' '531405002031' '240202005001' '331216001026'\n",
      " '130146005007' '331216003020' '421112004027' '540609230225'\n",
      " '421613005001' '540712200216' '540609190202' '421512084017'\n",
      " '430506004015' '130313171593' '421004005040' '240505005004'\n",
      " '420513005004' '4203020050017' '431401220117' '5308140050066'\n",
      " '421512004011' '331109002046' '540613220147' '560507200414'\n",
      " '120108221185' '540712001001' '421207003002' '43105003001' '540609004002'\n",
      " '540705181620' '540609230266' '420806001047' '240505002005'\n",
      " '530814005065' '421102002010' '130146006001' '330214002002'\n",
      " '530503002027' '430506004016' '120108230607' '531105002039'\n",
      " '420908190722' '430101002003' '540712210505' '330534002021'\n",
      " '330534002023' '5555' '540712001008' '54071200200368' '540609006001'\n",
      " '210908190148' '430506004077' '210504003003' '320402002001'\n",
      " '420903005028' '540117001001' '240804220193' '431104001001'\n",
      " '420915230008' '431209001002' '530503004025' '530503004020'\n",
      " '210908002001' '120604002001' '240505002003' '421102001029'\n",
      " '320208003001' '431305005001' '430704190292' '240505001002'\n",
      " '540712210457' '431206001040' '241302001001' '330434001020'\n",
      " '240501004005' '430506002019' '421108002025' '540610005057' '53101021044'\n",
      " '210707002001' '540712002008' '530814005067' '540712210495'\n",
      " '211005005001' '320403005005' '541006002004' '420302004021'\n",
      " '421509190284' '431305006017' '331213005020' '240505220026'\n",
      " '421620004011' '431206001007' '540712230055' '210125004001' '54712230027'\n",
      " '210908005018' '121431220311' '240501002001' '430506200147'\n",
      " '240203002001' '4215005035' '555555' '240921220089' '540712002012'\n",
      " '210205200072' '530503004023' '43506181189' '530814005061' '540712001006'\n",
      " '330206230169' '530503005013' '430506220865' '420612002001'\n",
      " '530814210268' '530507001024' '130829220127' '5409180897' '211005220163'\n",
      " '210207005002' '421102220029' '330534001020' '430907230256'\n",
      " '530503003019' '530803005050' '530503230607' '530503004019'\n",
      " '530503003024' '430704005045' '420903003031' '540208200058'\n",
      " '420514004040' '540614006052' '430704002002' '460906005001'\n",
      " '420903003029' '540609004003' '240505006001' '430506002021'\n",
      " '320403230103' '320402005001' '430506002024' '540712200128'\n",
      " '330909230501' '421611001051' '240501003001' '130146005004'\n",
      " '420903005029' '43100900204' '420806001045' '210901003001' '430704002003'\n",
      " '431104001004' '330504220247' '531105220219' '540712200267'\n",
      " '320401004002' '130146005005' '421509005039' '130146005011'\n",
      " '320806004001' '541015005001' '431108004001' '540712004003'\n",
      " '210707004001' '420806001043' '421108002006' '330432005022'\n",
      " '420302003037' '430704003040' '530503003022' '530503003021'\n",
      " '540712002009' '210802150096' '460506200302' '421613190265'\n",
      " '430506004017' '540712001005' '320117200018' '530107005021' '54060230264'\n",
      " '240505002004' '540702182055' '240921220131' '530906220027'\n",
      " '530814005074' '530503003027' '120604002002' '211005001001'\n",
      " '541006004001' '540702200374' '330608190362' '540712002001'\n",
      " '541006230076' '421512003007' '130823200035' '421807005001'\n",
      " '540457001001' '431009150222' '540712200025' '421112004025'\n",
      " '540712003006' '531003005001' '240921002001' '421509001028'\n",
      " '241006200096' '421804160520' '540712200371' '240921220082'\n",
      " '210713005002' '540712003007' '430714003001' '430704005042'\n",
      " '540705181975' '210504220334' '331216001022' '541006002002'\n",
      " '320409220093' '530906220601' '530906200127' '320406190606'\n",
      " '541015005003' '530507001022' '330432002020' '421102003025'\n",
      " '540209004063' '430704190133' '330534230418' '431209001001'\n",
      " '430906001001' '130146005012' '330608006001' '430906005002'\n",
      " '430102002023' '240808005001' '430506181189' '420903001021'\n",
      " '420101001014' '130146005002' '540712003003' '240501001001'\n",
      " '420609002025' '430506160550' '421102001027' '130823002017'\n",
      " '540712002007' '421509003031' '540705190646' '320403003001'\n",
      " '240501001002' '421102002011' '420802190014' '320118230032'\n",
      " '540208230687' '540712002004' '240505001001' '120108220949'\n",
      " '210901002001' '211001003001' '430506002020' '421509005034'\n",
      " '420513005003' '320806006001' '211801230088' '530814005073'\n",
      " '540712001002' '530503003020' '540712004002' '530503003026'\n",
      " '330432004020' '540428220287' '330434190474' '540712200090'\n",
      " '331216004020' '540712002010' '420909005021' '540712005005'\n",
      " '540712220138' '540712001003' '540705191064' '540712200089'\n",
      " '421613003040' '42051400041' '120402201051']\n",
      "['' '2023-Jul-24 15:37:00' '2023-Jul-31 12:15:23' ...\n",
      " '2023-Jul-25 15:47:07' '2023-Aug-9 13:36:39' '2023-Jul-25 17:18:03']\n",
      "['' '2023-Jul-24 15:41:25' '2023-Jul-31 12:17:39' ...\n",
      " '2023-Aug-9 09:51:01' '2023-Aug-9 13:39:56' '2023-Jul-25 17:22:06']\n"
     ]
    }
   ],
   "source": [
    "print(df_team_2[\"student_code\"].unique())\n",
    "print(df_team_2[\"student_code_name\"].unique())\n",
    "print(df_team_2[\"student_code_other\"].unique())\n",
    "print(df_team_2[\"time_check_eng_1\"].unique())\n",
    "print(df_team_2[\"time_check_end\"].unique())"
   ]
  },
  {
   "cell_type": "code",
   "execution_count": 47,
   "metadata": {},
   "outputs": [
    {
     "data": {
      "text/html": [
       "<div>\n",
       "<style scoped>\n",
       "    .dataframe tbody tr th:only-of-type {\n",
       "        vertical-align: middle;\n",
       "    }\n",
       "\n",
       "    .dataframe tbody tr th {\n",
       "        vertical-align: top;\n",
       "    }\n",
       "\n",
       "    .dataframe thead th {\n",
       "        text-align: right;\n",
       "    }\n",
       "</style>\n",
       "<table border=\"1\" class=\"dataframe\">\n",
       "  <thead>\n",
       "    <tr style=\"text-align: right;\">\n",
       "      <th></th>\n",
       "      <th>student_code</th>\n",
       "      <th>student_code_other</th>\n",
       "    </tr>\n",
       "  </thead>\n",
       "  <tbody>\n",
       "    <tr>\n",
       "      <th>48</th>\n",
       "      <td>530814005068</td>\n",
       "      <td>530814005068</td>\n",
       "    </tr>\n",
       "    <tr>\n",
       "      <th>98</th>\n",
       "      <td>330534002020</td>\n",
       "      <td>330534002020</td>\n",
       "    </tr>\n",
       "    <tr>\n",
       "      <th>107</th>\n",
       "      <td>431104230104</td>\n",
       "      <td>431104230104</td>\n",
       "    </tr>\n",
       "    <tr>\n",
       "      <th>132</th>\n",
       "      <td>5410062002</td>\n",
       "      <td>5410062002</td>\n",
       "    </tr>\n",
       "    <tr>\n",
       "      <th>313</th>\n",
       "      <td>430506181060</td>\n",
       "      <td>430506181060</td>\n",
       "    </tr>\n",
       "    <tr>\n",
       "      <th>...</th>\n",
       "      <td>...</td>\n",
       "      <td>...</td>\n",
       "    </tr>\n",
       "    <tr>\n",
       "      <th>56804</th>\n",
       "      <td>42051400041</td>\n",
       "      <td>42051400041</td>\n",
       "    </tr>\n",
       "    <tr>\n",
       "      <th>57143</th>\n",
       "      <td>120402201051</td>\n",
       "      <td>120402201051</td>\n",
       "    </tr>\n",
       "    <tr>\n",
       "      <th>57261</th>\n",
       "      <td>420903005014</td>\n",
       "      <td>55555</td>\n",
       "    </tr>\n",
       "    <tr>\n",
       "      <th>57400</th>\n",
       "      <td>430506181189</td>\n",
       "      <td>430506181189</td>\n",
       "    </tr>\n",
       "    <tr>\n",
       "      <th>57407</th>\n",
       "      <td>210805002001</td>\n",
       "      <td>210805002001</td>\n",
       "    </tr>\n",
       "  </tbody>\n",
       "</table>\n",
       "<p>717 rows × 2 columns</p>\n",
       "</div>"
      ],
      "text/plain": [
       "       student_code student_code_other\n",
       "48     530814005068       530814005068\n",
       "98     330534002020       330534002020\n",
       "107    431104230104       431104230104\n",
       "132      5410062002         5410062002\n",
       "313    430506181060       430506181060\n",
       "...             ...                ...\n",
       "56804   42051400041        42051400041\n",
       "57143  120402201051       120402201051\n",
       "57261  420903005014              55555\n",
       "57400  430506181189       430506181189\n",
       "57407  210805002001       210805002001\n",
       "\n",
       "[717 rows x 2 columns]"
      ]
     },
     "execution_count": 47,
     "metadata": {},
     "output_type": "execute_result"
    }
   ],
   "source": [
    "df_team_2[[\"student_code\",\"student_code_other\"]][df_team_2[\"student_code_other\"]!=\".\"]"
   ]
  },
  {
   "cell_type": "code",
   "execution_count": 48,
   "metadata": {},
   "outputs": [
    {
     "name": "stdout",
     "output_type": "stream",
     "text": [
      "['.' '555' '55555' '421102210191' '0' '540712005002' '210504001001'\n",
      " '210504001002' '540712210425' '5555' '210504220334']\n"
     ]
    }
   ],
   "source": [
    "#Assigning values to student_code_other based on student_code variable\n",
    "df_team_2.loc[df_team_2[\"student_code_other\"] == df_team_2[\"student_code\"], \"student_code_other\"] = \".\"\n",
    "print(df_team_2.student_code_other.unique())"
   ]
  },
  {
   "cell_type": "code",
   "execution_count": 49,
   "metadata": {},
   "outputs": [
    {
     "data": {
      "text/plain": [
       "array(['555', '55555', '421102210191', '0', '540712005002',\n",
       "       '210504001001', '210504001002', '540712210425', '5555',\n",
       "       '210504220334'], dtype=object)"
      ]
     },
     "execution_count": 49,
     "metadata": {},
     "output_type": "execute_result"
    }
   ],
   "source": [
    "df_team_2.loc[df_team_2[\"student_code_other\"] != \".\", \"student_code_other\"].unique()"
   ]
  },
  {
   "cell_type": "code",
   "execution_count": 50,
   "metadata": {},
   "outputs": [
    {
     "name": "stdout",
     "output_type": "stream",
     "text": [
      "passed     57429\n",
      "flagged        2\n",
      "Name: student_code_unsure, dtype: int64\n"
     ]
    }
   ],
   "source": [
    "# let's create a column that will help us track these inconsistencies\n",
    "df_team_2[\"student_code_unsure\"] = np.where(df_team_2[\"student_code_other\"].isin(['540712210384', '21108002025',\n",
    "       '510712002010', '540712210425', '421807055001', '4305061550',\n",
    "       '5707122003003', '4211020003025', '211001230088', '421102210191',\n",
    "       '42111204027', '320028002001']),\"flagged\",\"passed\")\n",
    "print(df_team_2[\"student_code_unsure\"].value_counts())"
   ]
  },
  {
   "cell_type": "code",
   "execution_count": 51,
   "metadata": {},
   "outputs": [
    {
     "data": {
      "text/plain": [
       "False"
      ]
     },
     "execution_count": 51,
     "metadata": {},
     "output_type": "execute_result"
    }
   ],
   "source": [
    "# check if student_code column is unique and doesn't have duplicates\n",
    "df_team_2[\"student_code\"].is_unique"
   ]
  },
  {
   "cell_type": "code",
   "execution_count": 52,
   "metadata": {},
   "outputs": [
    {
     "data": {
      "text/plain": [
       "972"
      ]
     },
     "execution_count": 52,
     "metadata": {},
     "output_type": "execute_result"
    }
   ],
   "source": [
    "# check how many dups we have\n",
    "df_team_2[\"student_code\"].duplicated().sum()"
   ]
  },
  {
   "cell_type": "code",
   "execution_count": null,
   "metadata": {},
   "outputs": [],
   "source": []
  },
  {
   "cell_type": "code",
   "execution_count": null,
   "metadata": {},
   "outputs": [],
   "source": []
  },
  {
   "cell_type": "code",
   "execution_count": null,
   "metadata": {},
   "outputs": [],
   "source": []
  },
  {
   "cell_type": "code",
   "execution_count": null,
   "metadata": {},
   "outputs": [],
   "source": []
  },
  {
   "cell_type": "code",
   "execution_count": null,
   "metadata": {},
   "outputs": [],
   "source": []
  },
  {
   "cell_type": "code",
   "execution_count": null,
   "metadata": {},
   "outputs": [],
   "source": []
  },
  {
   "cell_type": "code",
   "execution_count": null,
   "metadata": {},
   "outputs": [],
   "source": []
  },
  {
   "cell_type": "code",
   "execution_count": null,
   "metadata": {},
   "outputs": [],
   "source": []
  },
  {
   "cell_type": "code",
   "execution_count": null,
   "metadata": {},
   "outputs": [],
   "source": []
  },
  {
   "cell_type": "code",
   "execution_count": null,
   "metadata": {},
   "outputs": [],
   "source": []
  },
  {
   "cell_type": "code",
   "execution_count": null,
   "metadata": {},
   "outputs": [],
   "source": []
  },
  {
   "cell_type": "code",
   "execution_count": null,
   "metadata": {},
   "outputs": [],
   "source": []
  },
  {
   "cell_type": "code",
   "execution_count": null,
   "metadata": {},
   "outputs": [],
   "source": []
  },
  {
   "cell_type": "code",
   "execution_count": null,
   "metadata": {},
   "outputs": [],
   "source": []
  },
  {
   "cell_type": "code",
   "execution_count": null,
   "metadata": {},
   "outputs": [],
   "source": []
  },
  {
   "cell_type": "code",
   "execution_count": null,
   "metadata": {},
   "outputs": [],
   "source": []
  },
  {
   "cell_type": "code",
   "execution_count": null,
   "metadata": {},
   "outputs": [],
   "source": []
  },
  {
   "cell_type": "code",
   "execution_count": null,
   "metadata": {},
   "outputs": [],
   "source": []
  },
  {
   "cell_type": "code",
   "execution_count": null,
   "metadata": {},
   "outputs": [],
   "source": []
  },
  {
   "cell_type": "code",
   "execution_count": null,
   "metadata": {},
   "outputs": [],
   "source": []
  }
 ],
 "metadata": {
  "kernelspec": {
   "display_name": "Python 3 (ipykernel)",
   "language": "python",
   "name": "python3"
  },
  "language_info": {
   "codemirror_mode": {
    "name": "ipython",
    "version": 3
   },
   "file_extension": ".py",
   "mimetype": "text/x-python",
   "name": "python",
   "nbconvert_exporter": "python",
   "pygments_lexer": "ipython3",
   "version": "3.11.4"
  }
 },
 "nbformat": 4,
 "nbformat_minor": 4
}
