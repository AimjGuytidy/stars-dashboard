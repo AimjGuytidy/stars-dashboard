{
 "cells": [
  {
   "cell_type": "code",
   "execution_count": 2,
   "metadata": {},
   "outputs": [],
   "source": [
    "from jupyter_dash import JupyterDash\n",
    "import dash_core_components as dcc\n",
    "import dash_html_components as html\n",
    "from dash.dependencies import Output, Input\n",
    "import os \n",
    "import pandas as pd\n",
    "import numpy as np\n",
    "from plotly import graph_objects as go"
   ]
  },
  {
   "cell_type": "code",
   "execution_count": 1,
   "metadata": {},
   "outputs": [
    {
     "data": {
      "text/plain": [
       "'c:\\\\Users\\\\HP\\\\source\\\\repos\\\\STARS_dashboard\\\\stars-dashboard'"
      ]
     },
     "execution_count": 1,
     "metadata": {},
     "output_type": "execute_result"
    }
   ],
   "source": [
    "pwd"
   ]
  },
  {
   "cell_type": "code",
   "execution_count": 3,
   "metadata": {},
   "outputs": [
    {
     "data": {
      "text/plain": [
       "'C:\\\\Users\\\\HP\\\\source\\\\repos\\\\STARS_dashboard'"
      ]
     },
     "execution_count": 3,
     "metadata": {},
     "output_type": "execute_result"
    }
   ],
   "source": [
    "os.chdir(r\"C:\\Users\\HP\\source\\repos\\STARS_dashboard\")\n",
    "os.getcwd()"
   ]
  },
  {
   "cell_type": "code",
   "execution_count": 2,
   "metadata": {},
   "outputs": [],
   "source": [
    "# app instantiation\n",
    "app = JupyterDash(__name__)"
   ]
  },
  {
   "cell_type": "code",
   "execution_count": 4,
   "metadata": {},
   "outputs": [],
   "source": [
    "# app layout\n",
    "app.layout = html.Div([\n",
    "    dcc.Dropdown(\n",
    "        options=[{\"label\" : color,\n",
    "                 \"value\" : color }\n",
    "                 for color in [\"blue\",\"green\",\"yellow\"]\n",
    "    ]),\n",
    "    html.Div()\n",
    "])"
   ]
  },
  {
   "cell_type": "code",
   "execution_count": null,
   "metadata": {},
   "outputs": [],
   "source": [
    "# run the app\n",
    "if __name__ == \"__main__\":\n",
    "    app.run_server(mode = \"inline\",port = \"3333\")"
   ]
  },
  {
   "cell_type": "code",
   "execution_count": null,
   "metadata": {},
   "outputs": [],
   "source": [
    "#using callbacks\n",
    "\n",
    "# app instantiation\n",
    "app = JupyterDash(__name__)\n",
    "\n",
    "# app layout\n",
    "app.layout = html.Div([\n",
    "    dcc.Dropdown(id= \"color_dropdown\",\n",
    "                 options = [\n",
    "                    {\"label\": color, \n",
    "                    \"value\": color}\n",
    "                    for color in [\"Blue\",\"Black\", \"Green\"]\n",
    "                ]),\n",
    "    html.Br(),\n",
    "    html.Div(id=\"display_dropdown\")\n",
    "])\n",
    "\n",
    "# callback functions\n",
    "@app.callback(Output(component_id = \"display_dropdown\",\n",
    "                     component_property= \"children\"),\n",
    "              Input(component_id = \"color_dropdown\",\n",
    "                    component_property = \"value\"))\n",
    "\n",
    "def display_selected_color(color):\n",
    "    if color is None:\n",
    "        color = \"Nothing\"\n",
    "    return \"The color is \" + color \n",
    "\n",
    "# run the app\n",
    "if __name__ == \"__main__\":\n",
    "    app.run_server(mode = \"inline\", port = 2)"
   ]
  },
  {
   "cell_type": "code",
   "execution_count": null,
   "metadata": {},
   "outputs": [],
   "source": [
    "# app instantiation\n",
    "app = JupyterDash(__name__)\n",
    "\n",
    "# information on the activities\n",
    "timeline = [\"first year\", \"second year\"]\n",
    "short_description = {\"first year\":\"The data collection activities spanned 10 districts while gathering data on 343 schools where 100 schools were in the\\\n",
    "                     control group while 243 schools were in the treatment group\",\n",
    "                     \"second year\":\"489 schools were visited across 10 districts to conduct STARS data collection activities.\"}\n",
    "\n",
    "# app layout\n",
    "app.layout = html.Div([\n",
    "    dcc.Dropdown(id = \"id_dropdown\",\n",
    "                 options = [{\"label\" : time,\n",
    "                            \"value\": time}\n",
    "                            for time in timeline]),\n",
    "    html.Br(),\n",
    "    html.Div(id = \"output_dropdown\")\n",
    "])\n",
    "\n",
    "# callback functions\n",
    "@app.callback(Output(component_id = \"output_dropdown\",\n",
    "                     component_property= \"children\"),\n",
    "              Input(component_id = \"id_dropdown\",\n",
    "                    component_property = \"value\"))\n",
    "\n",
    "def activity_info(timeline):\n",
    "    if timeline is None:\n",
    "        return \"STARS project is being implemented by Innovation for Poverty Actions in partnership with Georgetown University, MINEDUC, REB, and NESA\"\n",
    "    return [html.H3(timeline), f'For the  {timeline}, {short_description[timeline]}']\n",
    "\n",
    "# run the app\n",
    "if __name__ == \"__main__\":\n",
    "    app.run_server(mode = \"inline\", port = 5)"
   ]
  },
  {
   "cell_type": "markdown",
   "metadata": {},
   "source": [
    "## Working with Plotly's Figure Objects"
   ]
  },
  {
   "cell_type": "markdown",
   "metadata": {},
   "source": [
    "### Understanding the Figure Object"
   ]
  },
  {
   "cell_type": "code",
   "execution_count": null,
   "metadata": {},
   "outputs": [],
   "source": [
    "go.Figure()"
   ]
  },
  {
   "cell_type": "code",
   "execution_count": null,
   "metadata": {},
   "outputs": [],
   "source": [
    "fig = go.Figure()\n",
    "fig.add_scatter(x=[1,2,3],y=[4,2,3])\n",
    "fig.show()"
   ]
  },
  {
   "cell_type": "code",
   "execution_count": null,
   "metadata": {},
   "outputs": [],
   "source": [
    "fig.add_scatter(x = [3,5,2,4], y = [5,2,6,0])"
   ]
  },
  {
   "cell_type": "markdown",
   "metadata": {},
   "source": [
    "#### Layout Attribute"
   ]
  },
  {
   "cell_type": "code",
   "execution_count": null,
   "metadata": {},
   "outputs": [],
   "source": [
    "fig.layout.title = \"Example 0\"\n",
    "fig.layout.xaxis.title = \"x axis\"\n",
    "fig.layout.yaxis.title = \"y axis\"\n",
    "fig.show()"
   ]
  },
  {
   "cell_type": "code",
   "execution_count": null,
   "metadata": {},
   "outputs": [],
   "source": [
    "# exploring figure objects\n",
    "fig.show(\"json\")"
   ]
  },
  {
   "cell_type": "code",
   "execution_count": null,
   "metadata": {},
   "outputs": [],
   "source": [
    "fig.show()"
   ]
  },
  {
   "cell_type": "code",
   "execution_count": null,
   "metadata": {},
   "outputs": [],
   "source": [
    "fig.show(config = {\"displaylogo\" : False,\n",
    "                   \"modeBarButtonsToAdd\" : [\"drawrect\",\n",
    "                                            \"drawcircle\",\n",
    "                                            \"eraseshape\"]})"
   ]
  },
  {
   "cell_type": "markdown",
   "metadata": {},
   "source": [
    "#### Converting figures"
   ]
  },
  {
   "cell_type": "code",
   "execution_count": 9,
   "metadata": {},
   "outputs": [],
   "source": [
    "# To Html\n",
    "fig.write_html(\"html_plot.html\",\n",
    "               config = {\"toImageButtonOptions\" : {\"format\" : \"svg\"}})"
   ]
  },
  {
   "cell_type": "code",
   "execution_count": null,
   "metadata": {},
   "outputs": [],
   "source": [
    "# to images\n",
    "fig.write_image(\"apps/images/example_image.svg\",\n",
    "                height = 800, width = 900)"
   ]
  },
  {
   "cell_type": "markdown",
   "metadata": {},
   "source": [
    "# plotting using real data"
   ]
  },
  {
   "cell_type": "code",
   "execution_count": 4,
   "metadata": {},
   "outputs": [],
   "source": [
    "# import datasets to use\n",
    "\n",
    "# we start by using data entry data from year 1\n",
    "\n",
    "data_entry_team_1 = pd.read_stata(r\"data\\ipa-data\\learning_assessment\\data_entry\\year1\\clean\\first_entry\\Final Assessment First Entry Clean.dta\")\n",
    "data_entry_team_2 = pd.read_stata(r\"data\\ipa-data\\learning_assessment\\data_entry\\year1\\clean\\second_entry\\Final Assessment Second Entry Clean.dta\")\n",
    "data_entry_reconciliation = pd.read_stata(r\"data\\ipa-data\\learning_assessment\\data_entry\\year1\\clean\\reconciliation\\reconciled_clean.dta\")"
   ]
  },
  {
   "cell_type": "code",
   "execution_count": null,
   "metadata": {},
   "outputs": [],
   "source": [
    "data_entry_team_1.head(5)"
   ]
  },
  {
   "cell_type": "code",
   "execution_count": null,
   "metadata": {},
   "outputs": [],
   "source": [
    "data_entry_team_1.dropna(axis=1,how=\"all\").describe(include = [np.number]).T"
   ]
  },
  {
   "cell_type": "code",
   "execution_count": null,
   "metadata": {},
   "outputs": [],
   "source": [
    "data_entry_team_1.dropna(axis=1,how=\"all\").describe(include=\"all\",datetime_is_numeric=True).T"
   ]
  },
  {
   "cell_type": "code",
   "execution_count": 8,
   "metadata": {},
   "outputs": [
    {
     "name": "stdout",
     "output_type": "stream",
     "text": [
      "<class 'pandas.core.frame.DataFrame'>\n",
      "Int64Index: 56906 entries, 0 to 56905\n",
      "Columns: 456 entries, deviceid to v454\n",
      "dtypes: category(407), datetime64[ns](5), float64(10), object(34)\n",
      "memory usage: 43.9+ MB\n"
     ]
    }
   ],
   "source": [
    "data_entry_team_1.info()"
   ]
  },
  {
   "cell_type": "code",
   "execution_count": 5,
   "metadata": {},
   "outputs": [
    {
     "name": "stdout",
     "output_type": "stream",
     "text": [
      "['kin1marks_p6_kin1p6_kin_q021p6_k', 'kin1marks_p6_kin1p6_kin_q061p6_k', 'kin1marks_p6_kin1p6_kin_q101p6_k', 'v453', 'kin1marks_p5_kin1p5_kin_q141p5_k', 'v454']\n"
     ]
    }
   ],
   "source": [
    "# check columns that are entirely empty\n",
    "empty_cols = [col for col in data_entry_team_1 if  data_entry_team_1[col].isna().all()]\n",
    "print(empty_cols)"
   ]
  },
  {
   "cell_type": "code",
   "execution_count": 6,
   "metadata": {},
   "outputs": [
    {
     "name": "stdout",
     "output_type": "stream",
     "text": [
      "[]\n"
     ]
    }
   ],
   "source": [
    "#drop empty cols\n",
    "df_team_1 = data_entry_team_1.copy()\n",
    "df_team_1 = df_team_1.drop(empty_cols,axis = 1)\n",
    "\n",
    "# check columns that are entirely empty\n",
    "empty_cols0 = [col for col in df_team_1 if  df_team_1[col].isna().all()]\n",
    "print(empty_cols0)"
   ]
  },
  {
   "cell_type": "code",
   "execution_count": 7,
   "metadata": {},
   "outputs": [
    {
     "name": "stdout",
     "output_type": "stream",
     "text": [
      "Index(['spv', 'fo', 'eng_participation', 'p1_eng_q01_sub1', 'p1_eng_q01_sub2',\n",
      "       'p1_eng_q02_sub1', 'p1_eng_q02_sub2', 'p1_eng_q02_sub3',\n",
      "       'p1_eng_q03_sub1', 'p1_eng_q03_sub2',\n",
      "       ...\n",
      "       'p2_leg_q01_sub1', 'p2_leg_q02_sub1', 'p2_leg_q03_sub1',\n",
      "       'p2_leg_q04_sub1', 'p2_leg_q05_sub1', 'p3_leg_q01_sub1',\n",
      "       'p3_leg_q02_sub1', 'p3_leg_q03_sub1', 'p3_leg_q04_sub1',\n",
      "       'p3_leg_q05_sub1'],\n",
      "      dtype='object', length=407)\n"
     ]
    }
   ],
   "source": [
    "# let's check categorical columns\n",
    "#cat_cols = [col for col in df_team_1 if df_team_1[col].dtypes.name == \"category\"]\n",
    "#print(cat_cols)\n",
    "\n",
    "cat_cols0 = df_team_1.select_dtypes([\"category\"]).columns\n",
    "print(cat_cols0)"
   ]
  },
  {
   "cell_type": "markdown",
   "metadata": {},
   "source": [
    "we have 407 columns that are categorical, this makes sense where, except for svp and fo, the columns represent participation or marks received by students with 3 choices: correct, incorrect, or left blank"
   ]
  },
  {
   "cell_type": "code",
   "execution_count": null,
   "metadata": {},
   "outputs": [],
   "source": [
    "# let's visualize categorical columns\n",
    "print(df_team_1[cat_cols0])"
   ]
  },
  {
   "cell_type": "markdown",
   "metadata": {},
   "source": [
    "let's check for one of the categorical columns the choices available:"
   ]
  },
  {
   "cell_type": "code",
   "execution_count": 29,
   "metadata": {},
   "outputs": [
    {
     "name": "stdout",
     "output_type": "stream",
     "text": [
      "{0: 'Left blank', 1: 'No', 2: 'Yes'}\n",
      "{0: 'No', 1: 'Yes'}\n",
      "{0: 'Shema Christian', 1: 'NAHIMANA Reverien   ', 2: 'Havugimana Saidi', 3: 'Uwimana  Pauline', 4: 'NTAREMBA George   ', 5: 'Hatangimana Gisele'}\n",
      "{0: 'Rushambara Alexis', 1: 'NSHIMIYIMANA PASCAL', 2: 'Habonimana Gabriel', 3: 'Nirere Sandrine', 4: 'NIYIBIZI Leandre', 5: 'UWASE Francine\\xa0', 6: 'Uwizeyimana Viateur', 7: 'Rusangwa Adolphe', 8: 'IRADUKUNDA GAHIRE ADOLPHE', 9: 'Ingabire Emelyne', 10: 'MUSHIMIRE Clarisse', 11: 'Mudahogora Placidie', 12: 'TUYISENGE ANICK', 13: 'Bagirishyaka Fulgence', 14: 'Fidele Iragena', 15: 'MUKANKOMEJE  Chantal', 16: 'NABAGIZE JUSTINE', 17: 'NTAWUSIGIRYAYO  Eric ', 18: 'IRAMBONA Valens', 19: 'Shingiro John', 20: 'UMUBYEYI MARIE GRACE', 21: 'MURAGIJIMANA Obadia', 22: 'MASENGESHO Samuel', 23: 'UMUBYEYI Claudine', 24: 'DUFATANYE Devota', 25: 'NSHIMIYIMANA Bernard', 26: 'MUKANSANGA Jacqueline', 27: 'UWIMANA Jeannette', 28: 'NAHAYO Jean Damascene', 29: 'DUSENGUMUREMYI Yvonne', 30: 'NSENGUMUREMYI Felix', 31: 'NDIKUMWENAYO Epimaque', 32: 'DUHAWUMUGISHA Nathan', 33: 'GATETE Fred', 34: 'MUTUYIMANA Josephine', 35: 'KAVAMAHANGA Lambert', 36: 'AENGAMIYE RWABUKWISI Smith Eugene', 37: 'HABARUREMA Jean Paul', 38: 'INGABIRE Marie Grace', 39: 'TUYISHIME Clementine', 40: 'HABIYAREMYE Aimable', 41: 'BITEGETSIMANA Samuel', 42: 'MUGISHA David', 43: 'Mwungura Ntagawa', 44: 'Niyonsaba Jean Pierre', 45: 'Nsengimana Joseph', 46: 'NSENGIYUMVA  Innocent', 47: 'TUYISINGIZE Nepomuscene', 48: 'Nshimiyimana Jean Marie vianney', 49: 'Umuhire  Jerome', 50: 'Hakizimana Emmy', 51: 'Masa Mutuyeyezu Redampta', 52: 'Mukarunyana Anysie', 53: 'Mukashumbusho Jeannette', 54: 'Ndayambaje Patrick', 55: 'RUBANDA Fidel', 56: 'Niyitegeka Moise', 57: 'Nzayinambaho  Ange Bernard', 58: 'Ruzindana Frank', 59: 'Muhire Emmanuel', 60: 'TUYISHIMIRE Marie Claire', 61: 'Alyppe KUBWAYO', 62: 'AMINA URWIBUTSO', 63: 'Amos KADENDE', 64: 'Annoncee Uwimana Nyandwi', 65: 'Antoine NZAYISENGA', 66: 'Aphrodis UKURIKIYEYEZU', 67: 'BIENVENUE Marie Claire', 68: 'Byarugaba J.de Dieu', 69: 'chantal umutesi', 70: 'Charlotte Umwali', 71: 'Mvuyekure wellars', 72: 'Desire MUTWARE', 73: 'DUSABIMANA Angelique', 74: 'Edith Muragijimana', 75: 'Egide TUBISABIMANA', 76: 'Emile JABO', 77: 'Emmanuel KANANI', 78: 'Emmanuel MANIRAFASHA', 79: 'Emmanuel NSENGIMANA', 80: 'Ephrem NKUNZABO', 81: 'Fidele MUTUYIMANA', 82: 'Fidele NIKUZE', 83: 'FLORENT NSABIMANA', 84: 'Georgie UWAMBAJIMANA', 85: 'Grace NISHIMWE', 86: 'HABIMANA MUSSA', 87: 'IMANANTIYANDETSE Marc', 88: 'IMANISHIMWE Djarudi Djarudi', 89: 'IRASUBIZA Zawadi', 90: 'ISABELLE musabyemariya', 91: 'Ismael DUSENGIMANA', 92: 'Jackson DUKUZEMUNGU', 93: 'Janvier NZANYWAYIMANA', 94: 'Jean Baptiste MUSHIMIYIMANA', 95: 'JEAN BAPTISTE NIYOYITA', 96: 'Jean Bosco Twagirimana', 97: 'Jean Damascene Mbwirabumva', 98: 'Jean de Dieu Safari', 99: 'Jean Marie Vianney CYUBAHIRO', 100: 'Jonathan Habineza', 101: 'Joseline Nisingizwe', 102: 'Kuradusenge Janvier', 103: 'KWIHANGANA Marc', 104: 'Kwizera Emmanuel', 105: 'Maniraho Maurice', 106: 'MANISHIMWE Samuel', 107: 'Mukarubayiza Triphine', 108: 'MUSANABOSE Yves', 109: 'NDABANANIYE David', 110: 'Ndagijimana Samuel', 111: 'Noah KURAMA', 112: 'Robert Muganga', 113: 'Sandrine MAHORO', 114: 'Solange Uwilingiyimana', 115: 'Sylvestre MUSENGIMANA', 116: 'Theoneste Maniraguha', 117: 'UTAZIRUBANDA NOEL Roudge', 118: 'UWANYIRIGIRA Claire', 119: 'Valentine NIYITEGEKA', 120: 'Victor MUGWANEZA', 121: 'INGABIRE Innocent', 122: 'Asiimwe Samuel', 123: 'Musabirema  Dominique', 124: 'Kampire Docile', 125: 'Alice Uwiduhaye', 126: 'Hakuzimana  Edouard', 127: 'Olivier NGWIJE', 128: 'Giraneza Claudine', 129: 'MANIRABARUTA Marie Claire  ', 130: 'SIBOMANA Jean Damascene', 131: 'Karanganwa Anthony', 132: 'Niyonzima Simeon', 133: 'Uwizeye Alphonse', 134: 'Mukangwije Ancille', 135: 2500922, 136: 'Mukeshimana  Theogene', 137: 'Iribagiza Annette', 138: 'NISHIMWE Denise Amelie', 139: 'MUKANTAGANDA Liberatha   ', 140: 'MWIZA Florence', 141: 'Nakure Marie Aimee'}\n"
     ]
    }
   ],
   "source": [
    "#print(df_team_1[\"p1_eng_q02_sub3\"].cat.codes.unique())\n",
    "#print(df_team_1[\"p1_eng_q02_sub3\"].cat.categories.unique())\n",
    "print(dict(enumerate(df_team_1[\"p1_eng_q02_sub3\"].cat.categories)))\n",
    "print(dict(enumerate(df_team_1[\"eng_participation\"].cat.categories)))\n",
    "print(dict(enumerate(df_team_1[\"spv\"].cat.categories)))\n",
    "print(dict(enumerate(df_team_1[\"fo\"].cat.categories)))"
   ]
  },
  {
   "cell_type": "code",
   "execution_count": 8,
   "metadata": {},
   "outputs": [
    {
     "data": {
      "text/html": [
       "<div>\n",
       "<style scoped>\n",
       "    .dataframe tbody tr th:only-of-type {\n",
       "        vertical-align: middle;\n",
       "    }\n",
       "\n",
       "    .dataframe tbody tr th {\n",
       "        vertical-align: top;\n",
       "    }\n",
       "\n",
       "    .dataframe thead th {\n",
       "        text-align: right;\n",
       "    }\n",
       "</style>\n",
       "<table border=\"1\" class=\"dataframe\">\n",
       "  <thead>\n",
       "    <tr style=\"text-align: right;\">\n",
       "      <th></th>\n",
       "      <th>codes</th>\n",
       "      <th>names</th>\n",
       "    </tr>\n",
       "  </thead>\n",
       "  <tbody>\n",
       "    <tr>\n",
       "      <th>0</th>\n",
       "      <td>0</td>\n",
       "      <td>Rushambara Alexis</td>\n",
       "    </tr>\n",
       "    <tr>\n",
       "      <th>1</th>\n",
       "      <td>1</td>\n",
       "      <td>NSHIMIYIMANA PASCAL</td>\n",
       "    </tr>\n",
       "    <tr>\n",
       "      <th>2</th>\n",
       "      <td>2</td>\n",
       "      <td>Habonimana Gabriel</td>\n",
       "    </tr>\n",
       "    <tr>\n",
       "      <th>3</th>\n",
       "      <td>3</td>\n",
       "      <td>Nirere Sandrine</td>\n",
       "    </tr>\n",
       "    <tr>\n",
       "      <th>4</th>\n",
       "      <td>4</td>\n",
       "      <td>NIYIBIZI Leandre</td>\n",
       "    </tr>\n",
       "    <tr>\n",
       "      <th>5</th>\n",
       "      <td>5</td>\n",
       "      <td>UWASE Francine</td>\n",
       "    </tr>\n",
       "    <tr>\n",
       "      <th>6</th>\n",
       "      <td>6</td>\n",
       "      <td>Uwizeyimana Viateur</td>\n",
       "    </tr>\n",
       "    <tr>\n",
       "      <th>7</th>\n",
       "      <td>7</td>\n",
       "      <td>Rusangwa Adolphe</td>\n",
       "    </tr>\n",
       "    <tr>\n",
       "      <th>8</th>\n",
       "      <td>8</td>\n",
       "      <td>IRADUKUNDA GAHIRE ADOLPHE</td>\n",
       "    </tr>\n",
       "    <tr>\n",
       "      <th>9</th>\n",
       "      <td>9</td>\n",
       "      <td>Ingabire Emelyne</td>\n",
       "    </tr>\n",
       "    <tr>\n",
       "      <th>10</th>\n",
       "      <td>10</td>\n",
       "      <td>MUSHIMIRE Clarisse</td>\n",
       "    </tr>\n",
       "    <tr>\n",
       "      <th>11</th>\n",
       "      <td>11</td>\n",
       "      <td>Mudahogora Placidie</td>\n",
       "    </tr>\n",
       "    <tr>\n",
       "      <th>12</th>\n",
       "      <td>12</td>\n",
       "      <td>TUYISENGE ANICK</td>\n",
       "    </tr>\n",
       "    <tr>\n",
       "      <th>13</th>\n",
       "      <td>13</td>\n",
       "      <td>Bagirishyaka Fulgence</td>\n",
       "    </tr>\n",
       "    <tr>\n",
       "      <th>14</th>\n",
       "      <td>14</td>\n",
       "      <td>Fidele Iragena</td>\n",
       "    </tr>\n",
       "    <tr>\n",
       "      <th>15</th>\n",
       "      <td>15</td>\n",
       "      <td>MUKANKOMEJE  Chantal</td>\n",
       "    </tr>\n",
       "    <tr>\n",
       "      <th>16</th>\n",
       "      <td>16</td>\n",
       "      <td>NABAGIZE JUSTINE</td>\n",
       "    </tr>\n",
       "    <tr>\n",
       "      <th>17</th>\n",
       "      <td>17</td>\n",
       "      <td>NTAWUSIGIRYAYO  Eric</td>\n",
       "    </tr>\n",
       "    <tr>\n",
       "      <th>18</th>\n",
       "      <td>18</td>\n",
       "      <td>IRAMBONA Valens</td>\n",
       "    </tr>\n",
       "    <tr>\n",
       "      <th>19</th>\n",
       "      <td>19</td>\n",
       "      <td>Shingiro John</td>\n",
       "    </tr>\n",
       "  </tbody>\n",
       "</table>\n",
       "</div>"
      ],
      "text/plain": [
       "    codes                      names\n",
       "0       0          Rushambara Alexis\n",
       "1       1        NSHIMIYIMANA PASCAL\n",
       "2       2         Habonimana Gabriel\n",
       "3       3            Nirere Sandrine\n",
       "4       4           NIYIBIZI Leandre\n",
       "5       5            UWASE Francine \n",
       "6       6        Uwizeyimana Viateur\n",
       "7       7           Rusangwa Adolphe\n",
       "8       8  IRADUKUNDA GAHIRE ADOLPHE\n",
       "9       9           Ingabire Emelyne\n",
       "10     10         MUSHIMIRE Clarisse\n",
       "11     11        Mudahogora Placidie\n",
       "12     12            TUYISENGE ANICK\n",
       "13     13      Bagirishyaka Fulgence\n",
       "14     14             Fidele Iragena\n",
       "15     15       MUKANKOMEJE  Chantal\n",
       "16     16           NABAGIZE JUSTINE\n",
       "17     17      NTAWUSIGIRYAYO  Eric \n",
       "18     18            IRAMBONA Valens\n",
       "19     19              Shingiro John"
      ]
     },
     "execution_count": 8,
     "metadata": {},
     "output_type": "execute_result"
    }
   ],
   "source": [
    "enumerators = dict(enumerate(df_team_1[\"fo\"].cat.categories))\n",
    "enumerators = pd.DataFrame(enumerators.items(),columns=[\"codes\", \"names\"])\n",
    "enumerators.head(20)"
   ]
  },
  {
   "cell_type": "code",
   "execution_count": 9,
   "metadata": {},
   "outputs": [
    {
     "name": "stdout",
     "output_type": "stream",
     "text": [
      "Index([], dtype='object')\n",
      "[-1  2  1  0]\n",
      "[ 1  0 -1]\n",
      "[0 1 4 2 5 3]\n",
      "[110 109   2  89 103  99  36 112  13  98   5 137  40  48 119  26   8 140\n",
      " 105  76  42  74  14  59  71 134  91 127  17   4  95  37 116 128  31  52\n",
      "  61 121  51  96  77 102  54  55 122  97 113 139  21 136  35  62  90 108\n",
      "  85 124  79  49  75 138  33  86  68  83 126  64  28  44  30  81   6  88\n",
      "  23  41  11 107  67  65 120 100  15 123  34  10  43  47  57  94   9   3\n",
      "  12  50  70  22  69 131 125 101  20  38  87  16  73  63  92   7 133  46\n",
      "  45 104  80  78  84 114  32   0  72  66  53 117 130 118  24  93  18 106\n",
      "  82  39  27  60 129 141  19  56  29  58 115   1 111 132  25 135]\n"
     ]
    }
   ],
   "source": [
    "#we are going to convert categorical variables to their numeric values\n",
    "df_team_1[cat_cols0] = df_team_1[cat_cols0].apply(lambda x: x.cat.codes)\n",
    "#check the results\n",
    "print(df_team_1.select_dtypes([\"category\"]).columns)\n",
    "print(df_team_1[\"p1_eng_q02_sub3\"].unique())\n",
    "print(df_team_1[\"eng_participation\"].unique())\n",
    "print(df_team_1[\"spv\"].unique())\n",
    "print(df_team_1[\"fo\"].unique())"
   ]
  },
  {
   "cell_type": "code",
   "execution_count": 37,
   "metadata": {},
   "outputs": [
    {
     "name": "stdout",
     "output_type": "stream",
     "text": [
      "<class 'pandas.core.frame.DataFrame'>\n",
      "Int64Index: 56906 entries, 0 to 56905\n",
      "Columns: 450 entries, deviceid to enddate\n",
      "dtypes: datetime64[ns](5), float64(4), int16(1), int8(406), object(34)\n",
      "memory usage: 41.2+ MB\n"
     ]
    }
   ],
   "source": [
    "df_team_1.info()"
   ]
  },
  {
   "cell_type": "markdown",
   "metadata": {},
   "source": [
    "we have successfully converted categorical variables to numeric variables"
   ]
  },
  {
   "cell_type": "code",
   "execution_count": 10,
   "metadata": {},
   "outputs": [
    {
     "name": "stdout",
     "output_type": "stream",
     "text": [
      "Index(['deviceid', 'devicephonenum', 'username', 'device_info', 'duration',\n",
      "       'caseid', 'district', 'sector', 'school', 'grade', 'student_code',\n",
      "       'student_code_other', 'student_code_name', 'time_check_eng_1',\n",
      "       'time_check_eng_2', 'time_check_eng_3', 'time_check_eng_4',\n",
      "       'time_check_eng_5', 'time_check_eng_6', 'time_check_math_1',\n",
      "       'time_check_math_2', 'time_check_math_3', 'time_check_math_4',\n",
      "       'time_check_math_5', 'time_check_math_6', 'time_check_kiny_4',\n",
      "       'time_check_kiny_5', 'time_check_kiny_6', 'time_check_kiny_1',\n",
      "       'time_check_kiny_2', 'time_check_kiny_3', 'time_check_end',\n",
      "       'instancename', 'key'],\n",
      "      dtype='object')\n"
     ]
    }
   ],
   "source": [
    "#check object type variables\n",
    "object_cols = df_team_1.select_dtypes([\"object\"]).columns\n",
    "print(object_cols)"
   ]
  },
  {
   "cell_type": "code",
   "execution_count": null,
   "metadata": {},
   "outputs": [],
   "source": [
    "# let's view the object type variables\n",
    "df_team_1[object_cols].head()"
   ]
  },
  {
   "cell_type": "code",
   "execution_count": 19,
   "metadata": {},
   "outputs": [],
   "source": [
    "#drop unuseful columns\n",
    "df_team_1 = df_team_1.drop(['deviceid', 'devicephonenum', 'username', 'caseid','device_info','instancename', 'key'], axis=1)"
   ]
  },
  {
   "cell_type": "code",
   "execution_count": 20,
   "metadata": {},
   "outputs": [
    {
     "name": "stdout",
     "output_type": "stream",
     "text": [
      "Index(['duration', 'district', 'sector', 'school', 'grade', 'student_code',\n",
      "       'student_code_other', 'student_code_name', 'time_check_eng_1',\n",
      "       'time_check_eng_2', 'time_check_eng_3', 'time_check_eng_4',\n",
      "       'time_check_eng_5', 'time_check_eng_6', 'time_check_math_1',\n",
      "       'time_check_math_2', 'time_check_math_3', 'time_check_math_4',\n",
      "       'time_check_math_5', 'time_check_math_6', 'time_check_kiny_4',\n",
      "       'time_check_kiny_5', 'time_check_kiny_6', 'time_check_kiny_1',\n",
      "       'time_check_kiny_2', 'time_check_kiny_3', 'time_check_end',\n",
      "       'student_code_unsure'],\n",
      "      dtype='object')\n"
     ]
    }
   ],
   "source": [
    "#check object type variables again\n",
    "object_cols0 = df_team_1.select_dtypes([\"object\"]).columns\n",
    "print(object_cols0)"
   ]
  },
  {
   "cell_type": "code",
   "execution_count": null,
   "metadata": {},
   "outputs": [],
   "source": [
    "print(df_team_1[\"school\"].unique())"
   ]
  },
  {
   "cell_type": "code",
   "execution_count": null,
   "metadata": {},
   "outputs": [],
   "source": [
    "print(df_team_1[\"student_code\"].unique())\n",
    "print(df_team_1[\"student_code_name\"].unique())\n",
    "print(df_team_1[\"student_code_other\"].unique())\n",
    "print(df_team_1[\"time_check_eng_1\"].unique())\n",
    "print(df_team_1[\"time_check_end\"].unique())"
   ]
  },
  {
   "cell_type": "code",
   "execution_count": null,
   "metadata": {},
   "outputs": [],
   "source": [
    "df_team_1[[\"student_code\",\"student_code_other\"]][df_team_1[\"student_code_other\"]!=\".\"]"
   ]
  },
  {
   "cell_type": "code",
   "execution_count": 53,
   "metadata": {},
   "outputs": [
    {
     "data": {
      "text/plain": [
       "True"
      ]
     },
     "execution_count": 53,
     "metadata": {},
     "output_type": "execute_result"
    }
   ],
   "source": [
    "df_team_1[\"student_code_other\"][41] == df_team_1[\"student_code\"][41] "
   ]
  },
  {
   "cell_type": "code",
   "execution_count": 21,
   "metadata": {},
   "outputs": [
    {
     "name": "stdout",
     "output_type": "stream",
     "text": [
      "['.' '-555' '555' '540712210384' '21108002025' '555555555555'\n",
      " '510712002010' '540712210425' '421807055001' '4305061550' '5707122003003'\n",
      " '4211020003025' '211001230088' '421102210191' '42111204027'\n",
      " '320028002001']\n"
     ]
    }
   ],
   "source": [
    "#Assigning values to student_code_other based on student_code variable\n",
    "df_team_1.loc[df_team_1[\"student_code_other\"] == df_team_1[\"student_code\"], \"student_code_other\"] = \".\"\n",
    "print(df_team_1.student_code_other.unique())"
   ]
  },
  {
   "cell_type": "code",
   "execution_count": null,
   "metadata": {},
   "outputs": [],
   "source": [
    "df_team_1.loc[df_team_1[\"student_code_other\"] != \".\", [\"student_code\",\"student_code_other\"]]"
   ]
  },
  {
   "cell_type": "code",
   "execution_count": 17,
   "metadata": {},
   "outputs": [
    {
     "data": {
      "text/plain": [
       "array(['-555', '555', '540712210384', '21108002025', '555555555555',\n",
       "       '510712002010', '540712210425', '421807055001', '4305061550',\n",
       "       '5707122003003', '4211020003025', '211001230088', '421102210191',\n",
       "       '42111204027', '320028002001'], dtype=object)"
      ]
     },
     "execution_count": 17,
     "metadata": {},
     "output_type": "execute_result"
    }
   ],
   "source": [
    "df_team_1.loc[df_team_1[\"student_code_other\"] != \".\", \"student_code_other\"].unique()"
   ]
  },
  {
   "cell_type": "code",
   "execution_count": null,
   "metadata": {},
   "outputs": [],
   "source": [
    "df_team_1.loc[df_team_1[\"student_code_other\"].isin(['540712210384', '21108002025',\n",
    "       '510712002010', '540712210425', '421807055001', '4305061550',\n",
    "       '5707122003003', '4211020003025', '211001230088', '421102210191',\n",
    "       '42111204027', '320028002001']), [\"student_code\",\"student_code_other\"]]"
   ]
  },
  {
   "cell_type": "markdown",
   "metadata": {},
   "source": [
    "let's create a column that will help us track these inconsistencies"
   ]
  },
  {
   "cell_type": "code",
   "execution_count": 22,
   "metadata": {},
   "outputs": [],
   "source": [
    "df_team_1[\"student_code_unsure\"] = np.where(df_team_1[\"student_code_other\"].isin(['540712210384', '21108002025',\n",
    "       '510712002010', '540712210425', '421807055001', '4305061550',\n",
    "       '5707122003003', '4211020003025', '211001230088', '421102210191',\n",
    "       '42111204027', '320028002001']),\"flagged\",\"passed\")\n"
   ]
  },
  {
   "cell_type": "code",
   "execution_count": 16,
   "metadata": {},
   "outputs": [
    {
     "name": "stdout",
     "output_type": "stream",
     "text": [
      "passed     56894\n",
      "flagged       12\n",
      "Name: student_code_unsure, dtype: int64\n"
     ]
    }
   ],
   "source": [
    "print(df_team_1[\"student_code_unsure\"].value_counts())"
   ]
  },
  {
   "cell_type": "code",
   "execution_count": 16,
   "metadata": {},
   "outputs": [
    {
     "data": {
      "text/plain": [
       "False"
      ]
     },
     "execution_count": 16,
     "metadata": {},
     "output_type": "execute_result"
    }
   ],
   "source": [
    "# check if student_code column is unique and doesn't have duplicates\n",
    "df_team_1[\"student_code\"].is_unique"
   ]
  },
  {
   "cell_type": "markdown",
   "metadata": {},
   "source": [
    "It seems like we have duplicates in the student code variable.\n",
    "Let us count how many duplicates we have"
   ]
  },
  {
   "cell_type": "code",
   "execution_count": 17,
   "metadata": {},
   "outputs": [
    {
     "data": {
      "text/plain": [
       "451"
      ]
     },
     "execution_count": 17,
     "metadata": {},
     "output_type": "execute_result"
    }
   ],
   "source": [
    "# check how many dups we have\n",
    "df_team_1[\"student_code\"].duplicated().sum()"
   ]
  },
  {
   "cell_type": "markdown",
   "metadata": {},
   "source": [
    "we have around 451 duplicates"
   ]
  },
  {
   "cell_type": "code",
   "execution_count": null,
   "metadata": {},
   "outputs": [],
   "source": [
    "#let us view the duplicates\n",
    "df_team_1[df_team_1[\"student_code\"].isin(df_team_1[\"student_code\"][df_team_1[\"student_code\"].duplicated()])].sort_values([\"student_code\",\"submissiondate\"])"
   ]
  },
  {
   "cell_type": "code",
   "execution_count": 23,
   "metadata": {},
   "outputs": [
    {
     "name": "stdout",
     "output_type": "stream",
     "text": [
      "0\n"
     ]
    }
   ],
   "source": [
    "df_team_1_unique = df_team_1.sort_values([\"student_code\",\"submissiondate\"]).drop_duplicates(\"student_code\",keep=\"last\")\n",
    "# check how many dups we have\n",
    "print(df_team_1_unique[\"student_code\"].duplicated().sum())"
   ]
  },
  {
   "cell_type": "markdown",
   "metadata": {},
   "source": [
    "Now that we have treated student_code duplicates, we can move on with our feature cleaning activities"
   ]
  },
  {
   "cell_type": "code",
   "execution_count": 24,
   "metadata": {},
   "outputs": [],
   "source": [
    "#changing column types to numeric, Datetime, and string\n",
    "\n",
    "#numeric\n",
    "df_team_1_unique[[\"duration\",\"school\",\"student_code\"]] = df_team_1_unique[[\"duration\",\"school\",\"student_code\"]].apply(pd.to_numeric)"
   ]
  },
  {
   "cell_type": "code",
   "execution_count": 25,
   "metadata": {},
   "outputs": [],
   "source": [
    "#datetime\n",
    "# select columns that starts with time_check\n",
    "time_cols = [col for col in df_team_1_unique if col.startswith(\"time_check\")]\n",
    "\n",
    "df_team_1_unique[time_cols] = df_team_1_unique[time_cols].apply(pd.to_datetime)"
   ]
  },
  {
   "cell_type": "code",
   "execution_count": null,
   "metadata": {},
   "outputs": [],
   "source": [
    "# Let us look at how the datetime transformation was executed\n",
    "df_team_1_unique[time_cols]"
   ]
  },
  {
   "cell_type": "code",
   "execution_count": 24,
   "metadata": {},
   "outputs": [
    {
     "name": "stdout",
     "output_type": "stream",
     "text": [
      "Index(['district', 'sector', 'grade', 'student_code_other',\n",
      "       'student_code_name', 'student_code_unsure'],\n",
      "      dtype='object')\n"
     ]
    }
   ],
   "source": [
    "# let's check how many object type columns are left\n",
    "print(df_team_1_unique.select_dtypes(\"object\").columns)"
   ]
  },
  {
   "cell_type": "code",
   "execution_count": 26,
   "metadata": {},
   "outputs": [],
   "source": [
    "# first we drop unwanted columns\n",
    "unwanted_cols = ['student_code_other', 'student_code_name']\n",
    "df_team_1_unique = df_team_1_unique.drop(unwanted_cols, axis=1)\n"
   ]
  },
  {
   "cell_type": "code",
   "execution_count": 27,
   "metadata": {},
   "outputs": [
    {
     "name": "stdout",
     "output_type": "stream",
     "text": [
      "         district        sector grade student_code_unsure\n",
      "41776  'Kicukiro'     'Gikondo'  'P2'            'passed'\n",
      "32697  'Kicukiro'     'Kanombe'  'P3'            'passed'\n",
      "26680  'Kicukiro'    'Kigarama'  'P6'            'passed'\n",
      "26635    'Gasabo'    'Rusororo'  'P5'            'passed'\n",
      "28737  'Kicukiro'  'Nyarugunga'  'P3'            'passed'\n"
     ]
    }
   ],
   "source": [
    "# string\n",
    "string_cols = ['district', 'sector', 'grade', 'student_code_unsure']\n",
    "\n",
    "df_team_1_unique[string_cols] = df_team_1_unique[string_cols].apply(lambda col: col.map(repr)) #interesting\n",
    "print(df_team_1_unique[string_cols].head())"
   ]
  },
  {
   "cell_type": "code",
   "execution_count": null,
   "metadata": {},
   "outputs": [],
   "source": [
    "# let's check how many object type columns are left\n",
    "print(df_team_1_unique.select_dtypes(\"object\").columns)"
   ]
  },
  {
   "cell_type": "markdown",
   "metadata": {},
   "source": [
    "It turns out that string columns are represented as object type!\n",
    "we can now move on to the next stage in our data cleaning/engineering process"
   ]
  },
  {
   "cell_type": "code",
   "execution_count": 28,
   "metadata": {},
   "outputs": [
    {
     "name": "stdout",
     "output_type": "stream",
     "text": [
      "duration spv fo district sector school grade student_code eng_participation time_check_eng_1 p1_eng_q01_sub1 p1_eng_q01_sub2 p1_eng_q02_sub1 p1_eng_q02_sub2 p1_eng_q02_sub3 p1_eng_q03_sub1 p1_eng_q03_sub2 p1_eng_q03_sub3 p1_eng_q04_sub1 p1_eng_q04_sub2 p1_eng_q04_sub3 p1_eng_q05_sub1 p1_eng_q05_sub2 p1_eng_q05_sub3 p1_eng_q05_sub4 p1_eng_q05_sub5 p1_eng_q06_sub1 p1_eng_q06_sub2 p1_eng_q06_sub3 p1_eng_q07_sub1 p1_eng_q07_sub2 p1_eng_q07_sub3 p1_eng_q08_sub1 p1_eng_q08_sub2 p1_eng_q08_sub3 time_check_eng_2 p2_eng_q01_sub1 p2_eng_q01_sub2 p2_eng_q01_sub3 p2_eng_q01_sub4 p2_eng_q02_sub1 p2_eng_q02_sub2 p2_eng_q02_sub3 p2_eng_q03_sub1 p2_eng_q04_sub1 p2_eng_q05_sub1 p2_eng_q06_sub1 p2_eng_q07_sub1 p2_eng_q07_sub2 p2_eng_q08_sub1 p2_eng_q08_sub2 p2_eng_q08_sub3 p2_eng_q09_sub1 p2_eng_q09_sub2 p2_eng_q09_sub3 p2_eng_q10_sub1 p2_eng_q10_sub2 p2_eng_q10_sub3 p2_eng_q10_sub4 p2_eng_q11_sub1 time_check_eng_3 p3_eng_q01_sub1 p3_eng_q01_sub2 p3_eng_q02_sub1 p3_eng_q03_sub1 p3_eng_q04_sub1 p3_eng_q04_sub2 p3_eng_q04_sub3 p3_eng_q04_sub4 p3_eng_q05_sub1 p3_eng_q05_sub2 p3_eng_q05_sub3 p3_eng_q06_sub1 p3_eng_q06_sub2 p3_eng_q06_sub3 p3_eng_q07_sub1 p3_eng_q07_sub2 p3_eng_q08_sub1 p3_eng_q08_sub2 p3_eng_q09_sub1 p3_eng_q09_sub2 p3_eng_q10_sub1 p3_eng_q10_sub2 p3_eng_q11_sub1 p3_eng_q12_sub1 p3_eng_q13_sub1 time_check_eng_4 p4_eng_q01_sub1 p4_eng_q01_sub2 p4_eng_q01_sub3 p4_eng_q01_sub4 p4_eng_q02_sub1 p4_eng_q03_sub1 p4_eng_q03_sub2 p4_eng_q03_sub3 p4_eng_q03_sub4 p4_eng_q03_sub5 p4_eng_q04_sub1 p4_eng_q04_sub2 p4_eng_q04_sub3 p4_eng_q04_sub4 p4_eng_q04_sub5 p4_eng_q05_sub1 p4_eng_q05_sub2 p4_eng_q05_sub3 p4_eng_q05_sub4 p4_eng_q06_sub1 p4_eng_q07_sub1 p4_eng_q07_sub2 p4_eng_q07_sub3 p4_eng_q08_sub1 p4_eng_q08_sub2 p4_eng_q08_sub3 p4_eng_q09_sub1 p4_eng_q10_sub1 time_check_eng_5 p5_eng_q01_sub1 p5_eng_q01_sub2 p5_eng_q02_sub1 p5_eng_q02_sub2 p5_eng_q02_sub3 p5_eng_q03_sub1 p5_eng_q03_sub2 p5_eng_q03_sub3 p5_eng_q03_sub4 p5_eng_q03_sub5 p5_eng_q04_sub1 p5_eng_q04_sub2 p5_eng_q04_sub3 p5_eng_q05_sub1 p5_eng_q06_sub1 p5_eng_q06_sub2 p5_eng_q06_sub3 p5_eng_q06_sub4 p5_eng_q07_sub1 p5_eng_q07_sub2 p5_eng_q08_sub1 p5_eng_q08_sub2 p5_eng_q08_sub3 p5_eng_q08_sub4 p5_eng_q08_sub5 time_check_eng_6 p6_eng_q01_sub1 p6_eng_q01_sub2 p6_eng_q01_sub3 p6_eng_q02_sub1 p6_eng_q03_sub1 p6_eng_q04_sub1 p6_eng_q04_sub2 p6_eng_q04_sub3 p6_eng_q04_sub4 p6_eng_q05_sub1 p6_eng_q05_sub2 p6_eng_q05_sub3 p6_eng_q05_sub4 p6_eng_q05_sub5 p6_eng_q06_sub1 p6_eng_q06_sub2 p6_eng_q06_sub3 p6_eng_q06_sub4 p6_eng_q06_sub5 p6_eng_q07_sub1 p6_eng_q07_sub2 p6_eng_q08_sub1 p6_eng_q09_sub1 p6_eng_q10_sub1 p6_eng_q11_sub1 mat_participation time_check_math_1 p1_mat_q01_sub1 p1_mat_q01_sub2 p1_mat_q02_sub1 p1_mat_q02_sub2 p1_mat_q02_sub3 p1_mat_q02_sub4 p1_mat_q03_sub1 p1_mat_q04_sub1 p1_mat_q04_sub2 p1_mat_q05_sub1 p1_mat_q06_sub1 p1_mat_q06_sub2 p1_mat_q06_sub3 p1_mat_q07_sub1 p1_mat_q08_sub1 p1_mat_q08_sub2 p1_mat_q09_sub1 p1_mat_q10_sub1 p1_mat_q11_sub1 p1_mat_q12_sub1 p1_mat_q12_sub2 time_check_math_2 p2_mat_q01_sub1 p2_mat_q02_sub1 p2_mat_q02_sub2 p2_mat_q02_sub3 p2_mat_q03_sub1 p2_mat_q03_sub2 p2_mat_q04_sub1 p2_mat_q04_sub2 p2_mat_q05_sub1 p2_mat_q05_sub2 p2_mat_q06_sub1 p2_mat_q06_sub2 p2_mat_q06_sub3 p2_mat_q06_sub4 p2_mat_q07_sub1 p2_mat_q08_sub1 p2_mat_q09_sub1 p2_mat_q09_sub2 p2_mat_q10_sub1 p2_mat_q10_sub2 p2_mat_q10_sub3 p2_mat_q10_sub4 time_check_math_3 p3_mat_q01_sub1 p3_mat_q01_sub2 p3_mat_q01_sub3 p3_mat_q01_sub4 p3_mat_q02_sub1 p3_mat_q02_sub2 p3_mat_q03_sub1 p3_mat_q04_sub1 p3_mat_q04_sub2 p3_mat_q05_sub1 p3_mat_q05_sub2 p3_mat_q06_sub1 p3_mat_q06_sub2 p3_mat_q07_sub1 p3_mat_q08_sub1 p3_mat_q09_sub1 p3_mat_q09_sub2 p3_mat_q10_sub1 p3_mat_q10_sub2 p3_mat_q11_sub1 p3_mat_q11_sub2 p3_mat_q11_sub3 p3_mat_q12_sub1 p3_mat_q12_sub2 time_check_math_4 p4_mat_q01_sub1_1 p4_mat_q01_sub1_2 p4_mat_q01_sub1_3 p4_mat_q01_sub2 p4_mat_q01_sub3 p4_mat_q02_sub1 p4_mat_q02_sub2 p4_mat_q03_sub1 p4_mat_q04_sub1 p4_mat_q04_sub2 p4_mat_q05_sub1 p4_mat_q05_sub2 p4_mat_q05_sub3 p4_mat_q06_sub1 p4_mat_q06_sub2 p4_mat_q07_sub1 p4_mat_q07_sub2 p4_mat_q08_sub1 p4_mat_q09_sub1 p4_mat_q10_sub1 p4_mat_q11_sub1 p4_mat_q11_sub2 p4_mat_q11_sub3 p4_mat_q11_sub4 p4_mat_q12_sub1 p4_mat_q12_sub2 time_check_math_5 p5_mat_q01_sub1_1 p5_mat_q01_sub1_2 p5_mat_q01_sub1_3 p5_mat_q01_sub2 p5_mat_q01_sub3 p5_mat_q02_sub1 p5_mat_q02_sub2 p5_mat_q03_sub1 p5_mat_q04_sub1 p5_mat_q04_sub2 p5_mat_q05_sub1 p5_mat_q05_sub2 p5_mat_q06_sub1 p5_mat_q07_sub1 p5_mat_q08_sub1 p5_mat_q09_sub1 p5_mat_q10_sub1 p5_mat_q11_sub1 p5_mat_q11_sub2 p5_mat_q12_sub1 p5_mat_q13_sub1_1 p5_mat_q13_sub1_2 p5_mat_q13_sub1_3 p5_mat_q13_sub2 p5_mat_q14_sub1 p5_mat_q14_sub2 p5_mat_q15_sub1 p5_mat_q15_sub2 p5_mat_q16_sub1 time_check_math_6 p6_mat_q01_sub1 p6_mat_q01_sub2 p6_mat_q02_sub1_1 p6_mat_q02_sub1_2 p6_mat_q02_sub1_3 p6_mat_q02_sub1_4 p6_mat_q02_sub2 p6_mat_q02_sub3 p6_mat_q03_sub1_1 p6_mat_q03_sub1_2 p6_mat_q03_sub2_1 p6_mat_q03_sub2_2 p6_mat_q04_sub1 p6_mat_q04_sub2 p6_mat_q05_sub1 p6_mat_q05_sub2 p6_mat_q05_sub3_1 p6_mat_q05_sub3_2 p6_mat_q05_sub4_1 p6_mat_q05_sub4_2 p6_mat_q06_sub1 p6_mat_q07_sub1 p6_mat_q07_sub2 p6_mat_q08_sub1 p6_mat_q08_sub2 p6_mat_q09_sub1 p6_mat_q10_sub1 p6_mat_q11_sub1 kiny_participation time_check_kiny_4 p4_kin_q01_sub1 p4_kin_q01_sub2 p4_kin_q02_sub1 p4_kin_q03_sub1_1 p4_kin_q03_sub1_2 p4_kin_q03_sub2 p4_kin_q04_sub1 p4_kin_q04_sub2 p4_kin_q04_sub3 p4_kin_q05_sub1 p4_kin_q05_sub2 p4_kin_q05_sub3 p4_kin_q06_sub1 p4_kin_q06_sub2 p4_kin_q07_sub1 p4_kin_q08_sub1 p4_kin_q08_sub2 p4_kin_q08_sub3 p4_kin_q08_sub4 p4_kin_q08_sub5 p4_kin_q09_sub1_1 p4_kin_q09_sub1_2 p4_kin_q09_sub1_3 p4_kin_q10_sub1 p4_kin_q11_sub1 p4_kin_q12_sub1 p4_kin_q12_sub2 time_check_kiny_5 p5_kin_q01_sub1_1 p5_kin_q01_sub1_2 p5_kin_q02_sub1 p5_kin_q03_sub1_1 p5_kin_q03_sub1_2 p5_kin_q04_sub1 p5_kin_q05_sub1 p5_kin_q05_sub2 p5_kin_q05_sub3 p5_kin_q06_sub1_1 p5_kin_q06_sub1_2 p5_kin_q06_sub2_1 p5_kin_q06_sub2_2 p5_kin_q07_sub1 p5_kin_q07_sub2 p5_kin_q08_sub1 p5_kin_q08_sub2 p5_kin_q09_sub1 p5_kin_q10_sub1 p5_kin_q11_sub1 p5_kin_q12_sub1 p5_kin_q12_sub2 p5_kin_q13_sub1 p5_kin_q14_sub1_1 p5_kin_q14_sub1_2 p5_kin_q15_sub1 time_check_kiny_6 p6_kin_q01_sub1 p6_kin_q01_sub2 p6_kin_q02_sub1_1 p6_kin_q02_sub1_2 p6_kin_q03_sub1_1 p6_kin_q03_sub1_2 p6_kin_q03_sub1_3 p6_kin_q04_sub1 p6_kin_q04_sub2 p6_kin_q04_sub3 p6_kin_q05_sub1 p6_kin_q05_sub2 p6_kin_q05_sub3 p6_kin_q05_sub4 p6_kin_q05_sub5 p6_kin_q06_sub1_1 p6_kin_q06_sub1_2 p6_kin_q06_sub2_1 p6_kin_q06_sub2_2 p6_kin_q06_sub2_3 p6_kin_q07_sub1 p6_kin_q07_sub2 p6_kin_q07_sub3 p6_kin_q08_sub1 p6_kin_q08_sub2 p6_kin_q09_sub1_1 p6_kin_q09_sub1_2 p6_kin_q10_sub1_1 p6_kin_q10_sub1_2 p6_kin_q10_sub2_1 p6_kin_q10_sub2_2 legra_participation time_check_kiny_1 p1_leg_cwpm_sub1 p1_leg_q01_sub1 p1_leg_q02_sub1 p1_leg_q03_sub1 p1_leg_q04_sub1 p1_leg_q05_sub1 time_check_kiny_2 p2_leg_cwpm_sub1 p2_leg_q01_sub1 p2_leg_q02_sub1 p2_leg_q03_sub1 p2_leg_q04_sub1 p2_leg_q05_sub1 time_check_kiny_3 p3_leg_cwpm_sub1 p3_leg_q01_sub1 p3_leg_q02_sub1 p3_leg_q03_sub1 p3_leg_q04_sub1 p3_leg_q05_sub1 time_check_end formdef_version submissiondate starttime endtime subdate enddate student_code_unsure\n"
     ]
    }
   ],
   "source": [
    "# Let's view the columns we have in our dataset\n",
    "columns_df = df_team_1_unique.columns\n",
    "print(*columns_df)"
   ]
  },
  {
   "cell_type": "markdown",
   "metadata": {},
   "source": [
    "We are going to remove columns that are not important for the following steps"
   ]
  },
  {
   "cell_type": "code",
   "execution_count": 29,
   "metadata": {},
   "outputs": [],
   "source": [
    "cols_remove = ['formdef_version',  'submissiondate', 'starttime', 'endtime',  'enddate']\n",
    "df_long_1 = df_team_1_unique.copy()\n",
    "df_long_1 = df_long_1.drop(cols_remove,axis=1)"
   ]
  },
  {
   "cell_type": "markdown",
   "metadata": {},
   "source": [
    "##### Reshaping the dataset from Wide to Long"
   ]
  },
  {
   "cell_type": "code",
   "execution_count": 30,
   "metadata": {},
   "outputs": [],
   "source": [
    "# from wide to long\n",
    "timing_cols = [col for col in df_long_1 if col.startswith(\"time_check\")]\n",
    "time_math = [col for col in df_long_1 if col.startswith(\"time_check_math\")]\n",
    "time_eng = [col for col in df_long_1 if col.startswith(\"time_check_eng\")]\n",
    "time_kiny = [col for col in df_long_1 if col.startswith(\"time_check_kiny\")]\n",
    "id_variables = ['duration', 'spv', 'fo', 'district', 'sector', 'school', 'grade', \n",
    "                   'student_code', 'subdate', 'student_code_unsure'] + timing_cols\n",
    "df_long_1 = pd.melt(df_long_1, id_vars= id_variables, \n",
    "                   var_name=\"questions\", value_name=\"answers\").reset_index()"
   ]
  },
  {
   "cell_type": "code",
   "execution_count": 31,
   "metadata": {},
   "outputs": [
    {
     "name": "stdout",
     "output_type": "stream",
     "text": [
      "Index(['spv', 'fo', 'district', 'sector', 'school', 'grade', 'student_code',\n",
      "       'subdate', 'student_code_unsure', 'questions', 'answers'],\n",
      "      dtype='object')\n"
     ]
    }
   ],
   "source": [
    "# subset data that we can use to compare with team 2 data to check for discrepancies\n",
    "df_long_sub_1 = df_long_1.drop(timing_cols + [\"index\",\"duration\"], axis=1)\n",
    "print(df_long_sub_1.columns)"
   ]
  },
  {
   "cell_type": "code",
   "execution_count": null,
   "metadata": {},
   "outputs": [],
   "source": []
  },
  {
   "cell_type": "code",
   "execution_count": null,
   "metadata": {},
   "outputs": [],
   "source": []
  },
  {
   "cell_type": "code",
   "execution_count": null,
   "metadata": {},
   "outputs": [],
   "source": []
  },
  {
   "cell_type": "code",
   "execution_count": null,
   "metadata": {},
   "outputs": [],
   "source": []
  },
  {
   "cell_type": "code",
   "execution_count": null,
   "metadata": {},
   "outputs": [],
   "source": []
  },
  {
   "cell_type": "code",
   "execution_count": null,
   "metadata": {},
   "outputs": [],
   "source": []
  },
  {
   "cell_type": "code",
   "execution_count": null,
   "metadata": {},
   "outputs": [],
   "source": []
  },
  {
   "cell_type": "code",
   "execution_count": null,
   "metadata": {},
   "outputs": [],
   "source": []
  },
  {
   "cell_type": "code",
   "execution_count": null,
   "metadata": {},
   "outputs": [],
   "source": []
  },
  {
   "cell_type": "code",
   "execution_count": null,
   "metadata": {},
   "outputs": [],
   "source": []
  },
  {
   "cell_type": "code",
   "execution_count": null,
   "metadata": {},
   "outputs": [],
   "source": []
  },
  {
   "cell_type": "code",
   "execution_count": null,
   "metadata": {},
   "outputs": [],
   "source": []
  },
  {
   "cell_type": "code",
   "execution_count": null,
   "metadata": {},
   "outputs": [],
   "source": []
  },
  {
   "cell_type": "code",
   "execution_count": null,
   "metadata": {},
   "outputs": [],
   "source": []
  },
  {
   "cell_type": "code",
   "execution_count": null,
   "metadata": {},
   "outputs": [],
   "source": []
  },
  {
   "cell_type": "code",
   "execution_count": null,
   "metadata": {},
   "outputs": [],
   "source": []
  },
  {
   "cell_type": "code",
   "execution_count": null,
   "metadata": {},
   "outputs": [],
   "source": []
  },
  {
   "cell_type": "code",
   "execution_count": null,
   "metadata": {},
   "outputs": [],
   "source": []
  },
  {
   "cell_type": "code",
   "execution_count": null,
   "metadata": {},
   "outputs": [],
   "source": []
  },
  {
   "cell_type": "code",
   "execution_count": null,
   "metadata": {},
   "outputs": [],
   "source": []
  },
  {
   "cell_type": "code",
   "execution_count": null,
   "metadata": {},
   "outputs": [],
   "source": []
  },
  {
   "cell_type": "code",
   "execution_count": null,
   "metadata": {},
   "outputs": [],
   "source": []
  },
  {
   "cell_type": "code",
   "execution_count": null,
   "metadata": {},
   "outputs": [],
   "source": []
  },
  {
   "cell_type": "code",
   "execution_count": null,
   "metadata": {},
   "outputs": [],
   "source": []
  },
  {
   "cell_type": "code",
   "execution_count": null,
   "metadata": {},
   "outputs": [],
   "source": []
  },
  {
   "cell_type": "code",
   "execution_count": null,
   "metadata": {},
   "outputs": [],
   "source": []
  },
  {
   "cell_type": "code",
   "execution_count": null,
   "metadata": {},
   "outputs": [],
   "source": []
  },
  {
   "cell_type": "code",
   "execution_count": null,
   "metadata": {},
   "outputs": [],
   "source": []
  },
  {
   "cell_type": "code",
   "execution_count": null,
   "metadata": {},
   "outputs": [],
   "source": []
  },
  {
   "cell_type": "code",
   "execution_count": null,
   "metadata": {},
   "outputs": [],
   "source": []
  },
  {
   "cell_type": "code",
   "execution_count": null,
   "metadata": {},
   "outputs": [],
   "source": []
  },
  {
   "cell_type": "code",
   "execution_count": null,
   "metadata": {},
   "outputs": [],
   "source": []
  },
  {
   "cell_type": "code",
   "execution_count": null,
   "metadata": {},
   "outputs": [],
   "source": []
  },
  {
   "cell_type": "code",
   "execution_count": null,
   "metadata": {},
   "outputs": [],
   "source": []
  },
  {
   "cell_type": "code",
   "execution_count": null,
   "metadata": {},
   "outputs": [],
   "source": []
  },
  {
   "cell_type": "code",
   "execution_count": null,
   "metadata": {},
   "outputs": [],
   "source": []
  },
  {
   "cell_type": "code",
   "execution_count": null,
   "metadata": {},
   "outputs": [],
   "source": []
  },
  {
   "cell_type": "code",
   "execution_count": null,
   "metadata": {},
   "outputs": [],
   "source": []
  },
  {
   "cell_type": "code",
   "execution_count": null,
   "metadata": {},
   "outputs": [],
   "source": []
  }
 ],
 "metadata": {
  "kernelspec": {
   "display_name": ".venv",
   "language": "python",
   "name": "python3"
  },
  "language_info": {
   "codemirror_mode": {
    "name": "ipython",
    "version": 3
   },
   "file_extension": ".py",
   "mimetype": "text/x-python",
   "name": "python",
   "nbconvert_exporter": "python",
   "pygments_lexer": "ipython3",
   "version": "3.9.13"
  }
 },
 "nbformat": 4,
 "nbformat_minor": 2
}
